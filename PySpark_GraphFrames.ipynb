{
  "cells": [
    {
      "cell_type": "markdown",
      "source": [
        "# Introdução"
      ],
      "metadata": {
        "id": "lS_y2XGBdHOF"
      }
    },
    {
      "cell_type": "markdown",
      "source": [
        "Datasets utilizados:\n",
        "\n",
        "* https://dadosabertos.rfb.gov.br/CNPJ/\n",
        "* https://compras.dados.gov.br/comprasContratos/v1/contratos.html\n",
        "\n",
        "\n",
        "O objetivo principal dessa análise é identificar padrões, relações e insights relevantes que possam surgir do cruzamento entre essas duas fontes de informação. Busca-se compreender como a presença de empresas registradas na Receita Federal se relaciona com sua participação em contratos governamentais firmados a partir de 2021.\n",
        "\n"
      ],
      "metadata": {
        "id": "pijFGo8_dMrt"
      }
    },
    {
      "cell_type": "markdown",
      "metadata": {
        "id": "1aowaj8ORhDc"
      },
      "source": [
        "# Configurando o Spark"
      ]
    },
    {
      "cell_type": "code",
      "execution_count": null,
      "metadata": {
        "colab": {
          "base_uri": "https://localhost:8080/"
        },
        "id": "GgnAEDWrL3b5",
        "outputId": "a285319c-7f11-4574-9f52-43bafbfd50ff"
      },
      "outputs": [
        {
          "output_type": "stream",
          "name": "stdout",
          "text": [
            "sample_data\n"
          ]
        }
      ],
      "source": [
        "!ls\n",
        "#Instacao e configuracao do Java 8\n",
        "!apt-get install openjdk-8-jdk-headless -qq > /dev/null\n",
        "#Download do Apache Spark\n",
        "!wget -q https://apache.osuosl.org/spark/spark-3.5.1/spark-3.5.1-bin-hadoop3.tgz\n",
        "#Descompatacao do Apache Spark\n",
        "!tar xf spark-3.5.1-bin-hadoop3.tgz"
      ]
    },
    {
      "cell_type": "code",
      "execution_count": null,
      "metadata": {
        "colab": {
          "base_uri": "https://localhost:8080/"
        },
        "id": "q_ZX-kRCCIQ3",
        "outputId": "f25c8eb4-35b6-415a-ac79-9e3cc64488ab"
      },
      "outputs": [
        {
          "output_type": "stream",
          "name": "stdout",
          "text": [
            "sample_data  spark-3.5.1-bin-hadoop3  spark-3.5.1-bin-hadoop3.tgz\n"
          ]
        }
      ],
      "source": [
        "!ls"
      ]
    },
    {
      "cell_type": "code",
      "execution_count": null,
      "metadata": {
        "id": "ksZSlBaML4mt"
      },
      "outputs": [],
      "source": [
        "import os\n",
        "os.environ[\"JAVA_HOME\"] = \"/usr/lib/jvm/java-8-openjdk-amd64\"\n",
        "os.environ[\"SPARK_HOME\"] = \"/content/spark-3.5.1-bin-hadoop3\"\n",
        "os.environ[\"JAVA_OPTS\"] = \"-Xmx8G\""
      ]
    },
    {
      "cell_type": "code",
      "source": [
        "!curl -L -o \"/content/spark-3.5.1-bin-hadoop3/jars/graphframes-0.8.2-spark3.2-s_2.12.jar\" https://repos.spark-packages.org/graphframes/graphframes/0.8.2-spark3.2-s_2.12/graphframes-0.8.2-spark3.2-s_2.12.jar\n",
        "\n",
        "# Foi baixado mas não está sendo parametrizado. -> Mesmo assim o GraphFrames está funcionando."
      ],
      "metadata": {
        "colab": {
          "base_uri": "https://localhost:8080/"
        },
        "id": "v8YTXAl28tpG",
        "outputId": "0a98183a-212e-4a8e-9316-78717d8b9141"
      },
      "execution_count": null,
      "outputs": [
        {
          "output_type": "stream",
          "name": "stdout",
          "text": [
            "  % Total    % Received % Xferd  Average Speed   Time    Time     Time  Current\n",
            "                                 Dload  Upload   Total   Spent    Left  Speed\n",
            "100  242k  100  242k    0     0  1326k      0 --:--:-- --:--:-- --:--:-- 1330k\n"
          ]
        }
      ]
    },
    {
      "cell_type": "code",
      "source": [
        "#Instalacao do Findspark\n",
        "!pip install -q findspark"
      ],
      "metadata": {
        "id": "iydvprUhLEbl"
      },
      "execution_count": null,
      "outputs": []
    },
    {
      "cell_type": "code",
      "execution_count": null,
      "metadata": {
        "id": "1DMAxHw4L9tB"
      },
      "outputs": [],
      "source": [
        "import findspark\n",
        "findspark.init()\n",
        "from pyspark.sql import SparkSession\n",
        "# A versão que está sendo chamada é a graphframes:graphframes:0.7.0-spark2.4-s_2.11 e ela não existe nos arquivos jars.\n",
        "# O GraphFrames já vem como padrão?\n",
        "spark = SparkSession.builder.master(\"local[*]\").config(\"spark.jars.packages\", \"graphframes:graphframes:0.7.0-spark2.4-s_2.11\").getOrCreate()"
      ]
    },
    {
      "cell_type": "code",
      "execution_count": null,
      "metadata": {
        "colab": {
          "base_uri": "https://localhost:8080/"
        },
        "id": "C5Y6pes6e2FS",
        "outputId": "b314a706-7cd0-4af6-ac71-a3196498a1c5"
      },
      "outputs": [
        {
          "output_type": "stream",
          "name": "stdout",
          "text": [
            "Mounted at /content/drive\n"
          ]
        }
      ],
      "source": [
        "from google.colab import drive\n",
        "drive.mount('/content/drive')"
      ]
    },
    {
      "cell_type": "code",
      "source": [
        "#from google.colab import drive\n",
        "#drive.flush_and_unmount()"
      ],
      "metadata": {
        "id": "ZhC3ntPx86rq"
      },
      "execution_count": null,
      "outputs": []
    },
    {
      "cell_type": "markdown",
      "metadata": {
        "id": "OViq9VLlRog5"
      },
      "source": [
        "**Validando a configuração do Spark**"
      ]
    },
    {
      "cell_type": "code",
      "execution_count": null,
      "metadata": {
        "colab": {
          "base_uri": "https://localhost:8080/"
        },
        "id": "KU10e71BL_U_",
        "outputId": "0c773558-15c5-4d0a-c444-3395e09caa53"
      },
      "outputs": [
        {
          "output_type": "stream",
          "name": "stdout",
          "text": [
            "3.5.1\n"
          ]
        }
      ],
      "source": [
        "import pyspark\n",
        "print(pyspark.__version__)"
      ]
    },
    {
      "cell_type": "markdown",
      "source": [
        "**Validando o GraphFrames**"
      ],
      "metadata": {
        "id": "C740gw0o9ImN"
      }
    },
    {
      "cell_type": "code",
      "source": [
        "from graphframes import *"
      ],
      "metadata": {
        "id": "VJ6nbklu9PqH"
      },
      "execution_count": null,
      "outputs": []
    },
    {
      "cell_type": "markdown",
      "source": [
        "# Baixando e Listando os Arquivos"
      ],
      "metadata": {
        "id": "LCvtsFAM9iJ_"
      }
    },
    {
      "cell_type": "code",
      "source": [
        "!mkdir /content/drive/MyDrive/Datasets\n",
        "!mkdir /content/drive/MyDrive/CNPJ_Download\n",
        "!mkdir /content/drive/MyDrive/Datasets/CNPJ"
      ],
      "metadata": {
        "id": "jz_AOQPTCtCc"
      },
      "execution_count": null,
      "outputs": []
    },
    {
      "cell_type": "code",
      "source": [
        "!mkdir /content/drive/MyDrive/Datasets/CNPJ/Empresas\n",
        "!mkdir /content/drive/MyDrive/CNPJ_Download/Empresas"
      ],
      "metadata": {
        "id": "0_ySD5wwZ6fc"
      },
      "execution_count": null,
      "outputs": []
    },
    {
      "cell_type": "code",
      "source": [
        "!curl -X GET --header 'Accept: application/json' https://dadosabertos.rfb.gov.br/CNPJ/Empresas0.zip > /content/drive/MyDrive/CNPJ_Download/Empresas/Empresas0.zip\n",
        "!curl -X GET --header 'Accept: application/json' https://dadosabertos.rfb.gov.br/CNPJ/Empresas1.zip > /content/drive/MyDrive/CNPJ_Download/Empresas/Empresas1.zip\n",
        "!curl -X GET --header 'Accept: application/json' https://dadosabertos.rfb.gov.br/CNPJ/Empresas2.zip > /content/drive/MyDrive/CNPJ_Download/Empresas/Empresas2.zip\n",
        "!curl -X GET --header 'Accept: application/json' https://dadosabertos.rfb.gov.br/CNPJ/Empresas3.zip > /content/drive/MyDrive/CNPJ_Download/Empresas/Empresas3.zip\n",
        "!curl -X GET --header 'Accept: application/json' https://dadosabertos.rfb.gov.br/CNPJ/Empresas4.zip > /content/drive/MyDrive/CNPJ_Download/Empresas/Empresas4.zip\n",
        "!curl -X GET --header 'Accept: application/json' https://dadosabertos.rfb.gov.br/CNPJ/Empresas5.zip > /content/drive/MyDrive/CNPJ_Download/Empresas/Empresas5.zip\n",
        "!curl -X GET --header 'Accept: application/json' https://dadosabertos.rfb.gov.br/CNPJ/Empresas6.zip > /content/drive/MyDrive/CNPJ_Download/Empresas/Empresas6.zip\n",
        "!curl -X GET --header 'Accept: application/json' https://dadosabertos.rfb.gov.br/CNPJ/Empresas7.zip > /content/drive/MyDrive/CNPJ_Download/Empresas/Empresas7.zip\n",
        "!curl -X GET --header 'Accept: application/json' https://dadosabertos.rfb.gov.br/CNPJ/Empresas8.zip > /content/drive/MyDrive/CNPJ_Download/Empresas/Empresas8.zip\n",
        "!curl -X GET --header 'Accept: application/json' https://dadosabertos.rfb.gov.br/CNPJ/Empresas9.zip > /content/drive/MyDrive/CNPJ_Download/Empresas/Empresas9.zip"
      ],
      "metadata": {
        "colab": {
          "base_uri": "https://localhost:8080/"
        },
        "id": "8kkoXGQ4-_WI",
        "outputId": "b75727a6-3c4c-46a8-f370-160e5ac41669"
      },
      "execution_count": null,
      "outputs": [
        {
          "output_type": "stream",
          "name": "stdout",
          "text": [
            "  % Total    % Received % Xferd  Average Speed   Time    Time     Time  Current\n",
            "                                 Dload  Upload   Total   Spent    Left  Speed\n",
            "100  301M  100  301M    0     0  6987k      0  0:00:44  0:00:44 --:--:-- 9392k\n",
            "  % Total    % Received % Xferd  Average Speed   Time    Time     Time  Current\n",
            "                                 Dload  Upload   Total   Spent    Left  Speed\n",
            "100 74.1M  100 74.1M    0     0  5231k      0  0:00:14  0:00:14 --:--:-- 6864k\n",
            "  % Total    % Received % Xferd  Average Speed   Time    Time     Time  Current\n",
            "                                 Dload  Upload   Total   Spent    Left  Speed\n",
            "100 75.3M  100 75.3M    0     0  4767k      0  0:00:16  0:00:16 --:--:-- 5512k\n",
            "  % Total    % Received % Xferd  Average Speed   Time    Time     Time  Current\n",
            "                                 Dload  Upload   Total   Spent    Left  Speed\n",
            "100 81.2M  100 81.2M    0     0  4176k      0  0:00:19  0:00:19 --:--:-- 5465k\n",
            "  % Total    % Received % Xferd  Average Speed   Time    Time     Time  Current\n",
            "                                 Dload  Upload   Total   Spent    Left  Speed\n",
            "100 86.2M  100 86.2M    0     0  5050k      0  0:00:17  0:00:17 --:--:-- 6321k\n",
            "  % Total    % Received % Xferd  Average Speed   Time    Time     Time  Current\n",
            "                                 Dload  Upload   Total   Spent    Left  Speed\n",
            "100 93.1M  100 93.1M    0     0  5058k      0  0:00:18  0:00:18 --:--:-- 6988k\n",
            "  % Total    % Received % Xferd  Average Speed   Time    Time     Time  Current\n",
            "                                 Dload  Upload   Total   Spent    Left  Speed\n",
            "100 90.3M  100 90.3M    0     0  5985k      0  0:00:15  0:00:15 --:--:-- 7536k\n",
            "  % Total    % Received % Xferd  Average Speed   Time    Time     Time  Current\n",
            "                                 Dload  Upload   Total   Spent    Left  Speed\n",
            "100 94.9M  100 94.9M    0     0  3992k      0  0:00:24  0:00:24 --:--:-- 7178k\n",
            "  % Total    % Received % Xferd  Average Speed   Time    Time     Time  Current\n",
            "                                 Dload  Upload   Total   Spent    Left  Speed\n",
            "100 95.2M  100 95.2M    0     0  6390k      0  0:00:15  0:00:15 --:--:-- 8194k\n",
            "  % Total    % Received % Xferd  Average Speed   Time    Time     Time  Current\n",
            "                                 Dload  Upload   Total   Spent    Left  Speed\n",
            "100 90.9M  100 90.9M    0     0  5477k      0  0:00:17  0:00:17 --:--:-- 6966k\n"
          ]
        }
      ]
    },
    {
      "cell_type": "code",
      "source": [
        "!unzip /content/drive/MyDrive/CNPJ_Download/Empresas/Empresas0.zip -d /content/drive/MyDrive/Datasets/CNPJ/Empresas\n",
        "!unzip /content/drive/MyDrive/CNPJ_Download/Empresas/Empresas1.zip -d /content/drive/MyDrive/Datasets/CNPJ/Empresas\n",
        "!unzip /content/drive/MyDrive/CNPJ_Download/Empresas/Empresas2.zip -d /content/drive/MyDrive/Datasets/CNPJ/Empresas\n",
        "!unzip /content/drive/MyDrive/CNPJ_Download/Empresas/Empresas3.zip -d /content/drive/MyDrive/Datasets/CNPJ/Empresas\n",
        "!unzip /content/drive/MyDrive/CNPJ_Download/Empresas/Empresas4.zip -d /content/drive/MyDrive/Datasets/CNPJ/Empresas\n",
        "!unzip /content/drive/MyDrive/CNPJ_Download/Empresas/Empresas5.zip -d /content/drive/MyDrive/Datasets/CNPJ/Empresas\n",
        "!unzip /content/drive/MyDrive/CNPJ_Download/Empresas/Empresas6.zip -d /content/drive/MyDrive/Datasets/CNPJ/Empresas\n",
        "!unzip /content/drive/MyDrive/CNPJ_Download/Empresas/Empresas7.zip -d /content/drive/MyDrive/Datasets/CNPJ/Empresas\n",
        "!unzip /content/drive/MyDrive/CNPJ_Download/Empresas/Empresas8.zip -d /content/drive/MyDrive/Datasets/CNPJ/Empresas\n",
        "!unzip /content/drive/MyDrive/CNPJ_Download/Empresas/Empresas9.zip -d /content/drive/MyDrive/Datasets/CNPJ/Empresas"
      ],
      "metadata": {
        "colab": {
          "base_uri": "https://localhost:8080/"
        },
        "id": "d-mZN6F-D0Hd",
        "outputId": "dbd9f420-924b-4fdc-d3ed-28aafee9016c"
      },
      "execution_count": null,
      "outputs": [
        {
          "output_type": "stream",
          "name": "stdout",
          "text": [
            "Archive:  /content/drive/MyDrive/Datasets/CNPJ/Empresas0.zip\n",
            "  inflating: /content/drive/MyDrive/Datasets/CNPJ/K3241.K03200Y0.D40210.EMPRECSV  \n",
            "Archive:  /content/drive/MyDrive/Datasets/CNPJ/Empresas1.zip\n",
            "  inflating: /content/drive/MyDrive/Datasets/CNPJ/K3241.K03200Y1.D40210.EMPRECSV  \n",
            "Archive:  /content/drive/MyDrive/Datasets/CNPJ/Empresas2.zip\n",
            "  inflating: /content/drive/MyDrive/Datasets/CNPJ/K3241.K03200Y2.D40210.EMPRECSV  \n",
            "Archive:  /content/drive/MyDrive/Datasets/CNPJ/Empresas3.zip\n",
            "  inflating: /content/drive/MyDrive/Datasets/CNPJ/K3241.K03200Y3.D40210.EMPRECSV  \n",
            "Archive:  /content/drive/MyDrive/Datasets/CNPJ/Empresas4.zip\n",
            "  inflating: /content/drive/MyDrive/Datasets/CNPJ/K3241.K03200Y4.D40210.EMPRECSV  \n",
            "Archive:  /content/drive/MyDrive/Datasets/CNPJ/Empresas5.zip\n",
            "  inflating: /content/drive/MyDrive/Datasets/CNPJ/K3241.K03200Y5.D40210.EMPRECSV  \n",
            "Archive:  /content/drive/MyDrive/Datasets/CNPJ/Empresas6.zip\n",
            "  inflating: /content/drive/MyDrive/Datasets/CNPJ/K3241.K03200Y6.D40210.EMPRECSV  \n",
            "Archive:  /content/drive/MyDrive/Datasets/CNPJ/Empresas7.zip\n",
            "  inflating: /content/drive/MyDrive/Datasets/CNPJ/K3241.K03200Y7.D40210.EMPRECSV  \n",
            "Archive:  /content/drive/MyDrive/Datasets/CNPJ/Empresas8.zip\n",
            "  inflating: /content/drive/MyDrive/Datasets/CNPJ/K3241.K03200Y8.D40210.EMPRECSV  \n",
            "Archive:  /content/drive/MyDrive/Datasets/CNPJ/Empresas9.zip\n",
            "  inflating: /content/drive/MyDrive/Datasets/CNPJ/K3241.K03200Y9.D40210.EMPRECSV  \n"
          ]
        }
      ]
    },
    {
      "cell_type": "code",
      "source": [
        "!mkdir /content/drive/MyDrive/Datasets/CNPJ/Estabelecimentos\n",
        "!mkdir /content/drive/MyDrive/CNPJ_Download/Estabelecimentos"
      ],
      "metadata": {
        "id": "U4Ctr1Qfb3HL"
      },
      "execution_count": null,
      "outputs": []
    },
    {
      "cell_type": "code",
      "source": [
        "!curl -X GET --header 'Accept: application/json' https://dadosabertos.rfb.gov.br/CNPJ/Estabelecimentos0.zip > /content/drive/MyDrive/CNPJ_Download/Estabelecimentos/Estabelecimentos0.zip\n",
        "!curl -X GET --header 'Accept: application/json' https://dadosabertos.rfb.gov.br/CNPJ/Estabelecimentos1.zip > /content/drive/MyDrive/CNPJ_Download/Estabelecimentos/Estabelecimentos1.zip\n",
        "!curl -X GET --header 'Accept: application/json' https://dadosabertos.rfb.gov.br/CNPJ/Estabelecimentos2.zip > /content/drive/MyDrive/CNPJ_Download/Estabelecimentos/Estabelecimentos2.zip\n",
        "!curl -X GET --header 'Accept: application/json' https://dadosabertos.rfb.gov.br/CNPJ/Estabelecimentos3.zip > /content/drive/MyDrive/CNPJ_Download/Estabelecimentos/Estabelecimentos3.zip\n",
        "!curl -X GET --header 'Accept: application/json' https://dadosabertos.rfb.gov.br/CNPJ/Estabelecimentos4.zip > /content/drive/MyDrive/CNPJ_Download/Estabelecimentos/Estabelecimentos4.zip\n",
        "!curl -X GET --header 'Accept: application/json' https://dadosabertos.rfb.gov.br/CNPJ/Estabelecimentos5.zip > /content/drive/MyDrive/CNPJ_Download/Estabelecimentos/Estabelecimentos5.zip\n",
        "!curl -X GET --header 'Accept: application/json' https://dadosabertos.rfb.gov.br/CNPJ/Estabelecimentos6.zip > /content/drive/MyDrive/CNPJ_Download/Estabelecimentos/Estabelecimentos6.zip\n",
        "!curl -X GET --header 'Accept: application/json' https://dadosabertos.rfb.gov.br/CNPJ/Estabelecimentos7.zip > /content/drive/MyDrive/CNPJ_Download/Estabelecimentos/Estabelecimentos7.zip\n",
        "!curl -X GET --header 'Accept: application/json' https://dadosabertos.rfb.gov.br/CNPJ/Estabelecimentos8.zip > /content/drive/MyDrive/CNPJ_Download/Estabelecimentos/Estabelecimentos8.zip\n",
        "!curl -X GET --header 'Accept: application/json' https://dadosabertos.rfb.gov.br/CNPJ/Estabelecimentos9.zip > /content/drive/MyDrive/CNPJ_Download/Estabelecimentos/Estabelecimentos9.zip"
      ],
      "metadata": {
        "colab": {
          "base_uri": "https://localhost:8080/"
        },
        "id": "573tmbBxcNls",
        "outputId": "accd589f-1b57-49b8-84af-f547aee7afd1"
      },
      "execution_count": null,
      "outputs": [
        {
          "output_type": "stream",
          "name": "stdout",
          "text": [
            "  % Total    % Received % Xferd  Average Speed   Time    Time     Time  Current\n",
            "                                 Dload  Upload   Total   Spent    Left  Speed\n",
            "100 1166M  100 1166M    0     0  3058k      0  0:06:30  0:06:30 --:--:--  873k\n",
            "  % Total    % Received % Xferd  Average Speed   Time    Time     Time  Current\n",
            "                                 Dload  Upload   Total   Spent    Left  Speed\n",
            "100  322M  100  322M    0     0  1675k      0  0:03:17  0:03:17 --:--:-- 5817k\n",
            "  % Total    % Received % Xferd  Average Speed   Time    Time     Time  Current\n",
            "                                 Dload  Upload   Total   Spent    Left  Speed\n",
            "100  322M  100  322M    0     0  5881k      0  0:00:56  0:00:56 --:--:-- 5704k\n",
            "  % Total    % Received % Xferd  Average Speed   Time    Time     Time  Current\n",
            "                                 Dload  Upload   Total   Spent    Left  Speed\n",
            "100  320M  100  320M    0     0  6248k      0  0:00:52  0:00:52 --:--:-- 6891k\n",
            "  % Total    % Received % Xferd  Average Speed   Time    Time     Time  Current\n",
            "                                 Dload  Upload   Total   Spent    Left  Speed\n",
            "100  329M  100  329M    0     0  7467k      0  0:00:45  0:00:45 --:--:-- 6524k\n",
            "  % Total    % Received % Xferd  Average Speed   Time    Time     Time  Current\n",
            "                                 Dload  Upload   Total   Spent    Left  Speed\n",
            "100  343M  100  343M    0     0  6590k      0  0:00:53  0:00:53 --:--:-- 8776k\n",
            "  % Total    % Received % Xferd  Average Speed   Time    Time     Time  Current\n",
            "                                 Dload  Upload   Total   Spent    Left  Speed\n",
            "100  322M  100  322M    0     0  7019k      0  0:00:47  0:00:47 --:--:-- 6875k\n",
            "  % Total    % Received % Xferd  Average Speed   Time    Time     Time  Current\n",
            "                                 Dload  Upload   Total   Spent    Left  Speed\n",
            "100  322M  100  322M    0     0  5765k      0  0:00:57  0:00:57 --:--:-- 6011k\n",
            "  % Total    % Received % Xferd  Average Speed   Time    Time     Time  Current\n",
            "                                 Dload  Upload   Total   Spent    Left  Speed\n",
            "100  321M  100  321M    0     0  6653k      0  0:00:49  0:00:49 --:--:-- 7751k\n",
            "  % Total    % Received % Xferd  Average Speed   Time    Time     Time  Current\n",
            "                                 Dload  Upload   Total   Spent    Left  Speed\n",
            "100  329M  100  329M    0     0  7151k      0  0:00:47  0:00:47 --:--:-- 7855k\n"
          ]
        }
      ]
    },
    {
      "cell_type": "code",
      "source": [
        "!unzip /content/drive/MyDrive/CNPJ_Download/Estabelecimentos/Estabelecimentos0.zip -d /content/drive/MyDrive/Datasets/CNPJ/Estabelecimentos\n",
        "!unzip /content/drive/MyDrive/CNPJ_Download/Estabelecimentos/Estabelecimentos1.zip -d /content/drive/MyDrive/Datasets/CNPJ/Estabelecimentos\n",
        "!unzip /content/drive/MyDrive/CNPJ_Download/Estabelecimentos/Estabelecimentos2.zip -d /content/drive/MyDrive/Datasets/CNPJ/Estabelecimentos\n",
        "!unzip /content/drive/MyDrive/CNPJ_Download/Estabelecimentos/Estabelecimentos3.zip -d /content/drive/MyDrive/Datasets/CNPJ/Estabelecimentos\n",
        "!unzip /content/drive/MyDrive/CNPJ_Download/Estabelecimentos/Estabelecimentos4.zip -d /content/drive/MyDrive/Datasets/CNPJ/Estabelecimentos\n",
        "!unzip /content/drive/MyDrive/CNPJ_Download/Estabelecimentos/Estabelecimentos5.zip -d /content/drive/MyDrive/Datasets/CNPJ/Estabelecimentos\n",
        "!unzip /content/drive/MyDrive/CNPJ_Download/Estabelecimentos/Estabelecimentos6.zip -d /content/drive/MyDrive/Datasets/CNPJ/Estabelecimentos\n",
        "!unzip /content/drive/MyDrive/CNPJ_Download/Estabelecimentos/Estabelecimentos7.zip -d /content/drive/MyDrive/Datasets/CNPJ/Estabelecimentos\n",
        "!unzip /content/drive/MyDrive/CNPJ_Download/Estabelecimentos/Estabelecimentos8.zip -d /content/drive/MyDrive/Datasets/CNPJ/Estabelecimentos\n",
        "!unzip /content/drive/MyDrive/CNPJ_Download/Estabelecimentos/Estabelecimentos9.zip -d /content/drive/MyDrive/Datasets/CNPJ/Estabelecimentos"
      ],
      "metadata": {
        "colab": {
          "base_uri": "https://localhost:8080/"
        },
        "id": "LwdowPi5cqN0",
        "outputId": "c7983c72-2f76-490e-ca98-0e87f962ae70"
      },
      "execution_count": null,
      "outputs": [
        {
          "output_type": "stream",
          "name": "stdout",
          "text": [
            "Archive:  /content/drive/MyDrive/CNPJ_Download/Estabelecimentos/Estabelecimentos0.zip\n",
            "  inflating: /content/drive/MyDrive/Datasets/CNPJ/Estabelecimentos/K3241.K03200Y0.D40210.ESTABELE  \n",
            "Archive:  /content/drive/MyDrive/CNPJ_Download/Estabelecimentos/Estabelecimentos1.zip\n",
            "  inflating: /content/drive/MyDrive/Datasets/CNPJ/Estabelecimentos/K3241.K03200Y1.D40210.ESTABELE  \n",
            "Archive:  /content/drive/MyDrive/CNPJ_Download/Estabelecimentos/Estabelecimentos2.zip\n",
            "  inflating: /content/drive/MyDrive/Datasets/CNPJ/Estabelecimentos/K3241.K03200Y2.D40210.ESTABELE  \n",
            "Archive:  /content/drive/MyDrive/CNPJ_Download/Estabelecimentos/Estabelecimentos3.zip\n",
            "  inflating: /content/drive/MyDrive/Datasets/CNPJ/Estabelecimentos/K3241.K03200Y3.D40210.ESTABELE  \n",
            "Archive:  /content/drive/MyDrive/CNPJ_Download/Estabelecimentos/Estabelecimentos4.zip\n",
            "  inflating: /content/drive/MyDrive/Datasets/CNPJ/Estabelecimentos/K3241.K03200Y4.D40210.ESTABELE  \n",
            "Archive:  /content/drive/MyDrive/CNPJ_Download/Estabelecimentos/Estabelecimentos5.zip\n",
            "  inflating: /content/drive/MyDrive/Datasets/CNPJ/Estabelecimentos/K3241.K03200Y5.D40210.ESTABELE  \n",
            "Archive:  /content/drive/MyDrive/CNPJ_Download/Estabelecimentos/Estabelecimentos6.zip\n",
            "  inflating: /content/drive/MyDrive/Datasets/CNPJ/Estabelecimentos/K3241.K03200Y6.D40210.ESTABELE  \n",
            "Archive:  /content/drive/MyDrive/CNPJ_Download/Estabelecimentos/Estabelecimentos7.zip\n",
            "  inflating: /content/drive/MyDrive/Datasets/CNPJ/Estabelecimentos/K3241.K03200Y7.D40210.ESTABELE  \n",
            "Archive:  /content/drive/MyDrive/CNPJ_Download/Estabelecimentos/Estabelecimentos8.zip\n",
            "  inflating: /content/drive/MyDrive/Datasets/CNPJ/Estabelecimentos/K3241.K03200Y8.D40210.ESTABELE  \n",
            "Archive:  /content/drive/MyDrive/CNPJ_Download/Estabelecimentos/Estabelecimentos9.zip\n",
            "  inflating: /content/drive/MyDrive/Datasets/CNPJ/Estabelecimentos/K3241.K03200Y9.D40210.ESTABELE  \n"
          ]
        }
      ]
    },
    {
      "cell_type": "code",
      "source": [
        "!mkdir /content/drive/MyDrive/Datasets/CNPJ/Cnaes\n",
        "!mkdir /content/drive/MyDrive/CNPJ_Download/Cnaes"
      ],
      "metadata": {
        "id": "azp5Sk0EdM5W"
      },
      "execution_count": null,
      "outputs": []
    },
    {
      "cell_type": "code",
      "source": [
        "!curl -X GET --header 'Accept: application/json' https://dadosabertos.rfb.gov.br/CNPJ/Cnaes.zip > /content/drive/MyDrive/CNPJ_Download/Cnaes/Cnaes.zip"
      ],
      "metadata": {
        "colab": {
          "base_uri": "https://localhost:8080/"
        },
        "id": "FaQIKRd7dVea",
        "outputId": "71a0775e-abda-465d-a566-9be23d4f7695"
      },
      "execution_count": null,
      "outputs": [
        {
          "output_type": "stream",
          "name": "stdout",
          "text": [
            "  % Total    % Received % Xferd  Average Speed   Time    Time     Time  Current\n",
            "                                 Dload  Upload   Total   Spent    Left  Speed\n",
            "100 22078  100 22078    0     0  16409      0  0:00:01  0:00:01 --:--:-- 16402\n"
          ]
        }
      ]
    },
    {
      "cell_type": "code",
      "source": [
        "!unzip /content/drive/MyDrive/CNPJ_Download/Cnaes/Cnaes.zip -d /content/drive/MyDrive/Datasets/CNPJ/Cnaes"
      ],
      "metadata": {
        "colab": {
          "base_uri": "https://localhost:8080/"
        },
        "id": "rxKm8qJpdlq6",
        "outputId": "c06ad666-ae07-4125-91e7-08f3552f8200"
      },
      "execution_count": null,
      "outputs": [
        {
          "output_type": "stream",
          "name": "stdout",
          "text": [
            "Archive:  /content/drive/MyDrive/CNPJ_Download/Cnaes/Cnaes.zip\n",
            "  inflating: /content/drive/MyDrive/Datasets/CNPJ/Cnaes/F.K03200$Z.D40210.CNAECSV  \n"
          ]
        }
      ]
    },
    {
      "cell_type": "code",
      "source": [
        "!mkdir /content/drive/MyDrive/Datasets/CNPJ/Qualificacoes\n",
        "!mkdir /content/drive/MyDrive/CNPJ_Download/Qualificacoes"
      ],
      "metadata": {
        "id": "1puvZBvgdyac"
      },
      "execution_count": null,
      "outputs": []
    },
    {
      "cell_type": "code",
      "source": [
        "!curl -X GET --header 'Accept: application/json' https://dadosabertos.rfb.gov.br/CNPJ/Qualificacoes.zip > /content/drive/MyDrive/CNPJ_Download/Qualificacoes/Qualificacoes.zip"
      ],
      "metadata": {
        "colab": {
          "base_uri": "https://localhost:8080/"
        },
        "id": "MzLAs5Hbd73a",
        "outputId": "89caf891-ee02-4bbf-bbb5-3f88179b551e"
      },
      "execution_count": null,
      "outputs": [
        {
          "output_type": "stream",
          "name": "stdout",
          "text": [
            "  % Total    % Received % Xferd  Average Speed   Time    Time     Time  Current\n",
            "                                 Dload  Upload   Total   Spent    Left  Speed\n",
            "100   980  100   980    0     0   1150      0 --:--:-- --:--:-- --:--:--  1150\n"
          ]
        }
      ]
    },
    {
      "cell_type": "code",
      "source": [
        "!unzip /content/drive/MyDrive/CNPJ_Download/Qualificacoes/Qualificacoes.zip -d /content/drive/MyDrive/Datasets/CNPJ/Qualificacoes"
      ],
      "metadata": {
        "colab": {
          "base_uri": "https://localhost:8080/"
        },
        "id": "HUY6PqVjeKip",
        "outputId": "60c21a34-c6c4-42ac-d0a4-2d2f77de8e90"
      },
      "execution_count": null,
      "outputs": [
        {
          "output_type": "stream",
          "name": "stdout",
          "text": [
            "Archive:  /content/drive/MyDrive/CNPJ_Download/Qualificacoes/Qualificacoes.zip\n",
            "  inflating: /content/drive/MyDrive/Datasets/CNPJ/Qualificacoes/F.K03200$Z.D40210.QUALSCSV  \n"
          ]
        }
      ]
    },
    {
      "cell_type": "code",
      "source": [
        "!mkdir /content/drive/MyDrive/Datasets/CNPJ/Socios\n",
        "!mkdir /content/drive/MyDrive/CNPJ_Download/Socios"
      ],
      "metadata": {
        "id": "9-h1wai_eV-t"
      },
      "execution_count": null,
      "outputs": []
    },
    {
      "cell_type": "code",
      "source": [
        "!curl -X GET --header 'Accept: application/json' https://dadosabertos.rfb.gov.br/CNPJ/Socios0.zip > /content/drive/MyDrive/CNPJ_Download/Socios/Socios0.zip\n",
        "!curl -X GET --header 'Accept: application/json' https://dadosabertos.rfb.gov.br/CNPJ/Socios1.zip > /content/drive/MyDrive/CNPJ_Download/Socios/Socios1.zip\n",
        "!curl -X GET --header 'Accept: application/json' https://dadosabertos.rfb.gov.br/CNPJ/Socios2.zip > /content/drive/MyDrive/CNPJ_Download/Socios/Socios2.zip\n",
        "!curl -X GET --header 'Accept: application/json' https://dadosabertos.rfb.gov.br/CNPJ/Socios3.zip > /content/drive/MyDrive/CNPJ_Download/Socios/Socios3.zip\n",
        "!curl -X GET --header 'Accept: application/json' https://dadosabertos.rfb.gov.br/CNPJ/Socios4.zip > /content/drive/MyDrive/CNPJ_Download/Socios/Socios4.zip\n",
        "!curl -X GET --header 'Accept: application/json' https://dadosabertos.rfb.gov.br/CNPJ/Socios5.zip > /content/drive/MyDrive/CNPJ_Download/Socios/Socios5.zip\n",
        "!curl -X GET --header 'Accept: application/json' https://dadosabertos.rfb.gov.br/CNPJ/Socios6.zip > /content/drive/MyDrive/CNPJ_Download/Socios/Socios6.zip\n",
        "!curl -X GET --header 'Accept: application/json' https://dadosabertos.rfb.gov.br/CNPJ/Socios7.zip > /content/drive/MyDrive/CNPJ_Download/Socios/Socios7.zip\n",
        "!curl -X GET --header 'Accept: application/json' https://dadosabertos.rfb.gov.br/CNPJ/Socios8.zip > /content/drive/MyDrive/CNPJ_Download/Socios/Socios8.zip\n",
        "!curl -X GET --header 'Accept: application/json' https://dadosabertos.rfb.gov.br/CNPJ/Socios9.zip > /content/drive/MyDrive/CNPJ_Download/Socios/Socios9.zip"
      ],
      "metadata": {
        "colab": {
          "base_uri": "https://localhost:8080/"
        },
        "id": "98-P2RU1edo8",
        "outputId": "86d7974b-08a4-4408-be90-e679b24aa332"
      },
      "execution_count": null,
      "outputs": [
        {
          "output_type": "stream",
          "name": "stdout",
          "text": [
            "  % Total    % Received % Xferd  Average Speed   Time    Time     Time  Current\n",
            "                                 Dload  Upload   Total   Spent    Left  Speed\n",
            "100  129M  100  129M    0     0  4817k      0  0:00:27  0:00:27 --:--:-- 8319k\n",
            "  % Total    % Received % Xferd  Average Speed   Time    Time     Time  Current\n",
            "                                 Dload  Upload   Total   Spent    Left  Speed\n",
            "100 47.0M  100 47.0M    0     0  4134k      0  0:00:11  0:00:11 --:--:-- 5568k\n",
            "  % Total    % Received % Xferd  Average Speed   Time    Time     Time  Current\n",
            "                                 Dload  Upload   Total   Spent    Left  Speed\n",
            "100 46.9M  100 46.9M    0     0  3391k      0  0:00:14  0:00:14 --:--:-- 4275k\n",
            "  % Total    % Received % Xferd  Average Speed   Time    Time     Time  Current\n",
            "                                 Dload  Upload   Total   Spent    Left  Speed\n",
            "100 46.8M  100 46.8M    0     0  3237k      0  0:00:14  0:00:14 --:--:-- 4004k\n",
            "  % Total    % Received % Xferd  Average Speed   Time    Time     Time  Current\n",
            "                                 Dload  Upload   Total   Spent    Left  Speed\n",
            "100 47.0M  100 47.0M    0     0  4336k      0  0:00:11  0:00:11 --:--:-- 5573k\n",
            "  % Total    % Received % Xferd  Average Speed   Time    Time     Time  Current\n",
            "                                 Dload  Upload   Total   Spent    Left  Speed\n",
            "100 46.7M  100 46.7M    0     0  4374k      0  0:00:10  0:00:10 --:--:-- 5775k\n",
            "  % Total    % Received % Xferd  Average Speed   Time    Time     Time  Current\n",
            "                                 Dload  Upload   Total   Spent    Left  Speed\n",
            "100 46.8M  100 46.8M    0     0  1090k      0  0:00:43  0:00:43 --:--:--  975k\n",
            "  % Total    % Received % Xferd  Average Speed   Time    Time     Time  Current\n",
            "                                 Dload  Upload   Total   Spent    Left  Speed\n",
            "100 47.0M  100 47.0M    0     0  1396k      0  0:00:34  0:00:34 --:--:-- 2591k\n",
            "  % Total    % Received % Xferd  Average Speed   Time    Time     Time  Current\n",
            "                                 Dload  Upload   Total   Spent    Left  Speed\n",
            "100 47.0M  100 47.0M    0     0  4259k      0  0:00:11  0:00:11 --:--:-- 5813k\n",
            "  % Total    % Received % Xferd  Average Speed   Time    Time     Time  Current\n",
            "                                 Dload  Upload   Total   Spent    Left  Speed\n",
            "100 46.8M  100 46.8M    0     0  4888k      0  0:00:09  0:00:09 --:--:-- 6537k\n"
          ]
        }
      ]
    },
    {
      "cell_type": "code",
      "source": [
        "!unzip /content/drive/MyDrive/CNPJ_Download/Socios/Socios0.zip -d /content/drive/MyDrive/Datasets/CNPJ/Socios\n",
        "!unzip /content/drive/MyDrive/CNPJ_Download/Socios/Socios1.zip -d /content/drive/MyDrive/Datasets/CNPJ/Socios\n",
        "!unzip /content/drive/MyDrive/CNPJ_Download/Socios/Socios2.zip -d /content/drive/MyDrive/Datasets/CNPJ/Socios\n",
        "!unzip /content/drive/MyDrive/CNPJ_Download/Socios/Socios3.zip -d /content/drive/MyDrive/Datasets/CNPJ/Socios\n",
        "!unzip /content/drive/MyDrive/CNPJ_Download/Socios/Socios4.zip -d /content/drive/MyDrive/Datasets/CNPJ/Socios\n",
        "!unzip /content/drive/MyDrive/CNPJ_Download/Socios/Socios5.zip -d /content/drive/MyDrive/Datasets/CNPJ/Socios\n",
        "!unzip /content/drive/MyDrive/CNPJ_Download/Socios/Socios6.zip -d /content/drive/MyDrive/Datasets/CNPJ/Socios\n",
        "!unzip /content/drive/MyDrive/CNPJ_Download/Socios/Socios7.zip -d /content/drive/MyDrive/Datasets/CNPJ/Socios\n",
        "!unzip /content/drive/MyDrive/CNPJ_Download/Socios/Socios8.zip -d /content/drive/MyDrive/Datasets/CNPJ/Socios\n",
        "!unzip /content/drive/MyDrive/CNPJ_Download/Socios/Socios9.zip -d /content/drive/MyDrive/Datasets/CNPJ/Socios"
      ],
      "metadata": {
        "colab": {
          "base_uri": "https://localhost:8080/"
        },
        "id": "JoxRrCf2ekv9",
        "outputId": "cf2a5ca8-121a-4036-adc8-e768108088f9"
      },
      "execution_count": null,
      "outputs": [
        {
          "output_type": "stream",
          "name": "stdout",
          "text": [
            "Archive:  /content/drive/MyDrive/CNPJ_Download/Socios/Socios0.zip\n",
            "  inflating: /content/drive/MyDrive/Datasets/CNPJ/Socios/K3241.K03200Y0.D40210.SOCIOCSV  \n",
            "Archive:  /content/drive/MyDrive/CNPJ_Download/Socios/Socios1.zip\n",
            "  inflating: /content/drive/MyDrive/Datasets/CNPJ/Socios/K3241.K03200Y1.D40210.SOCIOCSV  \n",
            "Archive:  /content/drive/MyDrive/CNPJ_Download/Socios/Socios2.zip\n",
            "  inflating: /content/drive/MyDrive/Datasets/CNPJ/Socios/K3241.K03200Y2.D40210.SOCIOCSV  \n",
            "Archive:  /content/drive/MyDrive/CNPJ_Download/Socios/Socios3.zip\n",
            "  inflating: /content/drive/MyDrive/Datasets/CNPJ/Socios/K3241.K03200Y3.D40210.SOCIOCSV  \n",
            "Archive:  /content/drive/MyDrive/CNPJ_Download/Socios/Socios4.zip\n",
            "  inflating: /content/drive/MyDrive/Datasets/CNPJ/Socios/K3241.K03200Y4.D40210.SOCIOCSV  \n",
            "Archive:  /content/drive/MyDrive/CNPJ_Download/Socios/Socios5.zip\n",
            "  inflating: /content/drive/MyDrive/Datasets/CNPJ/Socios/K3241.K03200Y5.D40210.SOCIOCSV  \n",
            "Archive:  /content/drive/MyDrive/CNPJ_Download/Socios/Socios6.zip\n",
            "  inflating: /content/drive/MyDrive/Datasets/CNPJ/Socios/K3241.K03200Y6.D40210.SOCIOCSV  \n",
            "Archive:  /content/drive/MyDrive/CNPJ_Download/Socios/Socios7.zip\n",
            "  inflating: /content/drive/MyDrive/Datasets/CNPJ/Socios/K3241.K03200Y7.D40210.SOCIOCSV  \n",
            "Archive:  /content/drive/MyDrive/CNPJ_Download/Socios/Socios8.zip\n",
            "  inflating: /content/drive/MyDrive/Datasets/CNPJ/Socios/K3241.K03200Y8.D40210.SOCIOCSV  \n",
            "Archive:  /content/drive/MyDrive/CNPJ_Download/Socios/Socios9.zip\n",
            "  inflating: /content/drive/MyDrive/Datasets/CNPJ/Socios/K3241.K03200Y9.D40210.SOCIOCSV  \n"
          ]
        }
      ]
    },
    {
      "cell_type": "code",
      "source": [
        "!mkdir /content/drive/MyDrive/Datasets/Compras_Contratos"
      ],
      "metadata": {
        "id": "y4YjWT13FOLo"
      },
      "execution_count": null,
      "outputs": []
    },
    {
      "cell_type": "code",
      "source": [
        "# Importar o dataset de contratos de compras que encontra-se em anexo na entrega da script .ipynb\n",
        "from google.colab import files\n",
        "arquivo = files.upload()"
      ],
      "metadata": {
        "colab": {
          "base_uri": "https://localhost:8080/"
        },
        "id": "QZrDegiMFQJu",
        "outputId": "76900da0-c5a1-4545-c018-992eb0a6568c"
      },
      "execution_count": null,
      "outputs": [
        {
          "output_type": "display_data",
          "data": {
            "text/plain": [
              "<IPython.core.display.HTML object>"
            ],
            "text/html": [
              "\n",
              "     <input type=\"file\" id=\"files-3d564ed0-bf57-4c6f-bd03-08a1917a525d\" name=\"files[]\" multiple disabled\n",
              "        style=\"border:none\" />\n",
              "     <output id=\"result-3d564ed0-bf57-4c6f-bd03-08a1917a525d\">\n",
              "      Upload widget is only available when the cell has been executed in the\n",
              "      current browser session. Please rerun this cell to enable.\n",
              "      </output>\n",
              "      <script>// Copyright 2017 Google LLC\n",
              "//\n",
              "// Licensed under the Apache License, Version 2.0 (the \"License\");\n",
              "// you may not use this file except in compliance with the License.\n",
              "// You may obtain a copy of the License at\n",
              "//\n",
              "//      http://www.apache.org/licenses/LICENSE-2.0\n",
              "//\n",
              "// Unless required by applicable law or agreed to in writing, software\n",
              "// distributed under the License is distributed on an \"AS IS\" BASIS,\n",
              "// WITHOUT WARRANTIES OR CONDITIONS OF ANY KIND, either express or implied.\n",
              "// See the License for the specific language governing permissions and\n",
              "// limitations under the License.\n",
              "\n",
              "/**\n",
              " * @fileoverview Helpers for google.colab Python module.\n",
              " */\n",
              "(function(scope) {\n",
              "function span(text, styleAttributes = {}) {\n",
              "  const element = document.createElement('span');\n",
              "  element.textContent = text;\n",
              "  for (const key of Object.keys(styleAttributes)) {\n",
              "    element.style[key] = styleAttributes[key];\n",
              "  }\n",
              "  return element;\n",
              "}\n",
              "\n",
              "// Max number of bytes which will be uploaded at a time.\n",
              "const MAX_PAYLOAD_SIZE = 100 * 1024;\n",
              "\n",
              "function _uploadFiles(inputId, outputId) {\n",
              "  const steps = uploadFilesStep(inputId, outputId);\n",
              "  const outputElement = document.getElementById(outputId);\n",
              "  // Cache steps on the outputElement to make it available for the next call\n",
              "  // to uploadFilesContinue from Python.\n",
              "  outputElement.steps = steps;\n",
              "\n",
              "  return _uploadFilesContinue(outputId);\n",
              "}\n",
              "\n",
              "// This is roughly an async generator (not supported in the browser yet),\n",
              "// where there are multiple asynchronous steps and the Python side is going\n",
              "// to poll for completion of each step.\n",
              "// This uses a Promise to block the python side on completion of each step,\n",
              "// then passes the result of the previous step as the input to the next step.\n",
              "function _uploadFilesContinue(outputId) {\n",
              "  const outputElement = document.getElementById(outputId);\n",
              "  const steps = outputElement.steps;\n",
              "\n",
              "  const next = steps.next(outputElement.lastPromiseValue);\n",
              "  return Promise.resolve(next.value.promise).then((value) => {\n",
              "    // Cache the last promise value to make it available to the next\n",
              "    // step of the generator.\n",
              "    outputElement.lastPromiseValue = value;\n",
              "    return next.value.response;\n",
              "  });\n",
              "}\n",
              "\n",
              "/**\n",
              " * Generator function which is called between each async step of the upload\n",
              " * process.\n",
              " * @param {string} inputId Element ID of the input file picker element.\n",
              " * @param {string} outputId Element ID of the output display.\n",
              " * @return {!Iterable<!Object>} Iterable of next steps.\n",
              " */\n",
              "function* uploadFilesStep(inputId, outputId) {\n",
              "  const inputElement = document.getElementById(inputId);\n",
              "  inputElement.disabled = false;\n",
              "\n",
              "  const outputElement = document.getElementById(outputId);\n",
              "  outputElement.innerHTML = '';\n",
              "\n",
              "  const pickedPromise = new Promise((resolve) => {\n",
              "    inputElement.addEventListener('change', (e) => {\n",
              "      resolve(e.target.files);\n",
              "    });\n",
              "  });\n",
              "\n",
              "  const cancel = document.createElement('button');\n",
              "  inputElement.parentElement.appendChild(cancel);\n",
              "  cancel.textContent = 'Cancel upload';\n",
              "  const cancelPromise = new Promise((resolve) => {\n",
              "    cancel.onclick = () => {\n",
              "      resolve(null);\n",
              "    };\n",
              "  });\n",
              "\n",
              "  // Wait for the user to pick the files.\n",
              "  const files = yield {\n",
              "    promise: Promise.race([pickedPromise, cancelPromise]),\n",
              "    response: {\n",
              "      action: 'starting',\n",
              "    }\n",
              "  };\n",
              "\n",
              "  cancel.remove();\n",
              "\n",
              "  // Disable the input element since further picks are not allowed.\n",
              "  inputElement.disabled = true;\n",
              "\n",
              "  if (!files) {\n",
              "    return {\n",
              "      response: {\n",
              "        action: 'complete',\n",
              "      }\n",
              "    };\n",
              "  }\n",
              "\n",
              "  for (const file of files) {\n",
              "    const li = document.createElement('li');\n",
              "    li.append(span(file.name, {fontWeight: 'bold'}));\n",
              "    li.append(span(\n",
              "        `(${file.type || 'n/a'}) - ${file.size} bytes, ` +\n",
              "        `last modified: ${\n",
              "            file.lastModifiedDate ? file.lastModifiedDate.toLocaleDateString() :\n",
              "                                    'n/a'} - `));\n",
              "    const percent = span('0% done');\n",
              "    li.appendChild(percent);\n",
              "\n",
              "    outputElement.appendChild(li);\n",
              "\n",
              "    const fileDataPromise = new Promise((resolve) => {\n",
              "      const reader = new FileReader();\n",
              "      reader.onload = (e) => {\n",
              "        resolve(e.target.result);\n",
              "      };\n",
              "      reader.readAsArrayBuffer(file);\n",
              "    });\n",
              "    // Wait for the data to be ready.\n",
              "    let fileData = yield {\n",
              "      promise: fileDataPromise,\n",
              "      response: {\n",
              "        action: 'continue',\n",
              "      }\n",
              "    };\n",
              "\n",
              "    // Use a chunked sending to avoid message size limits. See b/62115660.\n",
              "    let position = 0;\n",
              "    do {\n",
              "      const length = Math.min(fileData.byteLength - position, MAX_PAYLOAD_SIZE);\n",
              "      const chunk = new Uint8Array(fileData, position, length);\n",
              "      position += length;\n",
              "\n",
              "      const base64 = btoa(String.fromCharCode.apply(null, chunk));\n",
              "      yield {\n",
              "        response: {\n",
              "          action: 'append',\n",
              "          file: file.name,\n",
              "          data: base64,\n",
              "        },\n",
              "      };\n",
              "\n",
              "      let percentDone = fileData.byteLength === 0 ?\n",
              "          100 :\n",
              "          Math.round((position / fileData.byteLength) * 100);\n",
              "      percent.textContent = `${percentDone}% done`;\n",
              "\n",
              "    } while (position < fileData.byteLength);\n",
              "  }\n",
              "\n",
              "  // All done.\n",
              "  yield {\n",
              "    response: {\n",
              "      action: 'complete',\n",
              "    }\n",
              "  };\n",
              "}\n",
              "\n",
              "scope.google = scope.google || {};\n",
              "scope.google.colab = scope.google.colab || {};\n",
              "scope.google.colab._files = {\n",
              "  _uploadFiles,\n",
              "  _uploadFilesContinue,\n",
              "};\n",
              "})(self);\n",
              "</script> "
            ]
          },
          "metadata": {}
        },
        {
          "output_type": "stream",
          "name": "stdout",
          "text": [
            "Saving Compras_Contratos.zip to Compras_Contratos.zip\n"
          ]
        }
      ]
    },
    {
      "cell_type": "code",
      "source": [
        "!mv *Compras_Contratos* /content/drive/MyDrive/Datasets"
      ],
      "metadata": {
        "id": "7QszB0I-QJp2"
      },
      "execution_count": null,
      "outputs": []
    },
    {
      "cell_type": "code",
      "source": [
        "!ls /content/drive/MyDrive/Datasets/Compras_Contratos"
      ],
      "metadata": {
        "colab": {
          "base_uri": "https://localhost:8080/"
        },
        "id": "lS1uGqM0Qbg8",
        "outputId": "989d432b-f07a-449b-aafd-7f030c3f20d0"
      },
      "execution_count": null,
      "outputs": [
        {
          "output_type": "stream",
          "name": "stdout",
          "text": [
            "Compras  Compras_Contratos.zip\n"
          ]
        }
      ]
    },
    {
      "cell_type": "code",
      "source": [
        "!mv /content/drive/MyDrive/Datasets/Compras_Contratos/Compras/*contratos* /content/drive/MyDrive/Datasets/Compras_Contratos"
      ],
      "metadata": {
        "id": "hfezROFwRL7F"
      },
      "execution_count": null,
      "outputs": []
    },
    {
      "cell_type": "code",
      "source": [
        "!rm -r /content/drive/MyDrive/Datasets/Compras_Contratos/Compras"
      ],
      "metadata": {
        "id": "ToXY4q6jSxHi"
      },
      "execution_count": null,
      "outputs": []
    },
    {
      "cell_type": "markdown",
      "metadata": {
        "id": "54Zs7t5-5inC"
      },
      "source": [
        "**Listando os arquivos**"
      ]
    },
    {
      "cell_type": "code",
      "execution_count": null,
      "metadata": {
        "id": "F0xw1SmV1q3W",
        "colab": {
          "base_uri": "https://localhost:8080/"
        },
        "outputId": "d29237f0-69b1-410c-e1ee-b519eeb1da82"
      },
      "outputs": [
        {
          "output_type": "stream",
          "name": "stdout",
          "text": [
            "Reading package lists... Done\n",
            "Building dependency tree... Done\n",
            "Reading state information... Done\n",
            "The following NEW packages will be installed:\n",
            "  tree\n",
            "0 upgraded, 1 newly installed, 0 to remove and 35 not upgraded.\n",
            "Need to get 47.9 kB of archives.\n",
            "After this operation, 116 kB of additional disk space will be used.\n",
            "Get:1 http://archive.ubuntu.com/ubuntu jammy/universe amd64 tree amd64 2.0.2-1 [47.9 kB]\n",
            "Fetched 47.9 kB in 1s (67.8 kB/s)\n",
            "Selecting previously unselected package tree.\n",
            "(Reading database ... 122099 files and directories currently installed.)\n",
            "Preparing to unpack .../tree_2.0.2-1_amd64.deb ...\n",
            "Unpacking tree (2.0.2-1) ...\n",
            "Setting up tree (2.0.2-1) ...\n",
            "Processing triggers for man-db (2.10.2-1) ...\n"
          ]
        }
      ],
      "source": [
        "!apt-get install tree"
      ]
    },
    {
      "cell_type": "code",
      "source": [
        "import os\n",
        "os.chdir('/content/drive/MyDrive/Datasets') # Colocar o caminho que encontra-se os seus datasets\n",
        "!tree -p"
      ],
      "metadata": {
        "colab": {
          "base_uri": "https://localhost:8080/"
        },
        "id": "KgxyBJ62YOGX",
        "outputId": "807687be-b78f-427f-8516-6dbd80465d98"
      },
      "execution_count": null,
      "outputs": [
        {
          "output_type": "stream",
          "name": "stdout",
          "text": [
            "[drwx------]  \u001b[01;34m.\u001b[0m\n",
            "├── [drwx------]  \u001b[01;34mCNPJ\u001b[0m\n",
            "│   ├── [drwx------]  \u001b[01;34mCnaes\u001b[0m\n",
            "│   │   └── [-rw-------]  \u001b[00mF.K03200$Z.D40210.CNAECSV\u001b[0m\n",
            "│   ├── [drwx------]  \u001b[01;34mEmpresas\u001b[0m\n",
            "│   │   ├── [-rw-------]  \u001b[00mK3241.K03200Y0.D40210.EMPRECSV\u001b[0m\n",
            "│   │   ├── [-rw-------]  \u001b[00mK3241.K03200Y1.D40210.EMPRECSV\u001b[0m\n",
            "│   │   ├── [-rw-------]  \u001b[00mK3241.K03200Y2.D40210.EMPRECSV\u001b[0m\n",
            "│   │   ├── [-rw-------]  \u001b[00mK3241.K03200Y3.D40210.EMPRECSV\u001b[0m\n",
            "│   │   ├── [-rw-------]  \u001b[00mK3241.K03200Y4.D40210.EMPRECSV\u001b[0m\n",
            "│   │   ├── [-rw-------]  \u001b[00mK3241.K03200Y5.D40210.EMPRECSV\u001b[0m\n",
            "│   │   ├── [-rw-------]  \u001b[00mK3241.K03200Y6.D40210.EMPRECSV\u001b[0m\n",
            "│   │   ├── [-rw-------]  \u001b[00mK3241.K03200Y7.D40210.EMPRECSV\u001b[0m\n",
            "│   │   ├── [-rw-------]  \u001b[00mK3241.K03200Y8.D40210.EMPRECSV\u001b[0m\n",
            "│   │   └── [-rw-------]  \u001b[00mK3241.K03200Y9.D40210.EMPRECSV\u001b[0m\n",
            "│   ├── [drwx------]  \u001b[01;34mEstabelecimentos\u001b[0m\n",
            "│   │   ├── [-rw-------]  \u001b[00mK3241.K03200Y0.D40210.ESTABELE\u001b[0m\n",
            "│   │   ├── [-rw-------]  \u001b[00mK3241.K03200Y1.D40210.ESTABELE\u001b[0m\n",
            "│   │   ├── [-rw-------]  \u001b[00mK3241.K03200Y2.D40210.ESTABELE\u001b[0m\n",
            "│   │   ├── [-rw-------]  \u001b[00mK3241.K03200Y3.D40210.ESTABELE\u001b[0m\n",
            "│   │   ├── [-rw-------]  \u001b[00mK3241.K03200Y4.D40210.ESTABELE\u001b[0m\n",
            "│   │   ├── [-rw-------]  \u001b[00mK3241.K03200Y5.D40210.ESTABELE\u001b[0m\n",
            "│   │   ├── [-rw-------]  \u001b[00mK3241.K03200Y6.D40210.ESTABELE\u001b[0m\n",
            "│   │   ├── [-rw-------]  \u001b[00mK3241.K03200Y7.D40210.ESTABELE\u001b[0m\n",
            "│   │   ├── [-rw-------]  \u001b[00mK3241.K03200Y8.D40210.ESTABELE\u001b[0m\n",
            "│   │   └── [-rw-------]  \u001b[00mK3241.K03200Y9.D40210.ESTABELE\u001b[0m\n",
            "│   ├── [drwx------]  \u001b[01;34mQualificacoes\u001b[0m\n",
            "│   │   └── [-rw-------]  \u001b[00mF.K03200$Z.D40210.QUALSCSV\u001b[0m\n",
            "│   └── [drwx------]  \u001b[01;34mSocios\u001b[0m\n",
            "│       ├── [-rw-------]  \u001b[00mK3241.K03200Y0.D40210.SOCIOCSV\u001b[0m\n",
            "│       ├── [-rw-------]  \u001b[00mK3241.K03200Y1.D40210.SOCIOCSV\u001b[0m\n",
            "│       ├── [-rw-------]  \u001b[00mK3241.K03200Y2.D40210.SOCIOCSV\u001b[0m\n",
            "│       ├── [-rw-------]  \u001b[00mK3241.K03200Y3.D40210.SOCIOCSV\u001b[0m\n",
            "│       ├── [-rw-------]  \u001b[00mK3241.K03200Y4.D40210.SOCIOCSV\u001b[0m\n",
            "│       ├── [-rw-------]  \u001b[00mK3241.K03200Y5.D40210.SOCIOCSV\u001b[0m\n",
            "│       ├── [-rw-------]  \u001b[00mK3241.K03200Y6.D40210.SOCIOCSV\u001b[0m\n",
            "│       ├── [-rw-------]  \u001b[00mK3241.K03200Y7.D40210.SOCIOCSV\u001b[0m\n",
            "│       ├── [-rw-------]  \u001b[00mK3241.K03200Y8.D40210.SOCIOCSV\u001b[0m\n",
            "│       └── [-rw-------]  \u001b[00mK3241.K03200Y9.D40210.SOCIOCSV\u001b[0m\n",
            "├── [drwx------]  \u001b[01;34mCompras_Contratos\u001b[0m\n",
            "│   ├── [-rw-------]  \u001b[00mcontratos0.json\u001b[0m\n",
            "│   ├── [-rw-------]  \u001b[00mcontratos1.json\u001b[0m\n",
            "│   ├── [-rw-------]  \u001b[00mcontratos2.json\u001b[0m\n",
            "│   ├── [-rw-------]  \u001b[00mcontratos3.json\u001b[0m\n",
            "│   ├── [-rw-------]  \u001b[00mcontratos4.json\u001b[0m\n",
            "│   ├── [-rw-------]  \u001b[00mcontratos5.json\u001b[0m\n",
            "│   ├── [-rw-------]  \u001b[00mcontratos6.json\u001b[0m\n",
            "│   ├── [-rw-------]  \u001b[00mcontratos7.json\u001b[0m\n",
            "│   └── [-rw-------]  \u001b[00mcontratos8.json\u001b[0m\n",
            "├── [-rw-------]  \u001b[01;31mCompras_Contratos.zip\u001b[0m\n",
            "├── [-rw-------]  \u001b[01;31mEmpresas0.zip\u001b[0m\n",
            "├── [-rw-------]  \u001b[01;31mEmpresas1.zip\u001b[0m\n",
            "├── [-rw-------]  \u001b[01;31mEmpresas2.zip\u001b[0m\n",
            "├── [-rw-------]  \u001b[01;31mEmpresas3.zip\u001b[0m\n",
            "├── [-rw-------]  \u001b[01;31mEmpresas4.zip\u001b[0m\n",
            "├── [-rw-------]  \u001b[01;31mEmpresas5.zip\u001b[0m\n",
            "├── [-rw-------]  \u001b[01;31mEmpresas6.zip\u001b[0m\n",
            "├── [-rw-------]  \u001b[01;31mEmpresas7.zip\u001b[0m\n",
            "├── [-rw-------]  \u001b[01;31mEmpresas8.zip\u001b[0m\n",
            "├── [-rw-------]  \u001b[01;31mEmpresas9.zip\u001b[0m\n",
            "├── [drwx------]  \u001b[01;34mmovies_score\u001b[0m\n",
            "│   ├── [-rw-------]  \u001b[00mpart-00000-dc46e29c-fd32-45cb-bf46-39610017cbb0-c000.csv\u001b[0m\n",
            "│   ├── [-rw-------]  \u001b[00mpart-00001-dc46e29c-fd32-45cb-bf46-39610017cbb0-c000.csv\u001b[0m\n",
            "│   ├── [-rw-------]  \u001b[00mpart-00002-dc46e29c-fd32-45cb-bf46-39610017cbb0-c000.csv\u001b[0m\n",
            "│   └── [-rw-------]  \u001b[00mpart-00003-dc46e29c-fd32-45cb-bf46-39610017cbb0-c000.csv\u001b[0m\n",
            "├── [drwx------]  \u001b[01;34mnetflix_titles\u001b[0m\n",
            "│   └── [-rw-------]  \u001b[00mnetflix_titles.csv\u001b[0m\n",
            "├── [drwx------]  \u001b[01;34mTMDB\u001b[0m\n",
            "│   └── [-rw-------]  \u001b[00mTMDB_movie_dataset_v11.csv\u001b[0m\n",
            "└── [-rw-------]  \u001b[01;31mTMDB_movie_dataset_v11.zip\u001b[0m\n",
            "\n",
            "10 directories, 59 files\n"
          ]
        }
      ]
    },
    {
      "cell_type": "markdown",
      "source": [
        "# Análise dos datasets / Criação de Views"
      ],
      "metadata": {
        "id": "SLHcvlNzkzYj"
      }
    },
    {
      "cell_type": "markdown",
      "metadata": {
        "id": "p5jF98roR6RW"
      },
      "source": [
        "**Tratando, transformando e criando uma view dos dados de empresas**"
      ]
    },
    {
      "cell_type": "code",
      "execution_count": null,
      "metadata": {
        "colab": {
          "base_uri": "https://localhost:8080/"
        },
        "id": "LhxJLOeKIUiU",
        "outputId": "2dfd2d2d-4c42-41e5-ffec-9044b9c8eb54"
      },
      "outputs": [
        {
          "output_type": "stream",
          "name": "stdout",
          "text": [
            "root\n",
            " |-- _c0: string (nullable = true)\n",
            " |-- _c1: string (nullable = true)\n",
            " |-- _c2: string (nullable = true)\n",
            " |-- _c3: string (nullable = true)\n",
            " |-- _c4: string (nullable = true)\n",
            " |-- _c5: string (nullable = true)\n",
            " |-- _c6: string (nullable = true)\n",
            "\n",
            "+--------+--------------------+----+---+--------+---+----+\n",
            "|     _c0|                 _c1| _c2|_c3|     _c4|_c5| _c6|\n",
            "+--------+--------------------+----+---+--------+---+----+\n",
            "|41273596|RODRIGO JOSE FERR...|2135| 50|10000,00| 01|NULL|\n",
            "|41273597|PACHARRUS QUEIROZ...|2135| 50| 5000,00| 01|NULL|\n",
            "|41273598|GLORIA VIANA DIAS...|2135| 50| 1100,00| 01|NULL|\n",
            "|41273599|ANA PAULA DA SILV...|2135| 50| 2000,00| 01|NULL|\n",
            "|41273600|41.273.600 AVANIL...|2135| 50|50000,00| 01|NULL|\n",
            "|41273601|GABRIELA HELENA F...|2135| 50| 2000,00| 01|NULL|\n",
            "|41273602|FABIO SOUZA DO RO...|2135| 50|15000,00| 01|NULL|\n",
            "|41273603|GRAFLINE ACESSORI...|2062| 49|10000,00| 01|NULL|\n",
            "|41273604|RUMO - ESTUDIO DE...|2062| 49|10000,00| 01|NULL|\n",
            "|41273605|WALLACE DE OLIVEI...|2135| 50| 1000,00| 01|NULL|\n",
            "|41273606|MARCOS CESAR DE M...|2135| 50|72000,00| 01|NULL|\n",
            "|41273607|LAYANE SCARLETT D...|2135| 50|    1,00| 01|NULL|\n",
            "|41273608|FRANCISCA SAMPAIO...|2135| 50|    0,00| 01|NULL|\n",
            "|41273609|INGRID DIAS ALVES...|2135| 50|10000,00| 01|NULL|\n",
            "|41273610|DAIANE DE SOUZA 0...|2135| 50| 2500,00| 01|NULL|\n",
            "|41273611|RENATO MOREIRA DA...|2135| 50| 2000,00| 01|NULL|\n",
            "|41273612|ELLEN FABIANI SOU...|2062| 49| 1000,00| 01|NULL|\n",
            "|41273613|ICARO SALAZAR FAR...|2135| 50| 1000,00| 01|NULL|\n",
            "|41273614|SERGIO BUENO DE F...|2135| 50| 4000,00| 01|NULL|\n",
            "|41273615|FELIPE FERREIRA D...|2135| 50| 5000,00| 01|NULL|\n",
            "+--------+--------------------+----+---+--------+---+----+\n",
            "only showing top 20 rows\n",
            "\n"
          ]
        }
      ],
      "source": [
        "#sc = spark.sparkContext\n",
        "path = \"/content/drive/MyDrive/Datasets/CNPJ/Empresas/*\"\n",
        "df = spark.read.option(\"delimiter\", \";\").csv(path)\n",
        "df.printSchema()\n",
        "df.show()"
      ]
    },
    {
      "cell_type": "code",
      "execution_count": null,
      "metadata": {
        "id": "cqLO-QT_9fHc"
      },
      "outputs": [],
      "source": [
        "dfEmpresas = df.selectExpr(\"_c0 as CNPJ\",\"_c1 as RAZAO_SOCIAL\",\"_c2 as NATUREZA_JURIDICA\",\"_c3 as QUALIFICACAO_RESPONSAVEL\",\"_c4 as CAPITAL_SOCIAL\",\"_c5 as PORTE_EMPRESA\",\"_c6 as ENTE_FEDERATIVO\")"
      ]
    },
    {
      "cell_type": "code",
      "source": [
        "total_cnpj = dfEmpresas.count()"
      ],
      "metadata": {
        "id": "4rzV5kYLy8lJ"
      },
      "execution_count": null,
      "outputs": []
    },
    {
      "cell_type": "code",
      "source": [
        "total_cnpj"
      ],
      "metadata": {
        "colab": {
          "base_uri": "https://localhost:8080/"
        },
        "id": "5PPyxvZRZ5E1",
        "outputId": "2319e40c-d099-4d6f-f544-39d5786b0368"
      },
      "execution_count": null,
      "outputs": [
        {
          "output_type": "execute_result",
          "data": {
            "text/plain": [
              "56554319"
            ]
          },
          "metadata": {},
          "execution_count": 56
        }
      ]
    },
    {
      "cell_type": "code",
      "execution_count": null,
      "metadata": {
        "colab": {
          "base_uri": "https://localhost:8080/"
        },
        "id": "71v_FSLKM5JA",
        "outputId": "148cf440-2aa0-4859-9b66-cfe2b14c56e4"
      },
      "outputs": [
        {
          "output_type": "stream",
          "name": "stdout",
          "text": [
            "+--------+----------------------------------------------+-----------------+------------------------+--------------+-------------+---------------+\n",
            "|CNPJ    |RAZAO_SOCIAL                                  |NATUREZA_JURIDICA|QUALIFICACAO_RESPONSAVEL|CAPITAL_SOCIAL|PORTE_EMPRESA|ENTE_FEDERATIVO|\n",
            "+--------+----------------------------------------------+-----------------+------------------------+--------------+-------------+---------------+\n",
            "|41273596|RODRIGO JOSE FERREIRA LOPES 05010247941       |2135             |50                      |10000,00      |01           |NULL           |\n",
            "|41273597|PACHARRUS QUEIROZ DA COSTA E SILVA 03618384335|2135             |50                      |5000,00       |01           |NULL           |\n",
            "|41273598|GLORIA VIANA DIAS DA SILVA 13118961716        |2135             |50                      |1100,00       |01           |NULL           |\n",
            "+--------+----------------------------------------------+-----------------+------------------------+--------------+-------------+---------------+\n",
            "only showing top 3 rows\n",
            "\n"
          ]
        }
      ],
      "source": [
        "dfEmpresas.createOrReplaceTempView(\"empresas\")\n",
        "\n",
        "sqlDF = spark.sql(\"select * from empresas\")\n",
        "sqlDF.show(3, truncate=False)"
      ]
    },
    {
      "cell_type": "markdown",
      "source": [
        "**Tratando, transformando e criando uma view dos dados de cnaes**"
      ],
      "metadata": {
        "id": "YTl563JTaTcg"
      }
    },
    {
      "cell_type": "code",
      "source": [
        "#sc = spark.sparkContext\n",
        "path = \"/content/drive/MyDrive/Datasets/CNPJ/Cnaes/*\"\n",
        "df = spark.read.option(\"delimiter\", \";\").option(\"encoding\", \"ISO-8859-1\").csv(path)\n",
        "df.printSchema()\n",
        "df.show()"
      ],
      "metadata": {
        "colab": {
          "base_uri": "https://localhost:8080/"
        },
        "id": "EXZR2B-vaJEG",
        "outputId": "6e5e2900-0688-4ead-8daa-fad88305bb2e"
      },
      "execution_count": null,
      "outputs": [
        {
          "output_type": "stream",
          "name": "stdout",
          "text": [
            "root\n",
            " |-- _c0: string (nullable = true)\n",
            " |-- _c1: string (nullable = true)\n",
            "\n",
            "+-------+--------------------+\n",
            "|    _c0|                 _c1|\n",
            "+-------+--------------------+\n",
            "|0111301|    Cultivo de arroz|\n",
            "|0111302|    Cultivo de milho|\n",
            "|0111303|    Cultivo de trigo|\n",
            "|0111399|Cultivo de outros...|\n",
            "|0112101|Cultivo de algodã...|\n",
            "|0112102|     Cultivo de juta|\n",
            "|0112199|Cultivo de outras...|\n",
            "|0113000|Cultivo de cana-d...|\n",
            "|0114800|     Cultivo de fumo|\n",
            "|0115600|     Cultivo de soja|\n",
            "|0116401| Cultivo de amendoim|\n",
            "|0116402| Cultivo de girassol|\n",
            "|0116403|   Cultivo de mamona|\n",
            "|0116499|Cultivo de outras...|\n",
            "|0119901|  Cultivo de abacaxi|\n",
            "|0119902|     Cultivo de alho|\n",
            "|0119903|Cultivo de batata...|\n",
            "|0119904|   Cultivo de cebola|\n",
            "|0119905|   Cultivo de feijão|\n",
            "|0119906| Cultivo de mandioca|\n",
            "+-------+--------------------+\n",
            "only showing top 20 rows\n",
            "\n"
          ]
        }
      ]
    },
    {
      "cell_type": "code",
      "source": [
        "dfCnaes = df.selectExpr(\"_c0 as CODIGO\",\"_c1 as DESCRICAO\")"
      ],
      "metadata": {
        "id": "0FUHLeymaKNN"
      },
      "execution_count": null,
      "outputs": []
    },
    {
      "cell_type": "code",
      "source": [
        "dfCnaes.count()"
      ],
      "metadata": {
        "colab": {
          "base_uri": "https://localhost:8080/"
        },
        "id": "fQqDhpgYmi0J",
        "outputId": "336f70c6-a584-4557-e7aa-50d26f32f61c"
      },
      "execution_count": null,
      "outputs": [
        {
          "output_type": "execute_result",
          "data": {
            "text/plain": [
              "1359"
            ]
          },
          "metadata": {},
          "execution_count": 72
        }
      ]
    },
    {
      "cell_type": "code",
      "source": [
        "# Filtrando apenas por cnaes de tecnologia.\n",
        "dfCnaes_select_cnaes_tecnologia = dfCnaes.where(dfCnaes.CODIGO.isin([\"6204000\", \"6201501\", \"6202300\", \"6203100\", \"6209100\", \"6201502\"]))\n",
        "dfCnaes_select_cnaes_tecnologia.createOrReplaceTempView(\"cnaes\")\n",
        "\n",
        "sqlCN = spark.sql(\"select * from cnaes\")\n",
        "sqlCN.show(truncate=False)"
      ],
      "metadata": {
        "colab": {
          "base_uri": "https://localhost:8080/"
        },
        "id": "FXVdgQSWaQMH",
        "outputId": "2aea8a79-d0d6-4203-a79f-7c3d3afa8f18"
      },
      "execution_count": null,
      "outputs": [
        {
          "output_type": "stream",
          "name": "stdout",
          "text": [
            "+-------+----------------------------------------------------------------------------+\n",
            "|CODIGO |DESCRICAO                                                                   |\n",
            "+-------+----------------------------------------------------------------------------+\n",
            "|6201501|Desenvolvimento de programas de computador sob encomenda                    |\n",
            "|6201502|Web design                                                                  |\n",
            "|6202300|Desenvolvimento e licenciamento de programas de computador customizáveis    |\n",
            "|6203100|Desenvolvimento e licenciamento de programas de computador não-customizáveis|\n",
            "|6204000|Consultoria em tecnologia da informação                                     |\n",
            "|6209100|Suporte técnico, manutenção e outros serviços em tecnologia da informação   |\n",
            "+-------+----------------------------------------------------------------------------+\n",
            "\n"
          ]
        }
      ]
    },
    {
      "cell_type": "markdown",
      "source": [
        "**Tratando, transformando e criando uma view dos dados de estabelecimentos - Tecnologia**"
      ],
      "metadata": {
        "id": "BbyWjDD_akA6"
      }
    },
    {
      "cell_type": "code",
      "source": [
        "#sc = spark.sparkContext\n",
        "path = \"/content/drive/MyDrive/Datasets/CNPJ/Estabelecimentos/*\"\n",
        "df = spark.read.option(\"delimiter\", \";\").csv(path)\n",
        "df.printSchema()\n",
        "df.show()"
      ],
      "metadata": {
        "colab": {
          "base_uri": "https://localhost:8080/"
        },
        "id": "ucLX5XZP7xIE",
        "outputId": "f269b135-a621-471c-92c1-0ee10590aec3"
      },
      "execution_count": null,
      "outputs": [
        {
          "output_type": "stream",
          "name": "stdout",
          "text": [
            "root\n",
            " |-- _c0: string (nullable = true)\n",
            " |-- _c1: string (nullable = true)\n",
            " |-- _c2: string (nullable = true)\n",
            " |-- _c3: string (nullable = true)\n",
            " |-- _c4: string (nullable = true)\n",
            " |-- _c5: string (nullable = true)\n",
            " |-- _c6: string (nullable = true)\n",
            " |-- _c7: string (nullable = true)\n",
            " |-- _c8: string (nullable = true)\n",
            " |-- _c9: string (nullable = true)\n",
            " |-- _c10: string (nullable = true)\n",
            " |-- _c11: string (nullable = true)\n",
            " |-- _c12: string (nullable = true)\n",
            " |-- _c13: string (nullable = true)\n",
            " |-- _c14: string (nullable = true)\n",
            " |-- _c15: string (nullable = true)\n",
            " |-- _c16: string (nullable = true)\n",
            " |-- _c17: string (nullable = true)\n",
            " |-- _c18: string (nullable = true)\n",
            " |-- _c19: string (nullable = true)\n",
            " |-- _c20: string (nullable = true)\n",
            " |-- _c21: string (nullable = true)\n",
            " |-- _c22: string (nullable = true)\n",
            " |-- _c23: string (nullable = true)\n",
            " |-- _c24: string (nullable = true)\n",
            " |-- _c25: string (nullable = true)\n",
            " |-- _c26: string (nullable = true)\n",
            " |-- _c27: string (nullable = true)\n",
            " |-- _c28: string (nullable = true)\n",
            " |-- _c29: string (nullable = true)\n",
            "\n",
            "+--------+----+---+---+--------------------+---+--------+---+----+----+--------+-------+--------------------+-------+--------------------+----+---------------+------------------+--------+----+----+----+--------+----+----+----+----+--------------------+----+----+\n",
            "|     _c0| _c1|_c2|_c3|                 _c4|_c5|     _c6|_c7| _c8| _c9|    _c10|   _c11|                _c12|   _c13|                _c14|_c15|           _c16|              _c17|    _c18|_c19|_c20|_c21|    _c22|_c23|_c24|_c25|_c26|                _c27|_c28|_c29|\n",
            "+--------+----+---+---+--------------------+---+--------+---+----+----+--------+-------+--------------------+-------+--------------------+----+---------------+------------------+--------+----+----+----+--------+----+----+----+----+--------------------+----+----+\n",
            "|71778526|0001| 45|  1|                NULL| 04|20190109| 63|NULL|NULL|19930628|4774100|                NULL|AVENIDA|                  01| 603|           NULL|            CENTRO|14620000|  SP|6787|NULL|    NULL|NULL|NULL|NULL|NULL|                NULL|NULL|NULL|\n",
            "|54037494|0001| 08|  1|J T VILLANE CEREA...| 04|20181227| 63|NULL|NULL|19841217|4649409|                NULL|    RUA|  ADELCIO MARQUEZINI|  80|           NULL|      VILA BOTELHO|15953000|  SP|7013|  11|83182276|NULL|NULL|NULL|NULL|PINOTTIVALDIR33@G...|NULL|NULL|\n",
            "|54037510|0001| 62|  1|                NULL| 08|20081231| 71|NULL|NULL|19841217|4723700|                NULL|    RUA|JOAO CANDIDO DE LIMA|  25|           NULL|ERMELINO MATARAZZO|03678020|  SP|7107|NULL|    NULL|NULL|NULL|NULL|NULL|                NULL|NULL|NULL|\n",
            "|33939653|0001| 90|  1| SUPERMERCADO BOMFIM| 08|20081231| 71|NULL|NULL|19900405|4711301|                NULL|   NULL|      PRCA DA MATRIZ|  SN|           NULL|            CENTRO|48108000|  BA|3259|NULL|    NULL|NULL|NULL|NULL|NULL|                NULL|NULL|NULL|\n",
            "|33939711|0001| 85|  1|                NULL| 08|20081231| 71|NULL|NULL|19900404|8888888|                NULL|    RUA|CAPITAO MANOEL MI...| 508|           NULL|            CENTRO|47805210|  BA|3363|NULL|    NULL|NULL|NULL|NULL|NULL|                NULL|NULL|NULL|\n",
            "|33939976|0001| 83|  1|                NULL| 08|19790119| 01|NULL|NULL|19700824|8888888|                NULL|    RUA|MINISTRO TAVARES ...|  38|LOJA P SUB SOLO|            CATETE|22221060|  RJ|6001|NULL|    NULL|NULL|NULL|NULL|NULL|                NULL|NULL|NULL|\n",
            "|54037858|0001| 50|  1|                NULL| 02|20020720| 00|NULL|NULL|19841213|4683400|0115600,0131800,0...|    RUA|        SAO LOURENCO| 375|           NULL|            CENTRO|15990250|  SP|6687|NULL|    NULL|NULL|NULL|NULL|NULL|AGROTECNICAMATAO@...|NULL|NULL|\n",
            "|33939745|0001| 70|  1|                NULL| 08|20081231| 71|NULL|NULL|19900404|4729601|                NULL|FAZENDA|       BOA ESPERANCA|  03|           NULL|            CENTRO|44905000|  BA|3973|NULL|    NULL|NULL|NULL|NULL|NULL|                NULL|NULL|NULL|\n",
            "|54037866|0001| 04|  1|                NULL| 08|20081231| 71|NULL|NULL|19841217|8888888|                NULL|   NULL|      LG DO PAICANDU|  72| 8 ANDAR CJ 808|            CENTRO|01034901|  SP|7107|NULL|    NULL|NULL|NULL|NULL|NULL|                NULL|NULL|NULL|\n",
            "|16059685|0001| 81|  1|                NULL| 04|20190122| 63|NULL|NULL|19870114|4781400|                NULL|    RUA|         JAIME BRITO|  15|           NULL|            CENTRO|45700000|  BA|3629|  77|32612166|NULL|NULL|NULL|NULL|contato@exatadigi...|NULL|NULL|\n",
            "|16059719|0001| 38|  1|           COMPLAUTO| 08|20081231| 71|NULL|NULL|19870114|4530701|                NULL|    RUA|        CARLOS GOMES| 329|         TERREO|              SEDE|45880000|  BA|3411|NULL|    NULL|NULL|NULL|NULL|NULL|                NULL|NULL|NULL|\n",
            "|54037924|0001| 91|  1|                NULL| 08|20050124| 01|NULL|NULL|19841217|4789099|                NULL|    RUA| JOSE BRAGA SOBRINHO| 226|           NULL|            CENTRO|18185000|  SP|6859|NULL|    NULL|NULL|NULL|NULL|NULL|                NULL|NULL|NULL|\n",
            "|71779284|0001| 04|  1|         KIROM MODAS| 08|20081231| 71|NULL|NULL|19930625|4781400|                NULL|    RUA|       MARCILIO DIAS|  40|         BOX 39|           GONZAGA|11060210|  SP|7071|NULL|    NULL|NULL|NULL|NULL|NULL|                NULL|NULL|NULL|\n",
            "|71779318|0001| 60|  1|         BAR DO EZIO| 08|20081231| 71|NULL|NULL|19930625|5611203|                NULL|    RUA|       GUIDO BIANCHI|  70|           NULL|    PQ DA FIGUEIRA|13140031|  SP|6831|NULL|    NULL|NULL|NULL|NULL|NULL|                NULL|NULL|NULL|\n",
            "|91218669|0001| 00|  1|                NULL| 08|20081231| 71|NULL|NULL|19860925|4530701|                NULL|AVENIDA|    PINHEIRO MACHADO| 471|           NULL|            CENTRO|98700000|  RS|8705|NULL|    NULL|NULL|NULL|NULL|NULL|                NULL|NULL|NULL|\n",
            "|33940164|0001| 58|  1|                NULL| 08|19911231| 01|NULL|NULL|19900426|4633801|                NULL|    RUA|                   4| 417|           NULL|   RECANTO DO LAGO|45997000|  BA|3993|NULL|    NULL|NULL|NULL|NULL|NULL|                NULL|NULL|NULL|\n",
            "|71779094|0001| 97|  1|                NULL| 08|20081231| 71|NULL|NULL|19930625|4774100|                NULL|    RUA|    WALDEMAR MARTINS| 846|           NULL|    PARQUE PERUCHE|02535001|  SP|7107|NULL|    NULL|NULL|NULL|NULL|NULL|                NULL|NULL|NULL|\n",
            "|16059834|0001| 02|  1| OTICA SANTO ANTONIO| 08|20091105| 54|NULL|NULL|19870114|4774100|                NULL|    RUA|      LANDULFO ALVES|  89|           CASA|            CENTRO|44571380|  BA|3873|NULL|    NULL|NULL|NULL|NULL|NULL|                NULL|NULL|NULL|\n",
            "|33940255|0001| 93|  1|      LATIELLE MODAS| 02|20051103| 00|NULL|NULL|19900430|4781400|                NULL|    RUA|MARQUES DE TAMANDARE| 170|           CASA|       MOIZES REIS|45826015|  BA|3117|NULL|    NULL|NULL|NULL|NULL|NULL|                NULL|NULL|NULL|\n",
            "|16059891|0001| 91|  1|    METALURGICA LIMA| 08|20081231| 71|NULL|NULL|19870114|2511000|                NULL|    RUA| MANOEL F DOS SANTOS|  SN|           NULL|            CENTRO|44940000|  BA|3451|NULL|    NULL|NULL|NULL|NULL|NULL|                NULL|NULL|NULL|\n",
            "+--------+----+---+---+--------------------+---+--------+---+----+----+--------+-------+--------------------+-------+--------------------+----+---------------+------------------+--------+----+----+----+--------+----+----+----+----+--------------------+----+----+\n",
            "only showing top 20 rows\n",
            "\n"
          ]
        }
      ]
    },
    {
      "cell_type": "code",
      "source": [
        "dfEstab = df.selectExpr(\"_c0 as CNPJ\",\"_c1 as ORDEM\",\"_c2 as DV\",\"_c3 as MATRIZ_FILIAL\",\"_c4 as NOME_FANTASIA\",\"_c5 as SITUACAO\",\"_c6 as DATA_SITUACAO\",\"_c7 as MOTIVO_SITUACAO\",\"_c8 as CIDADE\",\"_c9 as PAIS\",\"_c10 as DT_INICIO\",\"_c11 as CNAES_PRINCIPAL\",\"_c12 as CNAES_SEC\",\"_c13 as TIPO_LOGRADOURO\",\"_c14 as LOGRADOURO\",\"_c15 as NUMERO\",\"_c16 as COMPLEMENTO\",\"_c17 as BAIRRO\",\"_c18 as CEP\",\"_c19 as UF\",\"_c20 as MUNICIPIO\",\"_c21 as DDD1\",\"_c22 as TELEFONE1\",\"_c23 as DDD2\",\"_c24 as TELEFONE2\",\"_c25 as DDDFAX\",\"_c26 as FAX\",\"_c27 as EMAIL\",\"_c28 SITUACAO_ESPECIAL\",\"_c29 as DT_SITUACAO_ESPECIAL\")"
      ],
      "metadata": {
        "id": "DkvMfgjp8Tv4"
      },
      "execution_count": null,
      "outputs": []
    },
    {
      "cell_type": "code",
      "source": [
        "dfEstab_select_estabelecimentos_tecnologia = dfEstab.where(dfEstab.CNAES_PRINCIPAL.isin([\"6204000\", \"6201501\", \"6202300\", \"6203100\", \"6209100\", \"6201502\"])).distinct()\n",
        "dfEstab_select_estabelecimentos_tecnologia.createOrReplaceTempView(\"estabelecimentos\")\n",
        "\n",
        "sqlES = spark.sql(\"select * from estabelecimentos\")\n",
        "sqlES.show(10,truncate=False)"
      ],
      "metadata": {
        "id": "H6wqPAcw-SvQ"
      },
      "execution_count": null,
      "outputs": []
    },
    {
      "cell_type": "markdown",
      "source": [
        "**Tratando, transformando e criando uma view dos dados de Contratos de Compras**"
      ],
      "metadata": {
        "id": "JNk0f7-S9So9"
      }
    },
    {
      "cell_type": "code",
      "source": [
        "#sc = spark.sparkContext\n",
        "path = \"/content/drive/MyDrive/Datasets/Compras_Contratos/*\"\n",
        "dfCompras_Contratos = spark.read.json(path)\n",
        "dfCompras_Contratos.printSchema()\n",
        "dfCompras_Contratos.show(10,truncate=False)"
      ],
      "metadata": {
        "colab": {
          "base_uri": "https://localhost:8080/"
        },
        "id": "xx9K-HKb9VN6",
        "outputId": "88e1d5af-51fe-4a29-d873-ae77fd3f8011"
      },
      "execution_count": null,
      "outputs": [
        {
          "output_type": "stream",
          "name": "stdout",
          "text": [
            "root\n",
            " |-- _embedded: struct (nullable = true)\n",
            " |    |-- contratos: array (nullable = true)\n",
            " |    |    |-- element: struct (containsNull = true)\n",
            " |    |    |    |-- _links: struct (nullable = true)\n",
            " |    |    |    |    |-- licitacao: struct (nullable = true)\n",
            " |    |    |    |    |    |-- href: string (nullable = true)\n",
            " |    |    |    |    |    |-- title: string (nullable = true)\n",
            " |    |    |    |    |-- modalidade_licitacao: struct (nullable = true)\n",
            " |    |    |    |    |    |-- href: string (nullable = true)\n",
            " |    |    |    |    |    |-- title: string (nullable = true)\n",
            " |    |    |    |    |-- self: struct (nullable = true)\n",
            " |    |    |    |    |    |-- href: string (nullable = true)\n",
            " |    |    |    |    |    |-- title: string (nullable = true)\n",
            " |    |    |    |    |-- uasg: struct (nullable = true)\n",
            " |    |    |    |    |    |-- href: string (nullable = true)\n",
            " |    |    |    |    |    |-- title: string (nullable = true)\n",
            " |    |    |    |-- categoria: string (nullable = true)\n",
            " |    |    |    |-- codigo_compra: string (nullable = true)\n",
            " |    |    |    |-- codigo_contrato: string (nullable = true)\n",
            " |    |    |    |-- codigo_tipo: long (nullable = true)\n",
            " |    |    |    |-- data_assinatura: string (nullable = true)\n",
            " |    |    |    |-- data_publicacao: string (nullable = true)\n",
            " |    |    |    |-- fornecedor_cnpj_cpf_idgener: string (nullable = true)\n",
            " |    |    |    |-- fornecedor_nome: string (nullable = true)\n",
            " |    |    |    |-- fornecedor_tipo: string (nullable = true)\n",
            " |    |    |    |-- fundamento_legal: string (nullable = true)\n",
            " |    |    |    |-- id: long (nullable = true)\n",
            " |    |    |    |-- informacao_complementar: string (nullable = true)\n",
            " |    |    |    |-- licitacao_numero: string (nullable = true)\n",
            " |    |    |    |-- modalidade: string (nullable = true)\n",
            " |    |    |    |-- modalidade_codigo: string (nullable = true)\n",
            " |    |    |    |-- num_parcelas: long (nullable = true)\n",
            " |    |    |    |-- numero: string (nullable = true)\n",
            " |    |    |    |-- objeto: string (nullable = true)\n",
            " |    |    |    |-- orgao_codigo: long (nullable = true)\n",
            " |    |    |    |-- orgao_nome: string (nullable = true)\n",
            " |    |    |    |-- processo: string (nullable = true)\n",
            " |    |    |    |-- receita_despesa: string (nullable = true)\n",
            " |    |    |    |-- tipo: string (nullable = true)\n",
            " |    |    |    |-- unidade_codigo: long (nullable = true)\n",
            " |    |    |    |-- unidade_compra: long (nullable = true)\n",
            " |    |    |    |-- unidade_nome: string (nullable = true)\n",
            " |    |    |    |-- unidade_nome_resumido: string (nullable = true)\n",
            " |    |    |    |-- unidade_origem_codigo: string (nullable = true)\n",
            " |    |    |    |-- unidade_origem_nome: string (nullable = true)\n",
            " |    |    |    |-- valor_acumulado: double (nullable = true)\n",
            " |    |    |    |-- valor_global: double (nullable = true)\n",
            " |    |    |    |-- valor_inicial: double (nullable = true)\n",
            " |    |    |    |-- valor_parcela: double (nullable = true)\n",
            " |    |    |    |-- vigencia_fim: string (nullable = true)\n",
            " |    |    |    |-- vigencia_inicio: string (nullable = true)\n",
            " |-- _links: struct (nullable = true)\n",
            " |    |-- first: struct (nullable = true)\n",
            " |    |    |-- href: string (nullable = true)\n",
            " |    |    |-- title: string (nullable = true)\n",
            " |    |-- next: struct (nullable = true)\n",
            " |    |    |-- href: string (nullable = true)\n",
            " |    |    |-- title: string (nullable = true)\n",
            " |    |-- prev: struct (nullable = true)\n",
            " |    |    |-- href: string (nullable = true)\n",
            " |    |    |-- title: string (nullable = true)\n",
            " |    |-- self: struct (nullable = true)\n",
            " |    |    |-- href: string (nullable = true)\n",
            " |    |    |-- title: string (nullable = true)\n",
            " |-- count: long (nullable = true)\n",
            " |-- offset: long (nullable = true)\n",
            "\n"
          ]
        },
        {
          "output_type": "stream",
          "name": "stderr",
          "text": [
            "IOPub data rate exceeded.\n",
            "The notebook server will temporarily stop sending output\n",
            "to the client in order to avoid crashing it.\n",
            "To change this limit, set the config variable\n",
            "`--NotebookApp.iopub_data_rate_limit`.\n",
            "\n",
            "Current values:\n",
            "NotebookApp.iopub_data_rate_limit=1000000.0 (bytes/sec)\n",
            "NotebookApp.rate_limit_window=3.0 (secs)\n",
            "\n"
          ]
        }
      ]
    },
    {
      "cell_type": "code",
      "source": [
        "import pandas as pd\n",
        "from pandas import json_normalize\n",
        "import os\n",
        "import re\n",
        "\n",
        "# Diretório que contém os arquivos JSON\n",
        "diretorio = \"/content/drive/MyDrive/Datasets/Compras_Contratos\"\n",
        "\n",
        "# Lista para armazenar os DataFrames lidos de cada arquivo\n",
        "dfs = []\n",
        "\n",
        "os.listdir(diretorio)\n",
        "\n",
        "# Loop pelos arquivos no diretório\n",
        "for arquivo in os.listdir(diretorio):\n",
        "    if arquivo.endswith('.json'):\n",
        "        caminho_arquivo = os.path.join(diretorio, arquivo)\n",
        "        df = pd.read_json(caminho_arquivo)\n",
        "        df_desmembrado = json_normalize(df['_embedded'], 'contratos', errors='ignore')\n",
        "        dfs.append(df_desmembrado)\n",
        "\n",
        "# Concatenar todos os DataFrames em um único DataFrame Pandas\n",
        "df_pandas = pd.concat(dfs, ignore_index=True)\n",
        "\n",
        "# Função para tratar o formato do CNPJ\n",
        "def tratar_cnpj(cnpj):\n",
        "    cnpj_tratado = re.sub(r'\\D', '', cnpj)  # Remove todos os caracteres não numéricos\n",
        "    cnpj_tratado = cnpj_tratado[:8]\n",
        "    return cnpj_tratado\n",
        "\n",
        "# Aplicar a função de tratamento ao DataFrame Pandas\n",
        "df_pandas['fornecedor_cnpj_cpf_idgener'] = df_pandas['fornecedor_cnpj_cpf_idgener'].apply(tratar_cnpj)\n",
        "\n",
        "# Criar DataFrame Spark\n",
        "df_Compras_Contratos = spark.createDataFrame(df_pandas)\n",
        "\n",
        "# Exibir DataFrame Spark\n",
        "df_Compras_Contratos.head(5)"
      ],
      "metadata": {
        "colab": {
          "base_uri": "https://localhost:8080/"
        },
        "id": "WynMs_5O97Ok",
        "outputId": "b87371b9-756d-407e-f8a8-55d1ead1ab96"
      },
      "execution_count": null,
      "outputs": [
        {
          "output_type": "execute_result",
          "data": {
            "text/plain": [
              "[Row(id=19553, codigo_contrato='15308050000962017', numero='00096/2017', receita_despesa='Despesa', orgao_codigo=26242, orgao_nome='UNIVERSIDADE FEDERAL DE PERNAMBUCO', unidade_codigo=153080, unidade_nome_resumido='UFPE', unidade_nome='UNIVERSIDADE FEDERAL DE PERNAMBUCO', unidade_origem_codigo='153080', unidade_origem_nome='UNIVERSIDADE FEDERAL DE PERNAMBUCO', codigo_tipo=50, tipo='Contrato', categoria='Serviços', processo='23076.048171/2016-15', objeto='CONTRATAÇÃO DE EMPRESA ESPECIALIZADA EM SERVIÇOS DE CONTROLE DE PRAGAS DE CUPINS, RATOS E INSETOS RASTEIROS E VOADORES EM ÁREAS ESPECÍFICAS DO CAMPUS RECIFE DA UFPE.', fundamento_legal='LEI Nº 8.666/93, ATUALIZADA.', data_assinatura='2017-11-14', data_publicacao='2017-11-28', vigencia_inicio='2017-11-14', vigencia_fim='2022-05-08', valor_inicial=115920.0, valor_global=141157.88, num_parcelas=1, valor_parcela=141157.88, valor_acumulado=1835052.44, fornecedor_tipo='JURIDICA', fornecedor_cnpj_cpf_idgener='10286009', fornecedor_nome='EFICAZ SERVICOS E TERCEIRIZACOES EIRELI', codigo_compra='15308005001612017', modalidade_codigo='05', modalidade='Pregão', unidade_compra=153080.0, licitacao_numero='00161/2017', informacao_complementar=None, _links.self.href='/comprasContratos/id/contrato/19553', _links.self.title='Contrato 153080.50.00096.2017', _links.licitacao.href='/licitacoes/id/licitacao/15308005001612017', _links.licitacao.title='Licitação 15308005001612017', _links.modalidade_licitacao.href='/licitacoes/id/modalidade_licitacao/05', _links.modalidade_licitacao.title='Modalidade de Licitação 05: Pregão', _links.uasg.href='/licitacoes/id/uasg/153080', _links.uasg.title='UASG 153080: UNIVERSIDADE FEDERAL DE PERNAMBUCO'),\n",
              " Row(id=19554, codigo_contrato='15310350000062017', numero='00006/2017', receita_despesa='Despesa', orgao_codigo=26243, orgao_nome='UNIVERSIDADE FEDERAL DO RIO GRANDE DO NORTE', unidade_codigo=153103, unidade_nome_resumido='UFRN', unidade_nome='UNIVERSIDADE FEDERAL DO RIO GRANDE DO NORTE', unidade_origem_codigo=None, unidade_origem_nome=None, codigo_tipo=50, tipo='Contrato', categoria='A definir', processo='23077.012317/2016-76', objeto='PRESTAÇÃO DE SERVIÇOS DE LINK DE COMUNICAÇÃO DE DADOS (REDE WAN), COM GERENCIAMENTO PRÓ ATIVO E CAPACIDADE PARA PROVER TRÁFEGO DE DADOS, VOZ E IMAGEM, ATENDENDO AS DEMANDAS DA UFRN, MACAÍBA, SANTA CRUZ, CURRAIS NOVOS, CAICÓ, NOVA CRUZ E MACAU PELO PERÍODO DE 12 (DOZE) MESES.', fundamento_legal='LEI 8.666/93.', data_assinatura='2017-02-02', data_publicacao='2017-03-07', vigencia_inicio='2017-02-02', vigencia_fim='2023-02-02', valor_inicial=693000.0, valor_global=693000.0, num_parcelas=1, valor_parcela=693000.0, valor_acumulado=1386000.0, fornecedor_tipo='JURIDICA', fornecedor_cnpj_cpf_idgener='06346446', fornecedor_nome='SITECNET INFORMATICA LTDA', codigo_compra='15310305000092016', modalidade_codigo='05', modalidade='Pregão', unidade_compra=153103.0, licitacao_numero='00009/2016', informacao_complementar=None, _links.self.href='/comprasContratos/id/contrato/19554', _links.self.title='Contrato 153103.50.00006.2017', _links.licitacao.href='/licitacoes/id/licitacao/15310305000092016', _links.licitacao.title='Licitação 15310305000092016', _links.modalidade_licitacao.href='/licitacoes/id/modalidade_licitacao/05', _links.modalidade_licitacao.title='Modalidade de Licitação 05: Pregão', _links.uasg.href='/licitacoes/id/uasg/153103', _links.uasg.title='UASG 153103: UNIVERSIDADE FEDERAL DO RIO GRANDE DO NORTE'),\n",
              " Row(id=19555, codigo_contrato='15316350001232017', numero='00123/2017', receita_despesa='Despesa', orgao_codigo=26246, orgao_nome='UNIVERSIDADE FEDERAL DE SANTA CATARINA', unidade_codigo=153163, unidade_nome_resumido='UFSC', unidade_nome='UNIVERSIDADE FEDERAL DE SANTA CATARINA', unidade_origem_codigo=None, unidade_origem_nome=None, codigo_tipo=50, tipo='Contrato', categoria='A definir', processo='23080.008825/2017-81', objeto='PROJETO DE EXTENSÃO ESPORTES E ATIVIDADES FÍSICAS A  COMUNIDADE.', fundamento_legal='LEI 8666', data_assinatura='2017-07-06', data_publicacao='2017-07-24', vigencia_inicio='2017-07-06', vigencia_fim='2021-12-31', valor_inicial=1040000.0, valor_global=1040000.0, num_parcelas=1, valor_parcela=1040000.0, valor_acumulado=6240000.0, fornecedor_tipo='JURIDICA', fornecedor_cnpj_cpf_idgener='83476911', fornecedor_nome='FUNDACAO DE AMPARO A PESQUISA E EXTENSAO UNIVERSITARIA', codigo_compra='15316306001712017', modalidade_codigo='06', modalidade='Dispensa', unidade_compra=153163.0, licitacao_numero='00171/2017', informacao_complementar=None, _links.self.href='/comprasContratos/id/contrato/19555', _links.self.title='Contrato 153163.50.00123.2017', _links.licitacao.href='/licitacoes/id/licitacao/15316306001712017', _links.licitacao.title='Licitação 15316306001712017', _links.modalidade_licitacao.href='/licitacoes/id/modalidade_licitacao/06', _links.modalidade_licitacao.title='Modalidade de Licitação 06: Dispensa', _links.uasg.href='/licitacoes/id/uasg/153163', _links.uasg.title='UASG 153163: UNIVERSIDADE FEDERAL DE SANTA CATARINA'),\n",
              " Row(id=19556, codigo_contrato='15311550000352017', numero='00035/2017', receita_despesa='Despesa', orgao_codigo=26245, orgao_nome='UNIVERSIDADE FEDERAL DO RIO DE JANEIRO', unidade_codigo=153115, unidade_nome_resumido='UFRJ', unidade_nome='UNIVERSIDADE FEDERAL DO RIO DE JANEIRO', unidade_origem_codigo=None, unidade_origem_nome=None, codigo_tipo=50, tipo='Contrato', categoria='A definir', processo='23079.015172/2017-26', objeto='SERVIÇO DE APOIO A GESTÃO ADMINISTRATIVA E FINANCEIRA PARA A EXECUÇÃO DO PROJETO MOVAR', fundamento_legal='LEI 8666/93, ART.24, INCISO XIII', data_assinatura='2017-09-12', data_publicacao='2017-10-11', vigencia_inicio='2017-09-12', vigencia_fim='2020-12-31', valor_inicial=78100.0, valor_global=78100.0, num_parcelas=1, valor_parcela=78100.0, valor_acumulado=78100.0, fornecedor_tipo='JURIDICA', fornecedor_cnpj_cpf_idgener='72060999', fornecedor_nome='FUNDACAO COORDENACAO DE PROJETOS,PESQUISAS E ESTUDOS TE', codigo_compra='15311506001822017', modalidade_codigo='06', modalidade='Dispensa', unidade_compra=153115.0, licitacao_numero='00182/2017', informacao_complementar='FUNDAMETAÇÃO LEGAL: LEI 8.666/1993, ART. 24, INCISO XIII; ART. 54, INCISOS I E II, PARÁGRAFOS 1 A 4, PORTARIA INTERMINISTERIAL Nº 507, DE 24 DE NOVEMBRO DE 2011', _links.self.href='/comprasContratos/id/contrato/19556', _links.self.title='Contrato 153115.50.00035.2017', _links.licitacao.href='/licitacoes/id/licitacao/15311506001822017', _links.licitacao.title='Licitação 15311506001822017', _links.modalidade_licitacao.href='/licitacoes/id/modalidade_licitacao/06', _links.modalidade_licitacao.title='Modalidade de Licitação 06: Dispensa', _links.uasg.href='/licitacoes/id/uasg/153115', _links.uasg.title='UASG 153115: UNIVERSIDADE FEDERAL DO RIO DE JANEIRO'),\n",
              " Row(id=19557, codigo_contrato='15311450001012017', numero='00101/2017', receita_despesa='Despesa', orgao_codigo=26244, orgao_nome='UNIVERSIDADE FEDERAL DO RIO GRANDE DO SUL', unidade_codigo=153114, unidade_nome_resumido='UFRGS', unidade_nome='UNIVERSIDADE FEDERAL DO RIO GRANDE DO SUL', unidade_origem_codigo='153114', unidade_origem_nome='UNIVERSIDADE FEDERAL DO RIO GRANDE DO SUL', codigo_tipo=50, tipo='Contrato', categoria='Serviços', processo='23078.515768/2016-51', objeto='CONTRATAÇÃO DE EMPRESA PARA PRESTAÇÃO -DE SERVIÇOS DE MANUTENÇÃO EM EQUIPAMENTOS ÓPTICOS LABORATORIAIS. FORNECIMENTO E TROCA DE PEÇAS PARA A FACULDADE DE VETERINÁRIA, INSTITUTO DECIÊNCIAS BÁSICAS DA SAÚDE, INSTITUTO DE BIOCIÊNCIAS E FACULDADE DE AGRONOMIA DA UFRGS.', fundamento_legal='LEI 8.666/93.', data_assinatura='2017-12-14', data_publicacao='2017-12-19', vigencia_inicio='2017-12-14', vigencia_fim='2022-12-14', valor_inicial=667212.45, valor_global=1030702.65, num_parcelas=60, valor_parcela=17178.38, valor_acumulado=1450272.12, fornecedor_tipo='JURIDICA', fornecedor_cnpj_cpf_idgener='28625382', fornecedor_nome='SPECTRU INSTRUMENTAL CIENTIFICO LTDA', codigo_compra='15311405001432017', modalidade_codigo='05', modalidade='Pregão', unidade_compra=153114.0, licitacao_numero='00143/2017', informacao_complementar=None, _links.self.href='/comprasContratos/id/contrato/19557', _links.self.title='Contrato 153114.50.00101.2017', _links.licitacao.href='/licitacoes/id/licitacao/15311405001432017', _links.licitacao.title='Licitação 15311405001432017', _links.modalidade_licitacao.href='/licitacoes/id/modalidade_licitacao/05', _links.modalidade_licitacao.title='Modalidade de Licitação 05: Pregão', _links.uasg.href='/licitacoes/id/uasg/153114', _links.uasg.title='UASG 153114: UNIVERSIDADE FEDERAL DO RIO GRANDE DO SUL')]"
            ]
          },
          "metadata": {},
          "execution_count": 104
        }
      ]
    },
    {
      "cell_type": "code",
      "source": [
        "df_Compras_Contratos.show(10,truncate=False)"
      ],
      "metadata": {
        "colab": {
          "base_uri": "https://localhost:8080/"
        },
        "id": "J2zGVSRh-xbE",
        "outputId": "e6dbd3b6-025f-435f-b455-d3ac6de6dd5b"
      },
      "execution_count": null,
      "outputs": [
        {
          "output_type": "stream",
          "name": "stdout",
          "text": [
            "+-----+-----------------+----------+---------------+------------+-------------------------------------------+--------------+---------------------+-------------------------------------------+---------------------+-----------------------------------------+-----------+--------+---------+--------------------+-----------------------------------------------------------------------------------------------------------------------------------------------------------------------------------------------------------------------------------------------------------------------------------+------------------------------------+---------------+---------------+---------------+------------+-------------+------------+------------+-------------+---------------+---------------+---------------------------+-------------------------------------------------------+-----------------+-----------------+----------+--------------+----------------+--------------------------------------------------------------------------------------------------------------------------------------------------------------------------------------------------------------+-----------------------------------+-----------------------------+------------------------------------------+---------------------------+--------------------------------------+------------------------------------+--------------------------+--------------------------------------------------------+\n",
            "|id   |codigo_contrato  |numero    |receita_despesa|orgao_codigo|orgao_nome                                 |unidade_codigo|unidade_nome_resumido|unidade_nome                               |unidade_origem_codigo|unidade_origem_nome                      |codigo_tipo|tipo    |categoria|processo            |objeto                                                                                                                                                                                                                                                                             |fundamento_legal                    |data_assinatura|data_publicacao|vigencia_inicio|vigencia_fim|valor_inicial|valor_global|num_parcelas|valor_parcela|valor_acumulado|fornecedor_tipo|fornecedor_cnpj_cpf_idgener|fornecedor_nome                                        |codigo_compra    |modalidade_codigo|modalidade|unidade_compra|licitacao_numero|informacao_complementar                                                                                                                                                                                       |_links.self.href                   |_links.self.title            |_links.licitacao.href                     |_links.licitacao.title     |_links.modalidade_licitacao.href      |_links.modalidade_licitacao.title   |_links.uasg.href          |_links.uasg.title                                       |\n",
            "+-----+-----------------+----------+---------------+------------+-------------------------------------------+--------------+---------------------+-------------------------------------------+---------------------+-----------------------------------------+-----------+--------+---------+--------------------+-----------------------------------------------------------------------------------------------------------------------------------------------------------------------------------------------------------------------------------------------------------------------------------+------------------------------------+---------------+---------------+---------------+------------+-------------+------------+------------+-------------+---------------+---------------+---------------------------+-------------------------------------------------------+-----------------+-----------------+----------+--------------+----------------+--------------------------------------------------------------------------------------------------------------------------------------------------------------------------------------------------------------+-----------------------------------+-----------------------------+------------------------------------------+---------------------------+--------------------------------------+------------------------------------+--------------------------+--------------------------------------------------------+\n",
            "|19553|15308050000962017|00096/2017|Despesa        |26242       |UNIVERSIDADE FEDERAL DE PERNAMBUCO         |153080        |UFPE                 |UNIVERSIDADE FEDERAL DE PERNAMBUCO         |153080               |UNIVERSIDADE FEDERAL DE PERNAMBUCO       |50         |Contrato|Serviços |23076.048171/2016-15|CONTRATAÇÃO DE EMPRESA ESPECIALIZADA EM SERVIÇOS DE CONTROLE DE PRAGAS DE CUPINS, RATOS E INSETOS RASTEIROS E VOADORES EM ÁREAS ESPECÍFICAS DO CAMPUS RECIFE DA UFPE.                                                                                                              |LEI Nº 8.666/93, ATUALIZADA.        |2017-11-14     |2017-11-28     |2017-11-14     |2022-05-08  |115920.0     |141157.88   |1           |141157.88    |1835052.44     |JURIDICA       |10286009                   |EFICAZ SERVICOS E TERCEIRIZACOES EIRELI                |15308005001612017|05               |Pregão    |153080.0      |00161/2017      |NULL                                                                                                                                                                                                          |/comprasContratos/id/contrato/19553|Contrato 153080.50.00096.2017|/licitacoes/id/licitacao/15308005001612017|Licitação 15308005001612017|/licitacoes/id/modalidade_licitacao/05|Modalidade de Licitação 05: Pregão  |/licitacoes/id/uasg/153080|UASG 153080: UNIVERSIDADE FEDERAL DE PERNAMBUCO         |\n",
            "|19554|15310350000062017|00006/2017|Despesa        |26243       |UNIVERSIDADE FEDERAL DO RIO GRANDE DO NORTE|153103        |UFRN                 |UNIVERSIDADE FEDERAL DO RIO GRANDE DO NORTE|NULL                 |NULL                                     |50         |Contrato|A definir|23077.012317/2016-76|PRESTAÇÃO DE SERVIÇOS DE LINK DE COMUNICAÇÃO DE DADOS (REDE WAN), COM GERENCIAMENTO PRÓ ATIVO E CAPACIDADE PARA PROVER TRÁFEGO DE DADOS, VOZ E IMAGEM, ATENDENDO AS DEMANDAS DA UFRN, MACAÍBA, SANTA CRUZ, CURRAIS NOVOS, CAICÓ, NOVA CRUZ E MACAU PELO PERÍODO DE 12 (DOZE) MESES.|LEI 8.666/93.                       |2017-02-02     |2017-03-07     |2017-02-02     |2023-02-02  |693000.0     |693000.0    |1           |693000.0     |1386000.0      |JURIDICA       |06346446                   |SITECNET INFORMATICA LTDA                              |15310305000092016|05               |Pregão    |153103.0      |00009/2016      |NULL                                                                                                                                                                                                          |/comprasContratos/id/contrato/19554|Contrato 153103.50.00006.2017|/licitacoes/id/licitacao/15310305000092016|Licitação 15310305000092016|/licitacoes/id/modalidade_licitacao/05|Modalidade de Licitação 05: Pregão  |/licitacoes/id/uasg/153103|UASG 153103: UNIVERSIDADE FEDERAL DO RIO GRANDE DO NORTE|\n",
            "|19555|15316350001232017|00123/2017|Despesa        |26246       |UNIVERSIDADE FEDERAL DE SANTA CATARINA     |153163        |UFSC                 |UNIVERSIDADE FEDERAL DE SANTA CATARINA     |NULL                 |NULL                                     |50         |Contrato|A definir|23080.008825/2017-81|PROJETO DE EXTENSÃO ESPORTES E ATIVIDADES FÍSICAS A  COMUNIDADE.                                                                                                                                                                                                                   |LEI 8666                            |2017-07-06     |2017-07-24     |2017-07-06     |2021-12-31  |1040000.0    |1040000.0   |1           |1040000.0    |6240000.0      |JURIDICA       |83476911                   |FUNDACAO DE AMPARO A PESQUISA E EXTENSAO UNIVERSITARIA |15316306001712017|06               |Dispensa  |153163.0      |00171/2017      |NULL                                                                                                                                                                                                          |/comprasContratos/id/contrato/19555|Contrato 153163.50.00123.2017|/licitacoes/id/licitacao/15316306001712017|Licitação 15316306001712017|/licitacoes/id/modalidade_licitacao/06|Modalidade de Licitação 06: Dispensa|/licitacoes/id/uasg/153163|UASG 153163: UNIVERSIDADE FEDERAL DE SANTA CATARINA     |\n",
            "|19556|15311550000352017|00035/2017|Despesa        |26245       |UNIVERSIDADE FEDERAL DO RIO DE JANEIRO     |153115        |UFRJ                 |UNIVERSIDADE FEDERAL DO RIO DE JANEIRO     |NULL                 |NULL                                     |50         |Contrato|A definir|23079.015172/2017-26|SERVIÇO DE APOIO A GESTÃO ADMINISTRATIVA E FINANCEIRA PARA A EXECUÇÃO DO PROJETO MOVAR                                                                                                                                                                                             |LEI 8666/93, ART.24, INCISO XIII    |2017-09-12     |2017-10-11     |2017-09-12     |2020-12-31  |78100.0      |78100.0     |1           |78100.0      |78100.0        |JURIDICA       |72060999                   |FUNDACAO COORDENACAO DE PROJETOS,PESQUISAS E ESTUDOS TE|15311506001822017|06               |Dispensa  |153115.0      |00182/2017      |FUNDAMETAÇÃO LEGAL: LEI 8.666/1993, ART. 24, INCISO XIII; ART. 54, INCISOS I E II, PARÁGRAFOS 1 A 4, PORTARIA INTERMINISTERIAL Nº 507, DE 24 DE NOVEMBRO DE 2011                                              |/comprasContratos/id/contrato/19556|Contrato 153115.50.00035.2017|/licitacoes/id/licitacao/15311506001822017|Licitação 15311506001822017|/licitacoes/id/modalidade_licitacao/06|Modalidade de Licitação 06: Dispensa|/licitacoes/id/uasg/153115|UASG 153115: UNIVERSIDADE FEDERAL DO RIO DE JANEIRO     |\n",
            "|19557|15311450001012017|00101/2017|Despesa        |26244       |UNIVERSIDADE FEDERAL DO RIO GRANDE DO SUL  |153114        |UFRGS                |UNIVERSIDADE FEDERAL DO RIO GRANDE DO SUL  |153114               |UNIVERSIDADE FEDERAL DO RIO GRANDE DO SUL|50         |Contrato|Serviços |23078.515768/2016-51|CONTRATAÇÃO DE EMPRESA PARA PRESTAÇÃO -DE SERVIÇOS DE MANUTENÇÃO EM EQUIPAMENTOS ÓPTICOS LABORATORIAIS. FORNECIMENTO E TROCA DE PEÇAS PARA A FACULDADE DE VETERINÁRIA, INSTITUTO DECIÊNCIAS BÁSICAS DA SAÚDE, INSTITUTO DE BIOCIÊNCIAS E FACULDADE DE AGRONOMIA DA UFRGS.          |LEI 8.666/93.                       |2017-12-14     |2017-12-19     |2017-12-14     |2022-12-14  |667212.45    |1030702.65  |60          |17178.38     |1450272.12     |JURIDICA       |28625382                   |SPECTRU INSTRUMENTAL CIENTIFICO LTDA                   |15311405001432017|05               |Pregão    |153114.0      |00143/2017      |NULL                                                                                                                                                                                                          |/comprasContratos/id/contrato/19557|Contrato 153114.50.00101.2017|/licitacoes/id/licitacao/15311405001432017|Licitação 15311405001432017|/licitacoes/id/modalidade_licitacao/05|Modalidade de Licitação 05: Pregão  |/licitacoes/id/uasg/153114|UASG 153114: UNIVERSIDADE FEDERAL DO RIO GRANDE DO SUL  |\n",
            "|19558|15316350003432017|00343/2017|Despesa        |26246       |UNIVERSIDADE FEDERAL DE SANTA CATARINA     |153163        |UFSC                 |UNIVERSIDADE FEDERAL DE SANTA CATARINA     |153163               |UNIVERSIDADE FEDERAL DE SANTA CATARINA   |50         |Contrato|Serviços |23080.079585/2017-08|APOIO ADMINISTRATIVO AO PROJETO DE PESQUISA \"PESQUISA DE EVENTOS ADVERSOS EM IMPLANTES ORTOPÉDICOS - CENTRO NACIONAL DE ANÁLISES DE EXPLANTES CNAEX\"                                                                                                                               |ARTIGO 24, INCISO XIII, LEI 8.666/93|2018-02-06     |2018-02-23     |2018-02-06     |2022-12-23  |3700500.0    |5143695.0   |1           |5143695.0    |9.421473E7     |JURIDICA       |82895327                   |FUNDACAO DE ENSINO E ENGENHARIA DE SANTA CATARINA      |15316306007142017|06               |Dispensa  |153163.0      |00714/2017      |CORRIGIDO EM 23/11/2022 OS VALORES DOS ITENS DO CONTRATO, NESTE ADITIVO, DEVIDO ERRO QUE SISTEMA APRESENTAVA, E QUE APARECIA VALOR DIFERENTE DO MONTANTE DO CONTRATO (INSTRUMENTO INICIAL + 1º ADITIVO VALOR).|/comprasContratos/id/contrato/19558|Contrato 153163.50.00343.2017|/licitacoes/id/licitacao/15316306007142017|Licitação 15316306007142017|/licitacoes/id/modalidade_licitacao/06|Modalidade de Licitação 06: Dispensa|/licitacoes/id/uasg/153163|UASG 153163: UNIVERSIDADE FEDERAL DE SANTA CATARINA     |\n",
            "|19559|15316450000142018|00014/2018|Despesa        |26247       |UNIVERSIDADE FEDERAL DE SANTA MARIA        |153164        |UFSM                 |UNIVERSIDADE FEDERAL DE SANTA MARIA        |NULL                 |NULL                                     |50         |Contrato|A definir|007903/2014-78      |CONTRATAÇÃO DE EMPRESA ESPECIALIZADA PARA ELABORAÇÃO DE PLANO DE PREVENÇÃO E PROTEÇÃOCONTRA INCÊNDIO - PPCIS EM PRÉDIOS DOS CAMPIS DA UFSM                                                                                                                                         |LEI 8666                            |2018-04-27     |2018-05-23     |2018-04-27     |2021-04-26  |16262.75     |16262.75    |1           |16262.75     |48788.25       |JURIDICA       |20915213                   |SIMULTANEA ENGENHARIA LTDA                             |15316405002252017|05               |Pregão    |153164.0      |00225/2017      |NULL                                                                                                                                                                                                          |/comprasContratos/id/contrato/19559|Contrato 153164.50.00014.2018|/licitacoes/id/licitacao/15316405002252017|Licitação 15316405002252017|/licitacoes/id/modalidade_licitacao/05|Modalidade de Licitação 05: Pregão  |/licitacoes/id/uasg/153164|UASG 153164: UNIVERSIDADE FEDERAL DE SANTA MARIA        |\n",
            "|19561|15316450000302018|00030/2018|Despesa        |26247       |UNIVERSIDADE FEDERAL DE SANTA MARIA        |153164        |UFSM                 |UNIVERSIDADE FEDERAL DE SANTA MARIA        |NULL                 |NULL                                     |50         |Contrato|A definir|007903/2014-78      |CONTRATAÇÃO DE UMA EMPRESA ESPECIALIZADA PARA ELABORAÇÃO DE PLANO DE PREVENÇÃO E PROTEÇÃO CONTRA INCÊNCIO - PPCIS EM PRÉDIOS DA UFSM.                                                                                                                                              |LEI 8666/93                         |2018-04-27     |2018-05-23     |2018-04-27     |2021-04-26  |8034.0       |9536.19     |6           |1502.19      |27039.42       |JURIDICA       |20915213                   |SIMULTANEA ENGENHARIA LTDA                             |15316405002252017|05               |Pregão    |153164.0      |00225/2017      |NULL                                                                                                                                                                                                          |/comprasContratos/id/contrato/19561|Contrato 153164.50.00030.2018|/licitacoes/id/licitacao/15316405002252017|Licitação 15316405002252017|/licitacoes/id/modalidade_licitacao/05|Modalidade de Licitação 05: Pregão  |/licitacoes/id/uasg/153164|UASG 153164: UNIVERSIDADE FEDERAL DE SANTA MARIA        |\n",
            "|19562|15591350002482017|00248/2017|Despesa        |26443       |EMPRESA BRASILEIRA DE SERVICOS HOSPITALARES|155913        |HU-UFSC              |HOSPITAL UNIVERSITARIO DA UFSC             |150232               |HOSPITAL UNIVERSITARIO - UFSC            |50         |Contrato|A definir|23080.018826/2017-34|CONTRATAÇÃO DE EMPRESA ESPECIALIZADAPARA PRESTAÇÃO DE SERVIÇOS DE INSPEÇÃO ECONSULTORIA TÉCNICA DE VASOS DE PRESSÃOPERTENCENTES E INSTALADOS NO HU/UFSC.                                                                                                                           |LEI 8666/93.                        |2017-10-10     |2017-11-17     |2017-10-10     |2020-10-10  |354988.85    |354988.85   |1           |0.0          |354988.85      |JURIDICA       |75309237                   |RUGGERI & PIVA LTDA                                    |15023205001462017|05               |Pregão    |150232.0      |00146/2017      |NULL                                                                                                                                                                                                          |/comprasContratos/id/contrato/19562|Contrato 155913.50.00248.2017|/licitacoes/id/licitacao/15023205001462017|Licitação 15023205001462017|/licitacoes/id/modalidade_licitacao/05|Modalidade de Licitação 05: Pregão  |/licitacoes/id/uasg/155913|UASG 155913: HOSPITAL UNIVERSITARIO DA UFSC             |\n",
            "|19563|15316450000632018|00063/2018|Despesa        |26247       |UNIVERSIDADE FEDERAL DE SANTA MARIA        |153164        |UFSM                 |UNIVERSIDADE FEDERAL DE SANTA MARIA        |153164               |UNIVERSIDADE FEDERAL DE SANTA MARIA      |50         |Contrato|A definir|043746/2017-15      |CONTRATAÇÃO DE EMPRESA ESPECIALIZADA PARA ELEBORAÇÃO DE PLANO DE PREVENÇÃO E PROTEÇÃOCONTRA INCENDIO - PPCIS EM PRÉDIOS DOS CAMPIS DA UFSM.                                                                                                                                        |LEI 866693                          |2018-08-21     |2018-09-04     |2018-08-21     |2023-08-20  |13978.25     |1237500.0   |1           |1237500.0    |1279434.75     |JURIDICA       |20915213                   |SIMULTANEA ENGENHARIA LTDA                             |15316405002252017|05               |Pregão    |153164.0      |00225/2017      |NULL                                                                                                                                                                                                          |/comprasContratos/id/contrato/19563|Contrato 153164.50.00063.2018|/licitacoes/id/licitacao/15316405002252017|Licitação 15316405002252017|/licitacoes/id/modalidade_licitacao/05|Modalidade de Licitação 05: Pregão  |/licitacoes/id/uasg/153164|UASG 153164: UNIVERSIDADE FEDERAL DE SANTA MARIA        |\n",
            "+-----+-----------------+----------+---------------+------------+-------------------------------------------+--------------+---------------------+-------------------------------------------+---------------------+-----------------------------------------+-----------+--------+---------+--------------------+-----------------------------------------------------------------------------------------------------------------------------------------------------------------------------------------------------------------------------------------------------------------------------------+------------------------------------+---------------+---------------+---------------+------------+-------------+------------+------------+-------------+---------------+---------------+---------------------------+-------------------------------------------------------+-----------------+-----------------+----------+--------------+----------------+--------------------------------------------------------------------------------------------------------------------------------------------------------------------------------------------------------------+-----------------------------------+-----------------------------+------------------------------------------+---------------------------+--------------------------------------+------------------------------------+--------------------------+--------------------------------------------------------+\n",
            "only showing top 10 rows\n",
            "\n"
          ]
        }
      ]
    },
    {
      "cell_type": "code",
      "source": [
        "df_Compras_Contratos.createOrReplaceTempView(\"compras_contratos\")\n",
        "\n",
        "sqlCC = spark.sql(\"select * from compras_contratos\")\n",
        "sqlCC.show(10,truncate=False)"
      ],
      "metadata": {
        "colab": {
          "base_uri": "https://localhost:8080/"
        },
        "id": "dkf5mYU3-FS_",
        "outputId": "1ccae99a-7a37-43b2-b2b2-cbe3a464ca52"
      },
      "execution_count": null,
      "outputs": [
        {
          "output_type": "stream",
          "name": "stdout",
          "text": [
            "+-----+-----------------+----------+---------------+------------+-------------------------------------------+--------------+---------------------+-------------------------------------------+---------------------+-----------------------------------------+-----------+--------+---------+--------------------+-----------------------------------------------------------------------------------------------------------------------------------------------------------------------------------------------------------------------------------------------------------------------------------+------------------------------------+---------------+---------------+---------------+------------+-------------+------------+------------+-------------+---------------+---------------+---------------------------+-------------------------------------------------------+-----------------+-----------------+----------+--------------+----------------+--------------------------------------------------------------------------------------------------------------------------------------------------------------------------------------------------------------+-----------------------------------+-----------------------------+------------------------------------------+---------------------------+--------------------------------------+------------------------------------+--------------------------+--------------------------------------------------------+\n",
            "|id   |codigo_contrato  |numero    |receita_despesa|orgao_codigo|orgao_nome                                 |unidade_codigo|unidade_nome_resumido|unidade_nome                               |unidade_origem_codigo|unidade_origem_nome                      |codigo_tipo|tipo    |categoria|processo            |objeto                                                                                                                                                                                                                                                                             |fundamento_legal                    |data_assinatura|data_publicacao|vigencia_inicio|vigencia_fim|valor_inicial|valor_global|num_parcelas|valor_parcela|valor_acumulado|fornecedor_tipo|fornecedor_cnpj_cpf_idgener|fornecedor_nome                                        |codigo_compra    |modalidade_codigo|modalidade|unidade_compra|licitacao_numero|informacao_complementar                                                                                                                                                                                       |_links.self.href                   |_links.self.title            |_links.licitacao.href                     |_links.licitacao.title     |_links.modalidade_licitacao.href      |_links.modalidade_licitacao.title   |_links.uasg.href          |_links.uasg.title                                       |\n",
            "+-----+-----------------+----------+---------------+------------+-------------------------------------------+--------------+---------------------+-------------------------------------------+---------------------+-----------------------------------------+-----------+--------+---------+--------------------+-----------------------------------------------------------------------------------------------------------------------------------------------------------------------------------------------------------------------------------------------------------------------------------+------------------------------------+---------------+---------------+---------------+------------+-------------+------------+------------+-------------+---------------+---------------+---------------------------+-------------------------------------------------------+-----------------+-----------------+----------+--------------+----------------+--------------------------------------------------------------------------------------------------------------------------------------------------------------------------------------------------------------+-----------------------------------+-----------------------------+------------------------------------------+---------------------------+--------------------------------------+------------------------------------+--------------------------+--------------------------------------------------------+\n",
            "|19553|15308050000962017|00096/2017|Despesa        |26242       |UNIVERSIDADE FEDERAL DE PERNAMBUCO         |153080        |UFPE                 |UNIVERSIDADE FEDERAL DE PERNAMBUCO         |153080               |UNIVERSIDADE FEDERAL DE PERNAMBUCO       |50         |Contrato|Serviços |23076.048171/2016-15|CONTRATAÇÃO DE EMPRESA ESPECIALIZADA EM SERVIÇOS DE CONTROLE DE PRAGAS DE CUPINS, RATOS E INSETOS RASTEIROS E VOADORES EM ÁREAS ESPECÍFICAS DO CAMPUS RECIFE DA UFPE.                                                                                                              |LEI Nº 8.666/93, ATUALIZADA.        |2017-11-14     |2017-11-28     |2017-11-14     |2022-05-08  |115920.0     |141157.88   |1           |141157.88    |1835052.44     |JURIDICA       |10286009                   |EFICAZ SERVICOS E TERCEIRIZACOES EIRELI                |15308005001612017|05               |Pregão    |153080.0      |00161/2017      |NULL                                                                                                                                                                                                          |/comprasContratos/id/contrato/19553|Contrato 153080.50.00096.2017|/licitacoes/id/licitacao/15308005001612017|Licitação 15308005001612017|/licitacoes/id/modalidade_licitacao/05|Modalidade de Licitação 05: Pregão  |/licitacoes/id/uasg/153080|UASG 153080: UNIVERSIDADE FEDERAL DE PERNAMBUCO         |\n",
            "|19554|15310350000062017|00006/2017|Despesa        |26243       |UNIVERSIDADE FEDERAL DO RIO GRANDE DO NORTE|153103        |UFRN                 |UNIVERSIDADE FEDERAL DO RIO GRANDE DO NORTE|NULL                 |NULL                                     |50         |Contrato|A definir|23077.012317/2016-76|PRESTAÇÃO DE SERVIÇOS DE LINK DE COMUNICAÇÃO DE DADOS (REDE WAN), COM GERENCIAMENTO PRÓ ATIVO E CAPACIDADE PARA PROVER TRÁFEGO DE DADOS, VOZ E IMAGEM, ATENDENDO AS DEMANDAS DA UFRN, MACAÍBA, SANTA CRUZ, CURRAIS NOVOS, CAICÓ, NOVA CRUZ E MACAU PELO PERÍODO DE 12 (DOZE) MESES.|LEI 8.666/93.                       |2017-02-02     |2017-03-07     |2017-02-02     |2023-02-02  |693000.0     |693000.0    |1           |693000.0     |1386000.0      |JURIDICA       |06346446                   |SITECNET INFORMATICA LTDA                              |15310305000092016|05               |Pregão    |153103.0      |00009/2016      |NULL                                                                                                                                                                                                          |/comprasContratos/id/contrato/19554|Contrato 153103.50.00006.2017|/licitacoes/id/licitacao/15310305000092016|Licitação 15310305000092016|/licitacoes/id/modalidade_licitacao/05|Modalidade de Licitação 05: Pregão  |/licitacoes/id/uasg/153103|UASG 153103: UNIVERSIDADE FEDERAL DO RIO GRANDE DO NORTE|\n",
            "|19555|15316350001232017|00123/2017|Despesa        |26246       |UNIVERSIDADE FEDERAL DE SANTA CATARINA     |153163        |UFSC                 |UNIVERSIDADE FEDERAL DE SANTA CATARINA     |NULL                 |NULL                                     |50         |Contrato|A definir|23080.008825/2017-81|PROJETO DE EXTENSÃO ESPORTES E ATIVIDADES FÍSICAS A  COMUNIDADE.                                                                                                                                                                                                                   |LEI 8666                            |2017-07-06     |2017-07-24     |2017-07-06     |2021-12-31  |1040000.0    |1040000.0   |1           |1040000.0    |6240000.0      |JURIDICA       |83476911                   |FUNDACAO DE AMPARO A PESQUISA E EXTENSAO UNIVERSITARIA |15316306001712017|06               |Dispensa  |153163.0      |00171/2017      |NULL                                                                                                                                                                                                          |/comprasContratos/id/contrato/19555|Contrato 153163.50.00123.2017|/licitacoes/id/licitacao/15316306001712017|Licitação 15316306001712017|/licitacoes/id/modalidade_licitacao/06|Modalidade de Licitação 06: Dispensa|/licitacoes/id/uasg/153163|UASG 153163: UNIVERSIDADE FEDERAL DE SANTA CATARINA     |\n",
            "|19556|15311550000352017|00035/2017|Despesa        |26245       |UNIVERSIDADE FEDERAL DO RIO DE JANEIRO     |153115        |UFRJ                 |UNIVERSIDADE FEDERAL DO RIO DE JANEIRO     |NULL                 |NULL                                     |50         |Contrato|A definir|23079.015172/2017-26|SERVIÇO DE APOIO A GESTÃO ADMINISTRATIVA E FINANCEIRA PARA A EXECUÇÃO DO PROJETO MOVAR                                                                                                                                                                                             |LEI 8666/93, ART.24, INCISO XIII    |2017-09-12     |2017-10-11     |2017-09-12     |2020-12-31  |78100.0      |78100.0     |1           |78100.0      |78100.0        |JURIDICA       |72060999                   |FUNDACAO COORDENACAO DE PROJETOS,PESQUISAS E ESTUDOS TE|15311506001822017|06               |Dispensa  |153115.0      |00182/2017      |FUNDAMETAÇÃO LEGAL: LEI 8.666/1993, ART. 24, INCISO XIII; ART. 54, INCISOS I E II, PARÁGRAFOS 1 A 4, PORTARIA INTERMINISTERIAL Nº 507, DE 24 DE NOVEMBRO DE 2011                                              |/comprasContratos/id/contrato/19556|Contrato 153115.50.00035.2017|/licitacoes/id/licitacao/15311506001822017|Licitação 15311506001822017|/licitacoes/id/modalidade_licitacao/06|Modalidade de Licitação 06: Dispensa|/licitacoes/id/uasg/153115|UASG 153115: UNIVERSIDADE FEDERAL DO RIO DE JANEIRO     |\n",
            "|19557|15311450001012017|00101/2017|Despesa        |26244       |UNIVERSIDADE FEDERAL DO RIO GRANDE DO SUL  |153114        |UFRGS                |UNIVERSIDADE FEDERAL DO RIO GRANDE DO SUL  |153114               |UNIVERSIDADE FEDERAL DO RIO GRANDE DO SUL|50         |Contrato|Serviços |23078.515768/2016-51|CONTRATAÇÃO DE EMPRESA PARA PRESTAÇÃO -DE SERVIÇOS DE MANUTENÇÃO EM EQUIPAMENTOS ÓPTICOS LABORATORIAIS. FORNECIMENTO E TROCA DE PEÇAS PARA A FACULDADE DE VETERINÁRIA, INSTITUTO DECIÊNCIAS BÁSICAS DA SAÚDE, INSTITUTO DE BIOCIÊNCIAS E FACULDADE DE AGRONOMIA DA UFRGS.          |LEI 8.666/93.                       |2017-12-14     |2017-12-19     |2017-12-14     |2022-12-14  |667212.45    |1030702.65  |60          |17178.38     |1450272.12     |JURIDICA       |28625382                   |SPECTRU INSTRUMENTAL CIENTIFICO LTDA                   |15311405001432017|05               |Pregão    |153114.0      |00143/2017      |NULL                                                                                                                                                                                                          |/comprasContratos/id/contrato/19557|Contrato 153114.50.00101.2017|/licitacoes/id/licitacao/15311405001432017|Licitação 15311405001432017|/licitacoes/id/modalidade_licitacao/05|Modalidade de Licitação 05: Pregão  |/licitacoes/id/uasg/153114|UASG 153114: UNIVERSIDADE FEDERAL DO RIO GRANDE DO SUL  |\n",
            "|19558|15316350003432017|00343/2017|Despesa        |26246       |UNIVERSIDADE FEDERAL DE SANTA CATARINA     |153163        |UFSC                 |UNIVERSIDADE FEDERAL DE SANTA CATARINA     |153163               |UNIVERSIDADE FEDERAL DE SANTA CATARINA   |50         |Contrato|Serviços |23080.079585/2017-08|APOIO ADMINISTRATIVO AO PROJETO DE PESQUISA \"PESQUISA DE EVENTOS ADVERSOS EM IMPLANTES ORTOPÉDICOS - CENTRO NACIONAL DE ANÁLISES DE EXPLANTES CNAEX\"                                                                                                                               |ARTIGO 24, INCISO XIII, LEI 8.666/93|2018-02-06     |2018-02-23     |2018-02-06     |2022-12-23  |3700500.0    |5143695.0   |1           |5143695.0    |9.421473E7     |JURIDICA       |82895327                   |FUNDACAO DE ENSINO E ENGENHARIA DE SANTA CATARINA      |15316306007142017|06               |Dispensa  |153163.0      |00714/2017      |CORRIGIDO EM 23/11/2022 OS VALORES DOS ITENS DO CONTRATO, NESTE ADITIVO, DEVIDO ERRO QUE SISTEMA APRESENTAVA, E QUE APARECIA VALOR DIFERENTE DO MONTANTE DO CONTRATO (INSTRUMENTO INICIAL + 1º ADITIVO VALOR).|/comprasContratos/id/contrato/19558|Contrato 153163.50.00343.2017|/licitacoes/id/licitacao/15316306007142017|Licitação 15316306007142017|/licitacoes/id/modalidade_licitacao/06|Modalidade de Licitação 06: Dispensa|/licitacoes/id/uasg/153163|UASG 153163: UNIVERSIDADE FEDERAL DE SANTA CATARINA     |\n",
            "|19559|15316450000142018|00014/2018|Despesa        |26247       |UNIVERSIDADE FEDERAL DE SANTA MARIA        |153164        |UFSM                 |UNIVERSIDADE FEDERAL DE SANTA MARIA        |NULL                 |NULL                                     |50         |Contrato|A definir|007903/2014-78      |CONTRATAÇÃO DE EMPRESA ESPECIALIZADA PARA ELABORAÇÃO DE PLANO DE PREVENÇÃO E PROTEÇÃOCONTRA INCÊNDIO - PPCIS EM PRÉDIOS DOS CAMPIS DA UFSM                                                                                                                                         |LEI 8666                            |2018-04-27     |2018-05-23     |2018-04-27     |2021-04-26  |16262.75     |16262.75    |1           |16262.75     |48788.25       |JURIDICA       |20915213                   |SIMULTANEA ENGENHARIA LTDA                             |15316405002252017|05               |Pregão    |153164.0      |00225/2017      |NULL                                                                                                                                                                                                          |/comprasContratos/id/contrato/19559|Contrato 153164.50.00014.2018|/licitacoes/id/licitacao/15316405002252017|Licitação 15316405002252017|/licitacoes/id/modalidade_licitacao/05|Modalidade de Licitação 05: Pregão  |/licitacoes/id/uasg/153164|UASG 153164: UNIVERSIDADE FEDERAL DE SANTA MARIA        |\n",
            "|19561|15316450000302018|00030/2018|Despesa        |26247       |UNIVERSIDADE FEDERAL DE SANTA MARIA        |153164        |UFSM                 |UNIVERSIDADE FEDERAL DE SANTA MARIA        |NULL                 |NULL                                     |50         |Contrato|A definir|007903/2014-78      |CONTRATAÇÃO DE UMA EMPRESA ESPECIALIZADA PARA ELABORAÇÃO DE PLANO DE PREVENÇÃO E PROTEÇÃO CONTRA INCÊNCIO - PPCIS EM PRÉDIOS DA UFSM.                                                                                                                                              |LEI 8666/93                         |2018-04-27     |2018-05-23     |2018-04-27     |2021-04-26  |8034.0       |9536.19     |6           |1502.19      |27039.42       |JURIDICA       |20915213                   |SIMULTANEA ENGENHARIA LTDA                             |15316405002252017|05               |Pregão    |153164.0      |00225/2017      |NULL                                                                                                                                                                                                          |/comprasContratos/id/contrato/19561|Contrato 153164.50.00030.2018|/licitacoes/id/licitacao/15316405002252017|Licitação 15316405002252017|/licitacoes/id/modalidade_licitacao/05|Modalidade de Licitação 05: Pregão  |/licitacoes/id/uasg/153164|UASG 153164: UNIVERSIDADE FEDERAL DE SANTA MARIA        |\n",
            "|19562|15591350002482017|00248/2017|Despesa        |26443       |EMPRESA BRASILEIRA DE SERVICOS HOSPITALARES|155913        |HU-UFSC              |HOSPITAL UNIVERSITARIO DA UFSC             |150232               |HOSPITAL UNIVERSITARIO - UFSC            |50         |Contrato|A definir|23080.018826/2017-34|CONTRATAÇÃO DE EMPRESA ESPECIALIZADAPARA PRESTAÇÃO DE SERVIÇOS DE INSPEÇÃO ECONSULTORIA TÉCNICA DE VASOS DE PRESSÃOPERTENCENTES E INSTALADOS NO HU/UFSC.                                                                                                                           |LEI 8666/93.                        |2017-10-10     |2017-11-17     |2017-10-10     |2020-10-10  |354988.85    |354988.85   |1           |0.0          |354988.85      |JURIDICA       |75309237                   |RUGGERI & PIVA LTDA                                    |15023205001462017|05               |Pregão    |150232.0      |00146/2017      |NULL                                                                                                                                                                                                          |/comprasContratos/id/contrato/19562|Contrato 155913.50.00248.2017|/licitacoes/id/licitacao/15023205001462017|Licitação 15023205001462017|/licitacoes/id/modalidade_licitacao/05|Modalidade de Licitação 05: Pregão  |/licitacoes/id/uasg/155913|UASG 155913: HOSPITAL UNIVERSITARIO DA UFSC             |\n",
            "|19563|15316450000632018|00063/2018|Despesa        |26247       |UNIVERSIDADE FEDERAL DE SANTA MARIA        |153164        |UFSM                 |UNIVERSIDADE FEDERAL DE SANTA MARIA        |153164               |UNIVERSIDADE FEDERAL DE SANTA MARIA      |50         |Contrato|A definir|043746/2017-15      |CONTRATAÇÃO DE EMPRESA ESPECIALIZADA PARA ELEBORAÇÃO DE PLANO DE PREVENÇÃO E PROTEÇÃOCONTRA INCENDIO - PPCIS EM PRÉDIOS DOS CAMPIS DA UFSM.                                                                                                                                        |LEI 866693                          |2018-08-21     |2018-09-04     |2018-08-21     |2023-08-20  |13978.25     |1237500.0   |1           |1237500.0    |1279434.75     |JURIDICA       |20915213                   |SIMULTANEA ENGENHARIA LTDA                             |15316405002252017|05               |Pregão    |153164.0      |00225/2017      |NULL                                                                                                                                                                                                          |/comprasContratos/id/contrato/19563|Contrato 153164.50.00063.2018|/licitacoes/id/licitacao/15316405002252017|Licitação 15316405002252017|/licitacoes/id/modalidade_licitacao/05|Modalidade de Licitação 05: Pregão  |/licitacoes/id/uasg/153164|UASG 153164: UNIVERSIDADE FEDERAL DE SANTA MARIA        |\n",
            "+-----+-----------------+----------+---------------+------------+-------------------------------------------+--------------+---------------------+-------------------------------------------+---------------------+-----------------------------------------+-----------+--------+---------+--------------------+-----------------------------------------------------------------------------------------------------------------------------------------------------------------------------------------------------------------------------------------------------------------------------------+------------------------------------+---------------+---------------+---------------+------------+-------------+------------+------------+-------------+---------------+---------------+---------------------------+-------------------------------------------------------+-----------------+-----------------+----------+--------------+----------------+--------------------------------------------------------------------------------------------------------------------------------------------------------------------------------------------------------------+-----------------------------------+-----------------------------+------------------------------------------+---------------------------+--------------------------------------+------------------------------------+--------------------------+--------------------------------------------------------+\n",
            "only showing top 10 rows\n",
            "\n"
          ]
        }
      ]
    },
    {
      "cell_type": "markdown",
      "source": [
        "**Views**"
      ],
      "metadata": {
        "id": "S1tpO4nRa7gE"
      }
    },
    {
      "cell_type": "code",
      "source": [
        "\"\"\"\n",
        "empresas\n",
        "cnaes -> Tecnologia\n",
        "estabelecimentos -> Tecnologia\n",
        "compras_contratos\n",
        "\"\"\""
      ],
      "metadata": {
        "id": "CCxhLEwGsQRF"
      },
      "execution_count": null,
      "outputs": []
    },
    {
      "cell_type": "markdown",
      "source": [
        "**Salvando as views**"
      ],
      "metadata": {
        "id": "MrX9FpVPuoRl"
      }
    },
    {
      "cell_type": "code",
      "source": [
        "sqlCN.write.mode(\"overwrite\") \\\n",
        "     .option(\"delimiter\", \";\") \\\n",
        "     .option(\"header\", \"true\") \\\n",
        "     .csv(\"Cnaes_tecnologia\")"
      ],
      "metadata": {
        "id": "9KCYLlfFunDD"
      },
      "execution_count": null,
      "outputs": []
    },
    {
      "cell_type": "code",
      "source": [
        "sqlES.write.mode(\"overwrite\") \\\n",
        "     .option(\"delimiter\", \";\") \\\n",
        "     .option(\"header\", \"true\") \\\n",
        "     .csv(\"Estabelecimentos_tecnologia\")"
      ],
      "metadata": {
        "id": "lMT4NWwG0lzZ"
      },
      "execution_count": null,
      "outputs": []
    },
    {
      "cell_type": "code",
      "source": [
        "sqlDF.write.mode(\"overwrite\") \\\n",
        "     .option(\"delimiter\", \";\") \\\n",
        "     .option(\"header\", \"true\") \\\n",
        "     .csv(\"Empresas_tratadas\")"
      ],
      "metadata": {
        "id": "-aMdQoKl5SYt"
      },
      "execution_count": null,
      "outputs": []
    },
    {
      "cell_type": "code",
      "source": [
        "sqlCC.write.mode(\"overwrite\") \\\n",
        "     .option(\"delimiter\", \";\") \\\n",
        "     .option(\"header\", \"true\") \\\n",
        "     .csv(\"Compras_Contratos_tratados\")"
      ],
      "metadata": {
        "id": "LJQkocHq_GNS"
      },
      "execution_count": null,
      "outputs": []
    },
    {
      "cell_type": "code",
      "source": [
        "!mv /content/drive/MyDrive/Datasets/Cnaes_tecnologia /content/drive/MyDrive/Datasets/CNPJ"
      ],
      "metadata": {
        "id": "s8ot14pb3CtH"
      },
      "execution_count": null,
      "outputs": []
    },
    {
      "cell_type": "code",
      "source": [
        "!mv /content/drive/MyDrive/Datasets/Estabelecimentos_tecnologia /content/drive/MyDrive/Datasets/CNPJ"
      ],
      "metadata": {
        "id": "KR6lS1634UUu"
      },
      "execution_count": null,
      "outputs": []
    },
    {
      "cell_type": "code",
      "source": [
        "!mv /content/drive/MyDrive/Datasets/Empresas_tratadas /content/drive/MyDrive/Datasets/CNPJ"
      ],
      "metadata": {
        "id": "YlORZSK15tlU"
      },
      "execution_count": null,
      "outputs": []
    },
    {
      "cell_type": "markdown",
      "source": [
        "# Graph"
      ],
      "metadata": {
        "id": "xXHHv-_P3caw"
      }
    },
    {
      "cell_type": "markdown",
      "source": [
        "**Plotando gráfico para representativo em relações entre fornecedores (estabelecimentos de tecnologia) e unidades de compra.**"
      ],
      "metadata": {
        "id": "J-zT-xg10qVy"
      }
    },
    {
      "cell_type": "code",
      "source": [
        "from graphframes import *\n",
        "import networkx as nx"
      ],
      "metadata": {
        "id": "L3FIrBh5hTfH"
      },
      "execution_count": null,
      "outputs": []
    },
    {
      "cell_type": "code",
      "source": [
        "#sc = spark.sparkContext\n",
        "path = \"/content/drive/MyDrive/Datasets/CNPJ/Cnaes_tecnologia/*\"\n",
        "df_Cnaes_tecnologia = spark.read.option(\"delimiter\", \";\").option(\"header\", True).csv(path) # Foi adicionado option(\"header\", True) para subir os cabeçalhos.\n",
        "df_Cnaes_tecnologia.printSchema()\n",
        "df_Cnaes_tecnologia.show(truncate=False)"
      ],
      "metadata": {
        "colab": {
          "base_uri": "https://localhost:8080/"
        },
        "id": "nnqlUqaA40Bd",
        "outputId": "07d513e9-1c3c-44f4-92b5-3bcca18a0562"
      },
      "execution_count": null,
      "outputs": [
        {
          "output_type": "stream",
          "name": "stdout",
          "text": [
            "root\n",
            " |-- CODIGO: string (nullable = true)\n",
            " |-- DESCRICAO: string (nullable = true)\n",
            "\n",
            "+-------+----------------------------------------------------------------------------+\n",
            "|CODIGO |DESCRICAO                                                                   |\n",
            "+-------+----------------------------------------------------------------------------+\n",
            "|6201501|Desenvolvimento de programas de computador sob encomenda                    |\n",
            "|6201502|Web design                                                                  |\n",
            "|6202300|Desenvolvimento e licenciamento de programas de computador customizáveis    |\n",
            "|6203100|Desenvolvimento e licenciamento de programas de computador não-customizáveis|\n",
            "|6204000|Consultoria em tecnologia da informação                                     |\n",
            "|6209100|Suporte técnico, manutenção e outros serviços em tecnologia da informação   |\n",
            "+-------+----------------------------------------------------------------------------+\n",
            "\n"
          ]
        }
      ]
    },
    {
      "cell_type": "code",
      "source": [
        "#sc = spark.sparkContext\n",
        "path = \"/content/drive/MyDrive/Datasets/CNPJ/Empresas_tratadas/*\"\n",
        "df_Empresas_tratadas = spark.read.option(\"delimiter\", \";\").option(\"header\", True).csv(path) # Foi adicionado option(\"header\", True) para subir os cabeçalhos.\n",
        "df_Empresas_tratadas.printSchema()\n",
        "df_Empresas_tratadas.show(5,truncate=False)"
      ],
      "metadata": {
        "colab": {
          "base_uri": "https://localhost:8080/"
        },
        "id": "LXoi0nPr5F_J",
        "outputId": "af52f2ba-7da2-4d5a-d55d-aada448ff77e"
      },
      "execution_count": null,
      "outputs": [
        {
          "output_type": "stream",
          "name": "stdout",
          "text": [
            "root\n",
            " |-- CNPJ: string (nullable = true)\n",
            " |-- RAZAO_SOCIAL: string (nullable = true)\n",
            " |-- NATUREZA_JURIDICA: string (nullable = true)\n",
            " |-- QUALIFICACAO_RESPONSAVEL: string (nullable = true)\n",
            " |-- CAPITAL_SOCIAL: string (nullable = true)\n",
            " |-- PORTE_EMPRESA: string (nullable = true)\n",
            " |-- ENTE_FEDERATIVO: string (nullable = true)\n",
            "\n",
            "+--------+-----------------------------------------+-----------------+------------------------+--------------+-------------+---------------+\n",
            "|CNPJ    |RAZAO_SOCIAL                             |NATUREZA_JURIDICA|QUALIFICACAO_RESPONSAVEL|CAPITAL_SOCIAL|PORTE_EMPRESA|ENTE_FEDERATIVO|\n",
            "+--------+-----------------------------------------+-----------------+------------------------+--------------+-------------+---------------+\n",
            "|38378896|MIQUEIAS LEONARDO SILVA 43017011844      |2135             |50                      |5000,00       |01           |NULL           |\n",
            "|38378897|DENIS YOSHIAKI OGIHARA 28550825875       |2135             |50                      |10000,00      |01           |NULL           |\n",
            "|38378898|HENRY RANGEL TORRES 02636405313          |2135             |50                      |5000,00       |01           |NULL           |\n",
            "|38378900|LIVIA PEREIRA CASAES PAMPONET 46465790572|2135             |50                      |1000,00       |01           |NULL           |\n",
            "|38378901|ANTONIA CICERA OLIVEIRA ALVES 07278198364|2135             |50                      |5000,00       |01           |NULL           |\n",
            "+--------+-----------------------------------------+-----------------+------------------------+--------------+-------------+---------------+\n",
            "only showing top 5 rows\n",
            "\n"
          ]
        }
      ]
    },
    {
      "cell_type": "code",
      "source": [
        "df_Empresas_tratadas.createOrReplaceTempView(\"empresas_tratadas\")"
      ],
      "metadata": {
        "id": "7SEifIS6etdQ"
      },
      "execution_count": null,
      "outputs": []
    },
    {
      "cell_type": "code",
      "source": [
        "#sc = spark.sparkContext\n",
        "path = \"/content/drive/MyDrive/Datasets/CNPJ/Estabelecimentos_tecnologia/*\"\n",
        "df_Estabelecimentos_tecnologia = spark.read.option(\"delimiter\", \";\").option(\"header\", True).csv(path) # Foi adicionado option(\"header\", True) para subir os cabeçalhos.\n",
        "df_Estabelecimentos_tecnologia.printSchema()\n",
        "df_Estabelecimentos_tecnologia.show(5,truncate=False)"
      ],
      "metadata": {
        "colab": {
          "base_uri": "https://localhost:8080/"
        },
        "id": "2PKwueNF75Jf",
        "outputId": "23cff8e9-d8fe-44c1-f2a8-121af5e9312b"
      },
      "execution_count": null,
      "outputs": [
        {
          "output_type": "stream",
          "name": "stdout",
          "text": [
            "root\n",
            " |-- CNPJ: string (nullable = true)\n",
            " |-- ORDEM: string (nullable = true)\n",
            " |-- DV: string (nullable = true)\n",
            " |-- MATRIZ_FILIAL: string (nullable = true)\n",
            " |-- NOME_FANTASIA: string (nullable = true)\n",
            " |-- SITUACAO: string (nullable = true)\n",
            " |-- DATA_SITUACAO: string (nullable = true)\n",
            " |-- MOTIVO_SITUACAO: string (nullable = true)\n",
            " |-- CIDADE: string (nullable = true)\n",
            " |-- PAIS: string (nullable = true)\n",
            " |-- DT_INICIO: string (nullable = true)\n",
            " |-- CNAES_PRINCIPAL: string (nullable = true)\n",
            " |-- CNAES_SEC: string (nullable = true)\n",
            " |-- TIPO_LOGRADOURO: string (nullable = true)\n",
            " |-- LOGRADOURO: string (nullable = true)\n",
            " |-- NUMERO: string (nullable = true)\n",
            " |-- COMPLEMENTO: string (nullable = true)\n",
            " |-- BAIRRO: string (nullable = true)\n",
            " |-- CEP: string (nullable = true)\n",
            " |-- UF: string (nullable = true)\n",
            " |-- MUNICIPIO: string (nullable = true)\n",
            " |-- DDD1: string (nullable = true)\n",
            " |-- TELEFONE1: string (nullable = true)\n",
            " |-- DDD2: string (nullable = true)\n",
            " |-- TELEFONE2: string (nullable = true)\n",
            " |-- DDDFAX: string (nullable = true)\n",
            " |-- FAX: string (nullable = true)\n",
            " |-- EMAIL: string (nullable = true)\n",
            " |-- SITUACAO_ESPECIAL: string (nullable = true)\n",
            " |-- DT_SITUACAO_ESPECIAL: string (nullable = true)\n",
            "\n",
            "+--------+-----+---+-------------+----------------------------------------------+--------+-------------+---------------+------+----+---------+---------------+---------------+---------------+----------------------------+------+------------+--------------+--------+---+---------+----+---------+----+---------+------+----+------------------------------+-----------------+--------------------+\n",
            "|CNPJ    |ORDEM|DV |MATRIZ_FILIAL|NOME_FANTASIA                                 |SITUACAO|DATA_SITUACAO|MOTIVO_SITUACAO|CIDADE|PAIS|DT_INICIO|CNAES_PRINCIPAL|CNAES_SEC      |TIPO_LOGRADOURO|LOGRADOURO                  |NUMERO|COMPLEMENTO |BAIRRO        |CEP     |UF |MUNICIPIO|DDD1|TELEFONE1|DDD2|TELEFONE2|DDDFAX|FAX |EMAIL                         |SITUACAO_ESPECIAL|DT_SITUACAO_ESPECIAL|\n",
            "+--------+-----+---+-------------+----------------------------------------------+--------+-------------+---------------+------+----+---------+---------------+---------------+---------------+----------------------------+------+------------+--------------+--------+---+---------+----+---------+----+---------+------+----+------------------------------+-----------------+--------------------+\n",
            "|07424746|0001 |71 |1            |NS & M CONSULTORIA E ASSESSORIA EM INFORMATICA|08      |20110224     |01             |NULL  |NULL|20050503 |6209100        |NULL           |RUA            |PEDRO PROCOPIO              |148   |SALA 4 D    |CENTRO        |06501130|SP |7047     |NULL|NULL     |NULL|NULL     |NULL  |NULL|NULL                          |NULL             |NULL                |\n",
            "|07458022|0001 |49 |1            |NULL                                          |08      |20170623     |01             |NULL  |NULL|20050617 |6201501        |6204000        |RUA            |ANTONIO FRANCISCO DE ANDRADE|421   |APTO. 42    |JARDIM PROENCA|13026140|SP |6291     |NULL|NULL     |NULL|NULL     |NULL  |NULL|NULL                          |NULL             |NULL                |\n",
            "|07610867|0001 |08 |1            |NEM'S HOUSE                                   |04      |20181002     |63             |NULL  |NULL|20050923 |6209100        |6311900        |AVENIDA        |AV. JI-PARANA               |796   |NULL        |BAIRRO URUPA  |78961070|RO |0005     |69  |34711016 |NULL|NULL     |NULL  |NULL|NULL                          |NULL             |NULL                |\n",
            "|07924514|0001 |82 |1            |NULL                                          |02      |20060314     |00             |NULL  |NULL|20060314 |6201501        |6204000        |AVENIDA        |IRAI                        |393   |CONJUNTO 101|MOEMA         |04082001|SP |7107     |11  |50930685 |11  |50930685 |NULL  |NULL|administrativo@psfields.com.br|NULL             |NULL                |\n",
            "|07932993|0001 |89 |1            |NEW INTERNET ME                               |08      |20190827     |01             |NULL  |NULL|20060406 |6201501        |6209100,6204000|RUA            |DO ORATORIO                 |522   |S/ 1202     |MOOCA         |03116901|SP |7107     |11  |66014376 |NULL|NULL     |NULL  |NULL|NULL                          |NULL             |NULL                |\n",
            "+--------+-----+---+-------------+----------------------------------------------+--------+-------------+---------------+------+----+---------+---------------+---------------+---------------+----------------------------+------+------------+--------------+--------+---+---------+----+---------+----+---------+------+----+------------------------------+-----------------+--------------------+\n",
            "only showing top 5 rows\n",
            "\n"
          ]
        }
      ]
    },
    {
      "cell_type": "code",
      "source": [
        "df_Estabelecimentos_tecnologia.createOrReplaceTempView(\"Estabelecimentos_tecnologia\")"
      ],
      "metadata": {
        "id": "63G6VRXkNGHN"
      },
      "execution_count": null,
      "outputs": []
    },
    {
      "cell_type": "code",
      "source": [
        "#sc = spark.sparkContext\n",
        "path = \"/content/drive/MyDrive/Datasets/Compras_Contratos_tratados/*\"\n",
        "df_Compras_Contratos_tratados = spark.read.option(\"delimiter\", \";\").option(\"header\", True).csv(path) # Foi adicionado option(\"header\", True) para subir os cabeçalhos.\n",
        "df_Compras_Contratos_tratados.printSchema()\n",
        "df_Compras_Contratos_tratados.show(truncate=False)"
      ],
      "metadata": {
        "id": "NdwqkZU0BBDe",
        "colab": {
          "base_uri": "https://localhost:8080/"
        },
        "outputId": "c6d4ec00-73a1-478d-fbe6-b5a09aa0fd56"
      },
      "execution_count": null,
      "outputs": [
        {
          "output_type": "stream",
          "name": "stdout",
          "text": [
            "root\n",
            " |-- id: string (nullable = true)\n",
            " |-- codigo_contrato: string (nullable = true)\n",
            " |-- numero: string (nullable = true)\n",
            " |-- receita_despesa: string (nullable = true)\n",
            " |-- orgao_codigo: string (nullable = true)\n",
            " |-- orgao_nome: string (nullable = true)\n",
            " |-- unidade_codigo: string (nullable = true)\n",
            " |-- unidade_nome_resumido: string (nullable = true)\n",
            " |-- unidade_nome: string (nullable = true)\n",
            " |-- unidade_origem_codigo: string (nullable = true)\n",
            " |-- unidade_origem_nome: string (nullable = true)\n",
            " |-- codigo_tipo: string (nullable = true)\n",
            " |-- tipo: string (nullable = true)\n",
            " |-- categoria: string (nullable = true)\n",
            " |-- processo: string (nullable = true)\n",
            " |-- objeto: string (nullable = true)\n",
            " |-- fundamento_legal: string (nullable = true)\n",
            " |-- data_assinatura: string (nullable = true)\n",
            " |-- data_publicacao: string (nullable = true)\n",
            " |-- vigencia_inicio: string (nullable = true)\n",
            " |-- vigencia_fim: string (nullable = true)\n",
            " |-- valor_inicial: string (nullable = true)\n",
            " |-- valor_global: string (nullable = true)\n",
            " |-- num_parcelas: string (nullable = true)\n",
            " |-- valor_parcela: string (nullable = true)\n",
            " |-- valor_acumulado: string (nullable = true)\n",
            " |-- fornecedor_tipo: string (nullable = true)\n",
            " |-- fornecedor_cnpj_cpf_idgener: string (nullable = true)\n",
            " |-- fornecedor_nome: string (nullable = true)\n",
            " |-- codigo_compra: string (nullable = true)\n",
            " |-- modalidade_codigo: string (nullable = true)\n",
            " |-- modalidade: string (nullable = true)\n",
            " |-- unidade_compra: string (nullable = true)\n",
            " |-- licitacao_numero: string (nullable = true)\n",
            " |-- informacao_complementar: string (nullable = true)\n",
            " |-- _links.self.href: string (nullable = true)\n",
            " |-- _links.self.title: string (nullable = true)\n",
            " |-- _links.licitacao.href: string (nullable = true)\n",
            " |-- _links.licitacao.title: string (nullable = true)\n",
            " |-- _links.modalidade_licitacao.href: string (nullable = true)\n",
            " |-- _links.modalidade_licitacao.title: string (nullable = true)\n",
            " |-- _links.uasg.href: string (nullable = true)\n",
            " |-- _links.uasg.title: string (nullable = true)\n",
            "\n",
            "+-----+-----------------+----------+---------------+------------+--------------------------------------------+--------------+---------------------+--------------------------------------------+---------------------+--------------------------------------------+-----------+--------+---------+--------------------+-----------------------------------------------------------------------------------------------------------------------------------------------------------------------------------------------------------------------------------------------------------------------------------+------------------------------------+---------------+---------------+---------------+------------+-------------+------------+------------+-------------+---------------+---------------+---------------------------+-------------------------------------------------------+-----------------+-----------------+---------------+--------------+----------------+--------------------------------------------------------------------------------------------------------------------------------------------------------------------------------------------------------------+-----------------------------------+-----------------------------+------------------------------------------+---------------------------+--------------------------------------+-------------------------------------------+--------------------------+---------------------------------------------------------+\n",
            "|id   |codigo_contrato  |numero    |receita_despesa|orgao_codigo|orgao_nome                                  |unidade_codigo|unidade_nome_resumido|unidade_nome                                |unidade_origem_codigo|unidade_origem_nome                         |codigo_tipo|tipo    |categoria|processo            |objeto                                                                                                                                                                                                                                                                             |fundamento_legal                    |data_assinatura|data_publicacao|vigencia_inicio|vigencia_fim|valor_inicial|valor_global|num_parcelas|valor_parcela|valor_acumulado|fornecedor_tipo|fornecedor_cnpj_cpf_idgener|fornecedor_nome                                        |codigo_compra    |modalidade_codigo|modalidade     |unidade_compra|licitacao_numero|informacao_complementar                                                                                                                                                                                       |_links.self.href                   |_links.self.title            |_links.licitacao.href                     |_links.licitacao.title     |_links.modalidade_licitacao.href      |_links.modalidade_licitacao.title          |_links.uasg.href          |_links.uasg.title                                        |\n",
            "+-----+-----------------+----------+---------------+------------+--------------------------------------------+--------------+---------------------+--------------------------------------------+---------------------+--------------------------------------------+-----------+--------+---------+--------------------+-----------------------------------------------------------------------------------------------------------------------------------------------------------------------------------------------------------------------------------------------------------------------------------+------------------------------------+---------------+---------------+---------------+------------+-------------+------------+------------+-------------+---------------+---------------+---------------------------+-------------------------------------------------------+-----------------+-----------------+---------------+--------------+----------------+--------------------------------------------------------------------------------------------------------------------------------------------------------------------------------------------------------------+-----------------------------------+-----------------------------+------------------------------------------+---------------------------+--------------------------------------+-------------------------------------------+--------------------------+---------------------------------------------------------+\n",
            "|19553|15308050000962017|00096/2017|Despesa        |26242       |UNIVERSIDADE FEDERAL DE PERNAMBUCO          |153080        |UFPE                 |UNIVERSIDADE FEDERAL DE PERNAMBUCO          |153080               |UNIVERSIDADE FEDERAL DE PERNAMBUCO          |50         |Contrato|Serviços |23076.048171/2016-15|CONTRATAÇÃO DE EMPRESA ESPECIALIZADA EM SERVIÇOS DE CONTROLE DE PRAGAS DE CUPINS, RATOS E INSETOS RASTEIROS E VOADORES EM ÁREAS ESPECÍFICAS DO CAMPUS RECIFE DA UFPE.                                                                                                              |LEI Nº 8.666/93, ATUALIZADA.        |2017-11-14     |2017-11-28     |2017-11-14     |2022-05-08  |115920.0     |141157.88   |1           |141157.88    |1835052.44     |JURIDICA       |10286009                   |EFICAZ SERVICOS E TERCEIRIZACOES EIRELI                |15308005001612017|05               |Pregão         |153080.0      |00161/2017      |NULL                                                                                                                                                                                                          |/comprasContratos/id/contrato/19553|Contrato 153080.50.00096.2017|/licitacoes/id/licitacao/15308005001612017|Licitação 15308005001612017|/licitacoes/id/modalidade_licitacao/05|Modalidade de Licitação 05: Pregão         |/licitacoes/id/uasg/153080|UASG 153080: UNIVERSIDADE FEDERAL DE PERNAMBUCO          |\n",
            "|19554|15310350000062017|00006/2017|Despesa        |26243       |UNIVERSIDADE FEDERAL DO RIO GRANDE DO NORTE |153103        |UFRN                 |UNIVERSIDADE FEDERAL DO RIO GRANDE DO NORTE |NULL                 |NULL                                        |50         |Contrato|A definir|23077.012317/2016-76|PRESTAÇÃO DE SERVIÇOS DE LINK DE COMUNICAÇÃO DE DADOS (REDE WAN), COM GERENCIAMENTO PRÓ ATIVO E CAPACIDADE PARA PROVER TRÁFEGO DE DADOS, VOZ E IMAGEM, ATENDENDO AS DEMANDAS DA UFRN, MACAÍBA, SANTA CRUZ, CURRAIS NOVOS, CAICÓ, NOVA CRUZ E MACAU PELO PERÍODO DE 12 (DOZE) MESES.|LEI 8.666/93.                       |2017-02-02     |2017-03-07     |2017-02-02     |2023-02-02  |693000.0     |693000.0    |1           |693000.0     |1386000.0      |JURIDICA       |06346446                   |SITECNET INFORMATICA LTDA                              |15310305000092016|05               |Pregão         |153103.0      |00009/2016      |NULL                                                                                                                                                                                                          |/comprasContratos/id/contrato/19554|Contrato 153103.50.00006.2017|/licitacoes/id/licitacao/15310305000092016|Licitação 15310305000092016|/licitacoes/id/modalidade_licitacao/05|Modalidade de Licitação 05: Pregão         |/licitacoes/id/uasg/153103|UASG 153103: UNIVERSIDADE FEDERAL DO RIO GRANDE DO NORTE |\n",
            "|19555|15316350001232017|00123/2017|Despesa        |26246       |UNIVERSIDADE FEDERAL DE SANTA CATARINA      |153163        |UFSC                 |UNIVERSIDADE FEDERAL DE SANTA CATARINA      |NULL                 |NULL                                        |50         |Contrato|A definir|23080.008825/2017-81|PROJETO DE EXTENSÃO ESPORTES E ATIVIDADES FÍSICAS A  COMUNIDADE.                                                                                                                                                                                                                   |LEI 8666                            |2017-07-06     |2017-07-24     |2017-07-06     |2021-12-31  |1040000.0    |1040000.0   |1           |1040000.0    |6240000.0      |JURIDICA       |83476911                   |FUNDACAO DE AMPARO A PESQUISA E EXTENSAO UNIVERSITARIA |15316306001712017|06               |Dispensa       |153163.0      |00171/2017      |NULL                                                                                                                                                                                                          |/comprasContratos/id/contrato/19555|Contrato 153163.50.00123.2017|/licitacoes/id/licitacao/15316306001712017|Licitação 15316306001712017|/licitacoes/id/modalidade_licitacao/06|Modalidade de Licitação 06: Dispensa       |/licitacoes/id/uasg/153163|UASG 153163: UNIVERSIDADE FEDERAL DE SANTA CATARINA      |\n",
            "|19556|15311550000352017|00035/2017|Despesa        |26245       |UNIVERSIDADE FEDERAL DO RIO DE JANEIRO      |153115        |UFRJ                 |UNIVERSIDADE FEDERAL DO RIO DE JANEIRO      |NULL                 |NULL                                        |50         |Contrato|A definir|23079.015172/2017-26|SERVIÇO DE APOIO A GESTÃO ADMINISTRATIVA E FINANCEIRA PARA A EXECUÇÃO DO PROJETO MOVAR                                                                                                                                                                                             |LEI 8666/93, ART.24, INCISO XIII    |2017-09-12     |2017-10-11     |2017-09-12     |2020-12-31  |78100.0      |78100.0     |1           |78100.0      |78100.0        |JURIDICA       |72060999                   |FUNDACAO COORDENACAO DE PROJETOS,PESQUISAS E ESTUDOS TE|15311506001822017|06               |Dispensa       |153115.0      |00182/2017      |FUNDAMETAÇÃO LEGAL: LEI 8.666/1993, ART. 24, INCISO XIII; ART. 54, INCISOS I E II, PARÁGRAFOS 1 A 4, PORTARIA INTERMINISTERIAL Nº 507, DE 24 DE NOVEMBRO DE 2011                                              |/comprasContratos/id/contrato/19556|Contrato 153115.50.00035.2017|/licitacoes/id/licitacao/15311506001822017|Licitação 15311506001822017|/licitacoes/id/modalidade_licitacao/06|Modalidade de Licitação 06: Dispensa       |/licitacoes/id/uasg/153115|UASG 153115: UNIVERSIDADE FEDERAL DO RIO DE JANEIRO      |\n",
            "|19557|15311450001012017|00101/2017|Despesa        |26244       |UNIVERSIDADE FEDERAL DO RIO GRANDE DO SUL   |153114        |UFRGS                |UNIVERSIDADE FEDERAL DO RIO GRANDE DO SUL   |153114               |UNIVERSIDADE FEDERAL DO RIO GRANDE DO SUL   |50         |Contrato|Serviços |23078.515768/2016-51|CONTRATAÇÃO DE EMPRESA PARA PRESTAÇÃO -DE SERVIÇOS DE MANUTENÇÃO EM EQUIPAMENTOS ÓPTICOS LABORATORIAIS. FORNECIMENTO E TROCA DE PEÇAS PARA A FACULDADE DE VETERINÁRIA, INSTITUTO DECIÊNCIAS BÁSICAS DA SAÚDE, INSTITUTO DE BIOCIÊNCIAS E FACULDADE DE AGRONOMIA DA UFRGS.          |LEI 8.666/93.                       |2017-12-14     |2017-12-19     |2017-12-14     |2022-12-14  |667212.45    |1030702.65  |60          |17178.38     |1450272.12     |JURIDICA       |28625382                   |SPECTRU INSTRUMENTAL CIENTIFICO LTDA                   |15311405001432017|05               |Pregão         |153114.0      |00143/2017      |NULL                                                                                                                                                                                                          |/comprasContratos/id/contrato/19557|Contrato 153114.50.00101.2017|/licitacoes/id/licitacao/15311405001432017|Licitação 15311405001432017|/licitacoes/id/modalidade_licitacao/05|Modalidade de Licitação 05: Pregão         |/licitacoes/id/uasg/153114|UASG 153114: UNIVERSIDADE FEDERAL DO RIO GRANDE DO SUL   |\n",
            "|19558|15316350003432017|00343/2017|Despesa        |26246       |UNIVERSIDADE FEDERAL DE SANTA CATARINA      |153163        |UFSC                 |UNIVERSIDADE FEDERAL DE SANTA CATARINA      |153163               |UNIVERSIDADE FEDERAL DE SANTA CATARINA      |50         |Contrato|Serviços |23080.079585/2017-08|APOIO ADMINISTRATIVO AO PROJETO DE PESQUISA \"PESQUISA DE EVENTOS ADVERSOS EM IMPLANTES ORTOPÉDICOS - CENTRO NACIONAL DE ANÁLISES DE EXPLANTES CNAEX\"                                                                                                                               |ARTIGO 24, INCISO XIII, LEI 8.666/93|2018-02-06     |2018-02-23     |2018-02-06     |2022-12-23  |3700500.0    |5143695.0   |1           |5143695.0    |9.421473E7     |JURIDICA       |82895327                   |FUNDACAO DE ENSINO E ENGENHARIA DE SANTA CATARINA      |15316306007142017|06               |Dispensa       |153163.0      |00714/2017      |CORRIGIDO EM 23/11/2022 OS VALORES DOS ITENS DO CONTRATO, NESTE ADITIVO, DEVIDO ERRO QUE SISTEMA APRESENTAVA, E QUE APARECIA VALOR DIFERENTE DO MONTANTE DO CONTRATO (INSTRUMENTO INICIAL + 1º ADITIVO VALOR).|/comprasContratos/id/contrato/19558|Contrato 153163.50.00343.2017|/licitacoes/id/licitacao/15316306007142017|Licitação 15316306007142017|/licitacoes/id/modalidade_licitacao/06|Modalidade de Licitação 06: Dispensa       |/licitacoes/id/uasg/153163|UASG 153163: UNIVERSIDADE FEDERAL DE SANTA CATARINA      |\n",
            "|19559|15316450000142018|00014/2018|Despesa        |26247       |UNIVERSIDADE FEDERAL DE SANTA MARIA         |153164        |UFSM                 |UNIVERSIDADE FEDERAL DE SANTA MARIA         |NULL                 |NULL                                        |50         |Contrato|A definir|007903/2014-78      |CONTRATAÇÃO DE EMPRESA ESPECIALIZADA PARA ELABORAÇÃO DE PLANO DE PREVENÇÃO E PROTEÇÃOCONTRA INCÊNDIO - PPCIS EM PRÉDIOS DOS CAMPIS DA UFSM                                                                                                                                         |LEI 8666                            |2018-04-27     |2018-05-23     |2018-04-27     |2021-04-26  |16262.75     |16262.75    |1           |16262.75     |48788.25       |JURIDICA       |20915213                   |SIMULTANEA ENGENHARIA LTDA                             |15316405002252017|05               |Pregão         |153164.0      |00225/2017      |NULL                                                                                                                                                                                                          |/comprasContratos/id/contrato/19559|Contrato 153164.50.00014.2018|/licitacoes/id/licitacao/15316405002252017|Licitação 15316405002252017|/licitacoes/id/modalidade_licitacao/05|Modalidade de Licitação 05: Pregão         |/licitacoes/id/uasg/153164|UASG 153164: UNIVERSIDADE FEDERAL DE SANTA MARIA         |\n",
            "|19561|15316450000302018|00030/2018|Despesa        |26247       |UNIVERSIDADE FEDERAL DE SANTA MARIA         |153164        |UFSM                 |UNIVERSIDADE FEDERAL DE SANTA MARIA         |NULL                 |NULL                                        |50         |Contrato|A definir|007903/2014-78      |CONTRATAÇÃO DE UMA EMPRESA ESPECIALIZADA PARA ELABORAÇÃO DE PLANO DE PREVENÇÃO E PROTEÇÃO CONTRA INCÊNCIO - PPCIS EM PRÉDIOS DA UFSM.                                                                                                                                              |LEI 8666/93                         |2018-04-27     |2018-05-23     |2018-04-27     |2021-04-26  |8034.0       |9536.19     |6           |1502.19      |27039.42       |JURIDICA       |20915213                   |SIMULTANEA ENGENHARIA LTDA                             |15316405002252017|05               |Pregão         |153164.0      |00225/2017      |NULL                                                                                                                                                                                                          |/comprasContratos/id/contrato/19561|Contrato 153164.50.00030.2018|/licitacoes/id/licitacao/15316405002252017|Licitação 15316405002252017|/licitacoes/id/modalidade_licitacao/05|Modalidade de Licitação 05: Pregão         |/licitacoes/id/uasg/153164|UASG 153164: UNIVERSIDADE FEDERAL DE SANTA MARIA         |\n",
            "|19562|15591350002482017|00248/2017|Despesa        |26443       |EMPRESA BRASILEIRA DE SERVICOS HOSPITALARES |155913        |HU-UFSC              |HOSPITAL UNIVERSITARIO DA UFSC              |150232               |HOSPITAL UNIVERSITARIO - UFSC               |50         |Contrato|A definir|23080.018826/2017-34|CONTRATAÇÃO DE EMPRESA ESPECIALIZADAPARA PRESTAÇÃO DE SERVIÇOS DE INSPEÇÃO ECONSULTORIA TÉCNICA DE VASOS DE PRESSÃOPERTENCENTES E INSTALADOS NO HU/UFSC.                                                                                                                           |LEI 8666/93.                        |2017-10-10     |2017-11-17     |2017-10-10     |2020-10-10  |354988.85    |354988.85   |1           |0.0          |354988.85      |JURIDICA       |75309237                   |RUGGERI & PIVA LTDA                                    |15023205001462017|05               |Pregão         |150232.0      |00146/2017      |NULL                                                                                                                                                                                                          |/comprasContratos/id/contrato/19562|Contrato 155913.50.00248.2017|/licitacoes/id/licitacao/15023205001462017|Licitação 15023205001462017|/licitacoes/id/modalidade_licitacao/05|Modalidade de Licitação 05: Pregão         |/licitacoes/id/uasg/155913|UASG 155913: HOSPITAL UNIVERSITARIO DA UFSC              |\n",
            "|19563|15316450000632018|00063/2018|Despesa        |26247       |UNIVERSIDADE FEDERAL DE SANTA MARIA         |153164        |UFSM                 |UNIVERSIDADE FEDERAL DE SANTA MARIA         |153164               |UNIVERSIDADE FEDERAL DE SANTA MARIA         |50         |Contrato|A definir|043746/2017-15      |CONTRATAÇÃO DE EMPRESA ESPECIALIZADA PARA ELEBORAÇÃO DE PLANO DE PREVENÇÃO E PROTEÇÃOCONTRA INCENDIO - PPCIS EM PRÉDIOS DOS CAMPIS DA UFSM.                                                                                                                                        |LEI 866693                          |2018-08-21     |2018-09-04     |2018-08-21     |2023-08-20  |13978.25     |1237500.0   |1           |1237500.0    |1279434.75     |JURIDICA       |20915213                   |SIMULTANEA ENGENHARIA LTDA                             |15316405002252017|05               |Pregão         |153164.0      |00225/2017      |NULL                                                                                                                                                                                                          |/comprasContratos/id/contrato/19563|Contrato 153164.50.00063.2018|/licitacoes/id/licitacao/15316405002252017|Licitação 15316405002252017|/licitacoes/id/modalidade_licitacao/05|Modalidade de Licitação 05: Pregão         |/licitacoes/id/uasg/153164|UASG 153164: UNIVERSIDADE FEDERAL DE SANTA MARIA         |\n",
            "|19564|15316450001152018|00115/2018|Despesa        |26247       |UNIVERSIDADE FEDERAL DE SANTA MARIA         |153164        |UFSM                 |UNIVERSIDADE FEDERAL DE SANTA MARIA         |153164               |UNIVERSIDADE FEDERAL DE SANTA MARIA         |50         |Contrato|A definir|043746/2017-15      |CONTRATAÇÃO DE EMPRESA ESPECIALIZADA PARA ELABORAÇÃO DE PLANO DE PPREVENÇÃO CONTRA INCENDIO.                                                                                                                                                                                       |LEI 8666/93                         |2018-11-14     |2018-11-20     |2018-11-14     |2023-11-13  |103287.0     |887500.0    |1           |887500.0     |309861.0       |JURIDICA       |20915213                   |SIMULTANEA ENGENHARIA LTDA                             |15316405002252017|05               |Pregão         |153164.0      |00225/2017      |NULL                                                                                                                                                                                                          |/comprasContratos/id/contrato/19564|Contrato 153164.50.00115.2018|/licitacoes/id/licitacao/15316405002252017|Licitação 15316405002252017|/licitacoes/id/modalidade_licitacao/05|Modalidade de Licitação 05: Pregão         |/licitacoes/id/uasg/153164|UASG 153164: UNIVERSIDADE FEDERAL DE SANTA MARIA         |\n",
            "|19565|15015050000022017|00002/2017|Despesa        |26258       |UNIVERSIDADE TECNOLOGICA FEDERAL DO PARANA  |150150        |CAMPUS TOLEDO-PR     |UTFPR - CAMPUS TOLEDO                       |150150               |UTFPR - CAMPUS TOLEDO                       |50         |Contrato|Serviços |23064.002288/2017-64|CONTRATAÇÃO DE EMPRESA ESPECIALIZADA PARA PREPARAÇÃO E FORNECIMENTO DE REFEIÇÕES NO R.U. DA UTFPR CÂMPUS TOLEDO                                                                                                                                                                    |LEI 8.666/93                        |2017-07-10     |2017-07-14     |2017-07-20     |2023-12-31  |1260000.0    |1895400.0   |12          |157950.0     |7007000.0      |JURIDICA       |07264967                   |PEDRO GIORDANI - REFEICOES                             |15015005000062017|05               |Pregão         |150150.0      |00006/2017      |NULL                                                                                                                                                                                                          |/comprasContratos/id/contrato/19565|Contrato 150150.50.00002.2017|/licitacoes/id/licitacao/15015005000062017|Licitação 15015005000062017|/licitacoes/id/modalidade_licitacao/05|Modalidade de Licitação 05: Pregão         |/licitacoes/id/uasg/150150|UASG 150150: UTFPR - CAMPUS TOLEDO                       |\n",
            "|19566|15485250000022017|00002/2017|Despesa        |26258       |UNIVERSIDADE TECNOLOGICA FEDERAL DO PARANA  |154852        |CAMPUS SANTA HELENA  |UTFPR CAMPUS SANTA HELENA                   |NULL                 |NULL                                        |50         |Contrato|A definir|23064.001353/2017-34|PRESTAÇÃO DO SERVIÇO DE TRANSPORTE RODOVIÁRIO DE PASSAGEIROS COM ÔNIBUS E MICRO-ÔNIBUS.                                                                                                                                                                                            |LEI 8.666/93                        |2017-04-25     |2017-05-12     |2017-04-25     |2022-04-24  |274200.0     |406800.0    |1           |406800.0     |406800.0       |JURIDICA       |04698286                   |CARI TRANSPORTE RODOVIARIO DE PASSAGEIROS LTDA         |15485205000042017|05               |Pregão         |154852.0      |00004/2017      |NULL                                                                                                                                                                                                          |/comprasContratos/id/contrato/19566|Contrato 154852.50.00002.2017|/licitacoes/id/licitacao/15485205000042017|Licitação 15485205000042017|/licitacoes/id/modalidade_licitacao/05|Modalidade de Licitação 05: Pregão         |/licitacoes/id/uasg/154852|UASG 154852: UTFPR CAMPUS SANTA HELENA                   |\n",
            "|19567|15303150000072017|00007/2017|Despesa        |26262       |UNIVERSIDADE FEDERAL DE SAO PAULO           |153031        |UNIFESP              |UNIFESP-UNIVERSIDADE FEDERAL DE SAO PAULO   |NULL                 |NULL                                        |50         |Contrato|Serviços |23089.010347/2016-17|CONTRATAÇÃO DE SERVIÇOS DE CHAVEIRO.                                                                                                                                                                                                                                               |LEI 8666/93                         |2017-03-15     |2017-04-26     |2017-03-15     |2021-03-14  |46802.5      |46802.5     |12          |3900.21      |191730.84      |JURIDICA       |01958411                   |CHAVEIRO VILA NOVA DE SANTOS LTDA                      |15303105000012017|05               |Pregão         |153031.0      |00001/2017      |NULL                                                                                                                                                                                                          |/comprasContratos/id/contrato/19567|Contrato 153031.50.00007.2017|/licitacoes/id/licitacao/15303105000012017|Licitação 15303105000012017|/licitacoes/id/modalidade_licitacao/05|Modalidade de Licitação 05: Pregão         |/licitacoes/id/uasg/153031|UASG 153031: UNIFESP-UNIVERSIDADE FEDERAL DE SAO PAULO   |\n",
            "|19568|15303150000192018|00019/2018|Despesa        |26262       |UNIVERSIDADE FEDERAL DE SAO PAULO           |153031        |UNIFESP              |UNIFESP-UNIVERSIDADE FEDERAL DE SAO PAULO   |NULL                 |NULL                                        |50         |Contrato|A definir|23089.001007/2017-78|LICENÇA TEMPORÁRIA DE BASE DE DADOS-(BIBLIOTECA DIGITAL).                                                                                                                                                                                                                          |LEI 8666-93                         |2018-03-05     |2018-03-27     |2018-03-05     |2021-03-05  |128900.0     |19320.0     |1           |0.0          |128900.0       |JURIDICA       |13183749                   |MINHA BIBLIOTECA LTDA.                                 |15303107001322017|07               |Inexigibilidade|153031.0      |00132/2017      |NULL                                                                                                                                                                                                          |/comprasContratos/id/contrato/19568|Contrato 153031.50.00019.2018|/licitacoes/id/licitacao/15303107001322017|Licitação 15303107001322017|/licitacoes/id/modalidade_licitacao/07|Modalidade de Licitação 07: Inexigibilidade|/licitacoes/id/uasg/153031|UASG 153031: UNIFESP-UNIVERSIDADE FEDERAL DE SAO PAULO   |\n",
            "|19569|15435950000142017|00014/2017|Despesa        |26266       |FUNDACAO UNIVERSIDADE FEDERAL DO PAMPA      |154359        |UNIPAMPA             |FUNDACAO UNIVERSIDADE FEDERAL DO PAMPA      |NULL                 |NULL                                        |50         |Contrato|A definir|23100.001931/2017-59|PRESTAÇÃO DESERVIÇOS E VENDA DE PRODUTOS EXCLUSIVOS DOS CORREIOS PARA ATENDIMENTO DASNECESSIDADES DA UNIPAMPA.                                                                                                                                                                     |LEI 8.666/93                        |2017-07-17     |2017-09-20     |2017-07-17     |2022-07-16  |600000.0     |600000.0    |1           |600000.0     |600000.0       |JURIDICA       |34028316                   |EMPRESA BRASILEIRA DE CORREIOS E TELEGRAFOS            |15435906000252017|06               |Dispensa       |154359.0      |00025/2017      |NULL                                                                                                                                                                                                          |/comprasContratos/id/contrato/19569|Contrato 154359.50.00014.2017|/licitacoes/id/licitacao/15435906000252017|Licitação 15435906000252017|/licitacoes/id/modalidade_licitacao/06|Modalidade de Licitação 06: Dispensa       |/licitacoes/id/uasg/154359|UASG 154359: FUNDACAO UNIVERSIDADE FEDERAL DO PAMPA      |\n",
            "|19570|15403950000182017|00018/2017|Despesa        |26270       |FUNDACAO UNIVERSIDADE DO AMAZONAS           |154039        |FUAM                 |FUNDACAO UNIVERSIDADE DO AMAZONAS           |NULL                 |NULL                                        |50         |Contrato|A definir|23105..03834/2/20-17|CONSISTE NO PREPARO E FORNECIMENTO DE ALIMENTAÇÃO (ALMOÇO, JANTAR E DESJEJUM) DESTINADOS A COMUNIDADE UNIVERSITÁRIA, DEVIDAMENTE AUTORIZADOS, MEDIANTE A CESSÃO ONEROSA DE USO DE ESPAÇOS.                                                                                         |LEI 8666/93.                        |2017-02-13     |2017-02-16     |2017-03-02     |2020-12-31  |8812800.0    |8812800.0   |1           |8812800.0    |3.52512E7      |JURIDICA       |13523245                   |M J RESTAURANTES LTDA                                  |15403903000022016|03               |Concorrência   |154039.0      |00002/2016      |NULL                                                                                                                                                                                                          |/comprasContratos/id/contrato/19570|Contrato 154039.50.00018.2017|/licitacoes/id/licitacao/15403903000022016|Licitação 15403903000022016|/licitacoes/id/modalidade_licitacao/03|Modalidade de Licitação 03: Concorrência   |/licitacoes/id/uasg/154039|UASG 154039: FUNDACAO UNIVERSIDADE DO AMAZONAS           |\n",
            "|19571|15404050000602017|00060/2017|Despesa        |26271       |FUNDACAO UNIVERSIDADE DE BRASILIA           |154040        |FUB                  |FUNDACAO UNIVERSIDADE DE BRASILIA - FUB     |NULL                 |NULL                                        |50         |Contrato|A definir|23106.032983/2017-17|MANUTENÇÃO PREVENTIVA E CORRETIVA DO MICROSCÓPIO ELETRÔNICO DE VARREDURA, MODELO JSM-7001F, DE FABRICAÇÃO DA JEOL.                                                                                                                                                                 |ART. 25, DA LEI N° 8.666/93.        |2017-05-31     |2017-06-07     |2017-05-31     |2022-05-31  |60000.0      |69604.0     |5           |13920.8      |69604.0        |JURIDICA       |11084999                   |JEOL BRASIL INSTRUMENTOS CIENTIFICOS LTDA.             |15404007329832017|07               |Inexigibilidade|154040.0      |32983/2017      |NULL                                                                                                                                                                                                          |/comprasContratos/id/contrato/19571|Contrato 154040.50.00060.2017|/licitacoes/id/licitacao/15404007329832017|Licitação 15404007329832017|/licitacoes/id/modalidade_licitacao/07|Modalidade de Licitação 07: Inexigibilidade|/licitacoes/id/uasg/154040|UASG 154040: FUNDACAO UNIVERSIDADE DE BRASILIA - FUB     |\n",
            "|19572|15023350000132017|00013/2017|Despesa        |26274       |FUNDACAO UNIVERSIDADE FEDERAL DE UBERLANDIA |150233        |HC/UFU               |HOSPITAL DE CLINICAS DA UFU                 |NULL                 |NULL                                        |50         |Contrato|A definir|23117.000777/2017-19|CONTRATAÇÃO DE SERVIÇOS DE FORNECIMENTO DE ENERGIA ELÉTRICA PARA O HOSPITAL DE CLÍNICAS DA UFU.                                                                                                                                                                                    |LEI 8666/1993                       |2017-11-23     |2018-01-31     |2017-11-23     |2022-11-23  |3760951.25   |3760951.25  |1           |3760951.25   |3760951.25     |JURIDICA       |06981180                   |CEMIG DISTRIBUICAO S.A                                 |15023306000412017|06               |Dispensa       |150233.0      |00041/2017      |NULL                                                                                                                                                                                                          |/comprasContratos/id/contrato/19572|Contrato 150233.50.00013.2017|/licitacoes/id/licitacao/15023306000412017|Licitação 15023306000412017|/licitacoes/id/modalidade_licitacao/06|Modalidade de Licitação 06: Dispensa       |/licitacoes/id/uasg/150233|UASG 150233: HOSPITAL DE CLINICAS DA UFU                 |\n",
            "|19574|15404550000502017|00050/2017|Despesa        |26276       |FUNDACAO UNIVERSIDADE FEDERAL DE MATO GROSSO|154045        |FUFMT                |FUNDACAO UNIVERSIDADE FEDERAL DE MATO GROSSO|154045               |FUNDACAO UNIVERSIDADE FEDERAL DE MATO GROSSO|50         |Contrato|Serviços |23108.722512/2017-29|CONTRATAÇÃO DE EMPRESA ESPECIALIZADA NA PRESTAÇÃO DE SERVIÇOS DE PORTARIA, PARA ATENDER AS DEMANDAS DO CAMPUS UNIVERSITÁRIO DO ARAGUAIA DA FUFMT.                                                                                                                                  |8.666/93                            |2017-06-27     |2017-07-10     |2017-06-27     |2018-06-26  |583466.25    |64737.83    |1           |64737.83     |1327951.07     |JURIDICA       |12778433                   |INOVE TERCEIRIZACAO DE SERVICOS EIRELI                 |15404505000142017|05               |Pregão         |154045.0      |00014/2017      |NULL                                                                                                                                                                                                          |/comprasContratos/id/contrato/19574|Contrato 154045.50.00050.2017|/licitacoes/id/licitacao/15404505000142017|Licitação 15404505000142017|/licitacoes/id/modalidade_licitacao/05|Modalidade de Licitação 05: Pregão         |/licitacoes/id/uasg/154045|UASG 154045: FUNDACAO UNIVERSIDADE FEDERAL DE MATO GROSSO|\n",
            "+-----+-----------------+----------+---------------+------------+--------------------------------------------+--------------+---------------------+--------------------------------------------+---------------------+--------------------------------------------+-----------+--------+---------+--------------------+-----------------------------------------------------------------------------------------------------------------------------------------------------------------------------------------------------------------------------------------------------------------------------------+------------------------------------+---------------+---------------+---------------+------------+-------------+------------+------------+-------------+---------------+---------------+---------------------------+-------------------------------------------------------+-----------------+-----------------+---------------+--------------+----------------+--------------------------------------------------------------------------------------------------------------------------------------------------------------------------------------------------------------+-----------------------------------+-----------------------------+------------------------------------------+---------------------------+--------------------------------------+-------------------------------------------+--------------------------+---------------------------------------------------------+\n",
            "only showing top 20 rows\n",
            "\n"
          ]
        }
      ]
    },
    {
      "cell_type": "code",
      "source": [
        "df_Compras_Contratos_tratados.createOrReplaceTempView(\"Compras_Contratos_tratados\")"
      ],
      "metadata": {
        "id": "F93GK3Y4Bk0F"
      },
      "execution_count": null,
      "outputs": []
    },
    {
      "cell_type": "code",
      "source": [
        "# Filtrando 50 registros com as maiores empresas de tecnologia (capital social) com contratos governamentais.\n",
        "\n",
        "sql_Top_50 = spark.sql(\"\"\"\n",
        "SELECT\n",
        "  CCT.*\n",
        "FROM\n",
        "  empresas_tratadas E\n",
        "INNER JOIN Compras_Contratos_tratados CCT\n",
        "        ON CCT.fornecedor_cnpj_cpf_idgener = E.CNPJ\n",
        "INNER JOIN Estabelecimentos_tecnologia ET\n",
        "        ON ET.CNPJ = E.CNPJ\n",
        "ORDER BY CAST(E.capital_social AS FLOAT) DESC\n",
        "LIMIT (50)\n",
        "\"\"\")\n",
        "sql_Top_50.show(5,truncate=False)"
      ],
      "metadata": {
        "colab": {
          "base_uri": "https://localhost:8080/"
        },
        "id": "m1I3Bmjakeu_",
        "outputId": "037d27c2-30a0-4f24-d516-9a926299d878"
      },
      "execution_count": null,
      "outputs": [
        {
          "output_type": "stream",
          "name": "stdout",
          "text": [
            "+------+-----------------+----------+---------------+------------+---------------------------------------------+--------------+---------------------+---------------------------------------------+---------------------+--------------------------------------+-----------+--------+-----------------+--------------------+-------------------------------------------------------------------------------------------------------------------------------------------------------------------------------------------------------------------------------------------------------------------------+----------------+---------------+---------------+---------------+------------+-------------+------------+------------+-------------+---------------+---------------+---------------------------+-------------------------------------+-----------------+-----------------+---------------+--------------+----------------+-----------------------+------------------------------------+-----------------------------+------------------------------------------+---------------------------+--------------------------------------+-------------------------------------------+--------------------------+----------------------------------------------------------+\n",
            "|id    |codigo_contrato  |numero    |receita_despesa|orgao_codigo|orgao_nome                                   |unidade_codigo|unidade_nome_resumido|unidade_nome                                 |unidade_origem_codigo|unidade_origem_nome                   |codigo_tipo|tipo    |categoria        |processo            |objeto                                                                                                                                                                                                                                                                   |fundamento_legal|data_assinatura|data_publicacao|vigencia_inicio|vigencia_fim|valor_inicial|valor_global|num_parcelas|valor_parcela|valor_acumulado|fornecedor_tipo|fornecedor_cnpj_cpf_idgener|fornecedor_nome                      |codigo_compra    |modalidade_codigo|modalidade     |unidade_compra|licitacao_numero|informacao_complementar|_links.self.href                    |_links.self.title            |_links.licitacao.href                     |_links.licitacao.title     |_links.modalidade_licitacao.href      |_links.modalidade_licitacao.title          |_links.uasg.href          |_links.uasg.title                                         |\n",
            "+------+-----------------+----------+---------------+------------+---------------------------------------------+--------------+---------------------+---------------------------------------------+---------------------+--------------------------------------+-----------+--------+-----------------+--------------------+-------------------------------------------------------------------------------------------------------------------------------------------------------------------------------------------------------------------------------------------------------------------------+----------------+---------------+---------------+---------------+------------+-------------+------------+------------+-------------+---------------+---------------+---------------------------+-------------------------------------+-----------------+-----------------+---------------+--------------+----------------+-----------------------+------------------------------------+-----------------------------+------------------------------------------+---------------------------+--------------------------------------+-------------------------------------------+--------------------------+----------------------------------------------------------+\n",
            "|209313|92501150000022021|00002/2021|Despesa        |95448       |PMSP - SECRETARIA MUNICIPAL DA FAZENDA       |925011        |PMSP - SMF           |PMSP - SECRETARIA MUNICIPAL DA FAZENDA       |925011               |PMSP - SECRETARIA MUNICIPAL DA FAZENDA|50         |Contrato|Informática (TIC)|0601.7201/9004423-8 |AQUISIÇÃO DO DIREITO DE USO DE 48 (QUARENTA E OITO) LICENÇAS DO MS SQL SERVER STANDARD DE SOFTWARE ASSURANCE COM VALIDADE DE 36 (TRINTA E SEIS) MESES                                                                                                                    |NULL            |2021-03-16     |2021-03-20     |2021-03-16     |2024-03-16  |486960.0     |486960.0    |1           |486960.0     |486960.0       |JURIDICA       |00103115                   |BRASOFTWARE INTERNET LTDA            |92501105000222020|05               |Pregão         |925011.0      |00022/2020      |NULL                   |/comprasContratos/id/contrato/209313|Contrato 925011.50.00002.2021|/licitacoes/id/licitacao/92501105000222020|Licitação 92501105000222020|/licitacoes/id/modalidade_licitacao/05|Modalidade de Licitação 05: Pregão         |/licitacoes/id/uasg/925011|UASG 925011: PMSP - SECRETARIA MUNICIPAL DA FAZENDA       |\n",
            "|19709 |15303350000922017|00092/2017|Despesa        |26264       |UNIVERSIDADE FEDERAL RURAL DO SEMI-ARIDO/RN  |153033        |UFERSA-RN            |UNIVERSIDADE FEDERAL RURAL DO SEMI-ARIDO - RN|NULL                 |NULL                                  |50         |Contrato|A definir        |23091.006667/2017-04|CONTRATAÇÃO DO SISTEMA TARGET GEDWEB -SISTEMA DE GESTÃO DE NORMAS E DOCUMENTOS REGULATÓRIOS PARA ATENDER À DEMANDA DA BIBLIOTECA DAUFERSA.                                                                                                                               |LEI 8.666/1993. |2017-07-26     |2017-08-03     |2017-07-26     |2021-07-26  |13000.0      |13000.0     |1           |0.0          |13000.0        |JURIDICA       |00000028                   |TARGET ENGENHARIA E CONSULTORIA LTDA.|15303307000292017|07               |Inexigibilidade|153033.0      |00029/2017      |NULL                   |/comprasContratos/id/contrato/19709 |Contrato 153033.50.00092.2017|/licitacoes/id/licitacao/15303307000292017|Licitação 15303307000292017|/licitacoes/id/modalidade_licitacao/07|Modalidade de Licitação 07: Inexigibilidade|/licitacoes/id/uasg/153033|UASG 153033: UNIVERSIDADE FEDERAL RURAL DO SEMI-ARIDO - RN|\n",
            "|76361 |24012650000082020|00008/2020|Despesa        |24000       |MINISTERIO DA CIENCIA, TECNOLOGIA E INOVACOES|240126        |ON/MCTI              |OBSERVATORIO NACIONAL                        |240126               |OBSERVATORIO NACIONAL                 |50         |Contrato|Informática (TIC)|01210.000123/2020-90|RENOVAÇÃO DE LICENÇA E MÓDULOS EDUCACIONAIS SOFTWARE GEOSOFT.                                                                                                                                                                                                            |8.666/93.       |2020-09-01     |2020-09-10     |2020-10-01     |2022-09-30  |105829.86    |105829.86   |1           |105829.86    |105829.86      |JURIDICA       |00457363                   |GEOSOFT LATINOAMERICA LTDA           |24012607001232020|07               |Inexigibilidade|240126.0      |00123/2020      |CC1507                 |/comprasContratos/id/contrato/76361 |Contrato 240126.50.00008.2020|/licitacoes/id/licitacao/24012607001232020|Licitação 24012607001232020|/licitacoes/id/modalidade_licitacao/07|Modalidade de Licitação 07: Inexigibilidade|/licitacoes/id/uasg/240126|UASG 240126: OBSERVATORIO NACIONAL                        |\n",
            "|19837 |15311450000982017|00098/2017|Despesa        |26244       |UNIVERSIDADE FEDERAL DO RIO GRANDE DO SUL    |153114        |UFRGS                |UNIVERSIDADE FEDERAL DO RIO GRANDE DO SUL    |NULL                 |NULL                                  |50         |Contrato|Informática (TIC)|23078.506092/2017-95|CONTRATAÇÃO DE LICENÇA DE USO DO SERVIÇO DE VISUALIZAÇÃO E ATUALIZAÇÃO DA COLEÇÃO COMPLETA DAS NORMAS TÉCNICAS BRASILEIRAS(NBR) E NORMAS MERCOSUL(NM) PARA A BIBLIOTECA CENTRAL DAUFRGS.                                                                                 |8666/93 E 152/17|2017-12-20     |2018-01-11     |2017-12-20     |2022-12-20  |12600.0      |14034.02    |1           |14034.02     |307236.65      |JURIDICA       |00000028                   |TARGET ENGENHARIA E CONSULTORIA LTDA.|15311405001522017|05               |Pregão         |153114.0      |00152/2017      |NULL                   |/comprasContratos/id/contrato/19837 |Contrato 153114.50.00098.2017|/licitacoes/id/licitacao/15311405001522017|Licitação 15311405001522017|/licitacoes/id/modalidade_licitacao/05|Modalidade de Licitação 05: Pregão         |/licitacoes/id/uasg/153114|UASG 153114: UNIVERSIDADE FEDERAL DO RIO GRANDE DO SUL    |\n",
            "|29297 |15826450000152018|00015/2018|Despesa        |26419       |INST.FED.DE EDUC.,CIENC.E TEC.DO RS          |158264        |IFRS/CAMPUS B.GONC.  |INST.FED.DO RS/CAMPUS BENTO GONCALVES        |NULL                 |NULL                                  |50         |Contrato|Informática (TIC)|23360.000094/2018-61|CONTRATAÇÃO DE SERVIÇO DE CONFIGURAÇÃO,SUPORTE, MANUTENÇÃO DO SOFTWARE PROMOB ERP (ANTIGO MCM PROWAY), SISTEMA DE GESTÃO, DISPONIBILIZANDO PERSONALIZAÇÃO, ALTERAÇÕES LEGAIS, GARANTIA FUNCIONAL E ATUALIZAÇÃO DOS MÓDULOS UTILIZADOS PELO IFRS - CAMPUS BENTO GONÇALVES.|LEI 8.666/93    |2018-03-09     |2018-03-19     |2018-03-09     |2022-03-09  |13741.32     |15546.67    |12          |1295.56      |58422.72       |JURIDICA       |00141463                   |PROMOB SOFTWARES S.A.                |15826407000052018|07               |Inexigibilidade|158264.0      |00005/2018      |NULL                   |/comprasContratos/id/contrato/29297 |Contrato 158264.50.00015.2018|/licitacoes/id/licitacao/15826407000052018|Licitação 15826407000052018|/licitacoes/id/modalidade_licitacao/07|Modalidade de Licitação 07: Inexigibilidade|/licitacoes/id/uasg/158264|UASG 158264: INST.FED.DO RS/CAMPUS BENTO GONCALVES        |\n",
            "+------+-----------------+----------+---------------+------------+---------------------------------------------+--------------+---------------------+---------------------------------------------+---------------------+--------------------------------------+-----------+--------+-----------------+--------------------+-------------------------------------------------------------------------------------------------------------------------------------------------------------------------------------------------------------------------------------------------------------------------+----------------+---------------+---------------+---------------+------------+-------------+------------+------------+-------------+---------------+---------------+---------------------------+-------------------------------------+-----------------+-----------------+---------------+--------------+----------------+-----------------------+------------------------------------+-----------------------------+------------------------------------------+---------------------------+--------------------------------------+-------------------------------------------+--------------------------+----------------------------------------------------------+\n",
            "only showing top 5 rows\n",
            "\n"
          ]
        }
      ]
    },
    {
      "cell_type": "code",
      "source": [
        "# Salvando os 50 registros em CSV.\n",
        "\n",
        "sql_Top_50.write.mode(\"overwrite\") \\\n",
        "     .option(\"delimiter\", \";\") \\\n",
        "     .option(\"header\", \"true\") \\\n",
        "     .csv(\"Top_50_Empresas_CapitalSocial\")"
      ],
      "metadata": {
        "id": "KdA_PMrAnoD3"
      },
      "execution_count": null,
      "outputs": []
    },
    {
      "cell_type": "code",
      "source": [
        "!mv /content/Top_50_Empresas_CapitalSocial /content/drive/MyDrive/Datasets"
      ],
      "metadata": {
        "id": "X9yNEEbln4dy"
      },
      "execution_count": null,
      "outputs": []
    },
    {
      "cell_type": "code",
      "source": [
        "path = \"/content/drive/MyDrive/Datasets/Top_50_Empresas_CapitalSocial/*\"\n",
        "df_Top_50_Empresas_CapitalSocial = spark.read.option(\"delimiter\", \";\").option(\"header\", True).csv(path) # Foi adicionado option(\"header\", True) para subir os cabeçalhos.\n",
        "df_Top_50_Empresas_CapitalSocial.printSchema()\n",
        "df_Top_50_Empresas_CapitalSocial.show(truncate=False)"
      ],
      "metadata": {
        "colab": {
          "base_uri": "https://localhost:8080/"
        },
        "id": "5Ra1UhAJozQg",
        "outputId": "14104af1-1f12-47e4-ef90-bda19db69f9c"
      },
      "execution_count": null,
      "outputs": [
        {
          "output_type": "stream",
          "name": "stdout",
          "text": [
            "root\n",
            " |-- id: string (nullable = true)\n",
            " |-- codigo_contrato: string (nullable = true)\n",
            " |-- numero: string (nullable = true)\n",
            " |-- receita_despesa: string (nullable = true)\n",
            " |-- orgao_codigo: string (nullable = true)\n",
            " |-- orgao_nome: string (nullable = true)\n",
            " |-- unidade_codigo: string (nullable = true)\n",
            " |-- unidade_nome_resumido: string (nullable = true)\n",
            " |-- unidade_nome: string (nullable = true)\n",
            " |-- unidade_origem_codigo: string (nullable = true)\n",
            " |-- unidade_origem_nome: string (nullable = true)\n",
            " |-- codigo_tipo: string (nullable = true)\n",
            " |-- tipo: string (nullable = true)\n",
            " |-- categoria: string (nullable = true)\n",
            " |-- processo: string (nullable = true)\n",
            " |-- objeto: string (nullable = true)\n",
            " |-- fundamento_legal: string (nullable = true)\n",
            " |-- data_assinatura: string (nullable = true)\n",
            " |-- data_publicacao: string (nullable = true)\n",
            " |-- vigencia_inicio: string (nullable = true)\n",
            " |-- vigencia_fim: string (nullable = true)\n",
            " |-- valor_inicial: string (nullable = true)\n",
            " |-- valor_global: string (nullable = true)\n",
            " |-- num_parcelas: string (nullable = true)\n",
            " |-- valor_parcela: string (nullable = true)\n",
            " |-- valor_acumulado: string (nullable = true)\n",
            " |-- fornecedor_tipo: string (nullable = true)\n",
            " |-- fornecedor_cnpj_cpf_idgener: string (nullable = true)\n",
            " |-- fornecedor_nome: string (nullable = true)\n",
            " |-- codigo_compra: string (nullable = true)\n",
            " |-- modalidade_codigo: string (nullable = true)\n",
            " |-- modalidade: string (nullable = true)\n",
            " |-- unidade_compra: string (nullable = true)\n",
            " |-- licitacao_numero: string (nullable = true)\n",
            " |-- informacao_complementar: string (nullable = true)\n",
            " |-- _links.self.href: string (nullable = true)\n",
            " |-- _links.self.title: string (nullable = true)\n",
            " |-- _links.licitacao.href: string (nullable = true)\n",
            " |-- _links.licitacao.title: string (nullable = true)\n",
            " |-- _links.modalidade_licitacao.href: string (nullable = true)\n",
            " |-- _links.modalidade_licitacao.title: string (nullable = true)\n",
            " |-- _links.uasg.href: string (nullable = true)\n",
            " |-- _links.uasg.title: string (nullable = true)\n",
            "\n",
            "+------+-----------------+----------+---------------+------------+-------------------------------------------+--------------+---------------------+-------------------------------------------+---------------------+-------------------------------------------+-----------+--------+-----------------+--------------------+---------------------------------------------------------------------------------------------------------------------------------------------------------------------------------------------------------------------------------------------------------------------------------------------------------------------------------------------------------------------------------------------------------------------------------------------------------------+----------------------+---------------+---------------+---------------+------------+-------------+------------+------------+-------------+---------------+---------------+---------------------------+-------------------------------------+-----------------+-----------------+---------------+--------------+----------------+-----------------------+------------------------------------+-----------------------------+------------------------------------------+---------------------------+--------------------------------------+-------------------------------------------+--------------------------+--------------------------------------------------------+\n",
            "|id    |codigo_contrato  |numero    |receita_despesa|orgao_codigo|orgao_nome                                 |unidade_codigo|unidade_nome_resumido|unidade_nome                               |unidade_origem_codigo|unidade_origem_nome                        |codigo_tipo|tipo    |categoria        |processo            |objeto                                                                                                                                                                                                                                                                                                                                                                                                                                                         |fundamento_legal      |data_assinatura|data_publicacao|vigencia_inicio|vigencia_fim|valor_inicial|valor_global|num_parcelas|valor_parcela|valor_acumulado|fornecedor_tipo|fornecedor_cnpj_cpf_idgener|fornecedor_nome                      |codigo_compra    |modalidade_codigo|modalidade     |unidade_compra|licitacao_numero|informacao_complementar|_links.self.href                    |_links.self.title            |_links.licitacao.href                     |_links.licitacao.title     |_links.modalidade_licitacao.href      |_links.modalidade_licitacao.title          |_links.uasg.href          |_links.uasg.title                                       |\n",
            "+------+-----------------+----------+---------------+------------+-------------------------------------------+--------------+---------------------+-------------------------------------------+---------------------+-------------------------------------------+-----------+--------+-----------------+--------------------+---------------------------------------------------------------------------------------------------------------------------------------------------------------------------------------------------------------------------------------------------------------------------------------------------------------------------------------------------------------------------------------------------------------------------------------------------------------+----------------------+---------------+---------------+---------------+------------+-------------+------------+------------+-------------+---------------+---------------+---------------------------+-------------------------------------+-----------------+-----------------+---------------+--------------+----------------+-----------------------+------------------------------------+-----------------------------+------------------------------------------+---------------------------+--------------------------------------+-------------------------------------------+--------------------------+--------------------------------------------------------+\n",
            "|209313|92501150000022021|00002/2021|Despesa        |95448       |PMSP - SECRETARIA MUNICIPAL DA FAZENDA     |925011        |PMSP - SMF           |PMSP - SECRETARIA MUNICIPAL DA FAZENDA     |925011               |PMSP - SECRETARIA MUNICIPAL DA FAZENDA     |50         |Contrato|Informática (TIC)|0601.7201/9004423-8 |AQUISIÇÃO DO DIREITO DE USO DE 48 (QUARENTA E OITO) LICENÇAS DO MS SQL SERVER STANDARD DE SOFTWARE ASSURANCE COM VALIDADE DE 36 (TRINTA E SEIS) MESES                                                                                                                                                                                                                                                                                                          |NULL                  |2021-03-16     |2021-03-20     |2021-03-16     |2024-03-16  |486960.0     |486960.0    |1           |486960.0     |486960.0       |JURIDICA       |00103115                   |BRASOFTWARE INTERNET LTDA            |92501105000222020|05               |Pregão         |925011.0      |00022/2020      |NULL                   |/comprasContratos/id/contrato/209313|Contrato 925011.50.00002.2021|/licitacoes/id/licitacao/92501105000222020|Licitação 92501105000222020|/licitacoes/id/modalidade_licitacao/05|Modalidade de Licitação 05: Pregão         |/licitacoes/id/uasg/925011|UASG 925011: PMSP - SECRETARIA MUNICIPAL DA FAZENDA     |\n",
            "|33915 |25442350000182018|00018/2018|Despesa        |36201       |FUNDACAO OSWALDO CRUZ                      |254423        |IRR/FIOCRUZ/MINAS    |INSTITUTO RENNE RACHOU                     |254423               |INSTITUTO RENNE RACHOU                     |50         |Contrato|A definir        |25381.100063/2018-96|ATUALIZAÇÃO E SUPORTE REMOTO DO SOFTWARE SESUITE                                                                                                                                                                                                                                                                                                                                                                                                               |ART. 25 DA LEI 8666/93|2018-08-13     |2018-08-31     |2018-08-13     |2023-11-12  |41703.7      |44078.7     |1           |44078.7      |262097.2       |JURIDICA       |00449824                   |SOFTEXPERT SOFTWARE S.A.             |25442307000012018|07               |Inexigibilidade|254423.0      |00001/2018      |NULL                   |/comprasContratos/id/contrato/33915 |Contrato 254423.50.00018.2018|/licitacoes/id/licitacao/25442307000012018|Licitação 25442307000012018|/licitacoes/id/modalidade_licitacao/07|Modalidade de Licitação 07: Inexigibilidade|/licitacoes/id/uasg/254423|UASG 254423: INSTITUTO RENNE RACHOU                     |\n",
            "|33915 |25442350000182018|00018/2018|Despesa        |36201       |FUNDACAO OSWALDO CRUZ                      |254423        |IRR/FIOCRUZ/MINAS    |INSTITUTO RENNE RACHOU                     |254423               |INSTITUTO RENNE RACHOU                     |50         |Contrato|A definir        |25381.100063/2018-96|ATUALIZAÇÃO E SUPORTE REMOTO DO SOFTWARE SESUITE                                                                                                                                                                                                                                                                                                                                                                                                               |ART. 25 DA LEI 8666/93|2018-08-13     |2018-08-31     |2018-08-13     |2023-11-12  |41703.7      |44078.7     |1           |44078.7      |262097.2       |JURIDICA       |00449824                   |SOFTEXPERT SOFTWARE S.A.             |25442307000012018|07               |Inexigibilidade|254423.0      |00001/2018      |NULL                   |/comprasContratos/id/contrato/33915 |Contrato 254423.50.00018.2018|/licitacoes/id/licitacao/25442307000012018|Licitação 25442307000012018|/licitacoes/id/modalidade_licitacao/07|Modalidade de Licitação 07: Inexigibilidade|/licitacoes/id/uasg/254423|UASG 254423: INSTITUTO RENNE RACHOU                     |\n",
            "|33915 |25442350000182018|00018/2018|Despesa        |36201       |FUNDACAO OSWALDO CRUZ                      |254423        |IRR/FIOCRUZ/MINAS    |INSTITUTO RENNE RACHOU                     |254423               |INSTITUTO RENNE RACHOU                     |50         |Contrato|A definir        |25381.100063/2018-96|ATUALIZAÇÃO E SUPORTE REMOTO DO SOFTWARE SESUITE                                                                                                                                                                                                                                                                                                                                                                                                               |ART. 25 DA LEI 8666/93|2018-08-13     |2018-08-31     |2018-08-13     |2023-11-12  |41703.7      |44078.7     |1           |44078.7      |262097.2       |JURIDICA       |00449824                   |SOFTEXPERT SOFTWARE S.A.             |25442307000012018|07               |Inexigibilidade|254423.0      |00001/2018      |NULL                   |/comprasContratos/id/contrato/33915 |Contrato 254423.50.00018.2018|/licitacoes/id/licitacao/25442307000012018|Licitação 25442307000012018|/licitacoes/id/modalidade_licitacao/07|Modalidade de Licitação 07: Inexigibilidade|/licitacoes/id/uasg/254423|UASG 254423: INSTITUTO RENNE RACHOU                     |\n",
            "|33915 |25442350000182018|00018/2018|Despesa        |36201       |FUNDACAO OSWALDO CRUZ                      |254423        |IRR/FIOCRUZ/MINAS    |INSTITUTO RENNE RACHOU                     |254423               |INSTITUTO RENNE RACHOU                     |50         |Contrato|A definir        |25381.100063/2018-96|ATUALIZAÇÃO E SUPORTE REMOTO DO SOFTWARE SESUITE                                                                                                                                                                                                                                                                                                                                                                                                               |ART. 25 DA LEI 8666/93|2018-08-13     |2018-08-31     |2018-08-13     |2023-11-12  |41703.7      |44078.7     |1           |44078.7      |262097.2       |JURIDICA       |00449824                   |SOFTEXPERT SOFTWARE S.A.             |25442307000012018|07               |Inexigibilidade|254423.0      |00001/2018      |NULL                   |/comprasContratos/id/contrato/33915 |Contrato 254423.50.00018.2018|/licitacoes/id/licitacao/25442307000012018|Licitação 25442307000012018|/licitacoes/id/modalidade_licitacao/07|Modalidade de Licitação 07: Inexigibilidade|/licitacoes/id/uasg/254423|UASG 254423: INSTITUTO RENNE RACHOU                     |\n",
            "|183538|11320250000022023|00002/2023|Despesa        |20301       |COMISSAO NACIONAL DE ENERGIA NUCLEAR       |113202        |CNEN - IPEN          |COMISSAO NACIONAL DE ENERGIA NUCLEAR-IPEN  |113202               |COMISSAO NACIONAL DE ENERGIA NUCLEAR-IPEN  |50         |Contrato|Informática (TIC)|01342.000335/2022-33|AQUISIÇÃO DE SOFTWARE DE INSTALAÇÃO LOCAL (EM DATACENTER PRÓPRIO) PARA APOIO À QUALIDADE, CONTEMPLANDO DE FORMA INTEGRADA FUNCIONALIDADES RELATIVAS À GESTÃO DE DESEMPENHO, GESTÃO DE DOCUMENTOS, GESTÃO DE COMPETÊNCIAS, GESTÃO DE OCORRÊNCIAS (NÃO CONFORMIDADES, RECLAMAÇÕES DE CLIENTES ETC.) E GESTÃO DE AÇÕES, INCLUINDO SERVIÇOS DE IMPLANTAÇÃO, SUPORTE TÉCNICO E ATUALIZAÇÃO                                                                          |NULL                  |2023-02-27     |2023-03-01     |2023-03-01     |2024-03-01  |228300.0     |228300.0    |12          |19025.0      |0.0            |JURIDICA       |00449824                   |SOFTEXPERT SOFTWARE S.A.             |11320205000502022|05               |Pregão         |113202.0      |00050/2022      |NULL                   |/comprasContratos/id/contrato/183538|Contrato 113202.50.00002.2023|/licitacoes/id/licitacao/11320205000502022|Licitação 11320205000502022|/licitacoes/id/modalidade_licitacao/05|Modalidade de Licitação 05: Pregão         |/licitacoes/id/uasg/113202|UASG 113202: COMISSAO NACIONAL DE ENERGIA NUCLEAR-IPEN  |\n",
            "|183538|11320250000022023|00002/2023|Despesa        |20301       |COMISSAO NACIONAL DE ENERGIA NUCLEAR       |113202        |CNEN - IPEN          |COMISSAO NACIONAL DE ENERGIA NUCLEAR-IPEN  |113202               |COMISSAO NACIONAL DE ENERGIA NUCLEAR-IPEN  |50         |Contrato|Informática (TIC)|01342.000335/2022-33|AQUISIÇÃO DE SOFTWARE DE INSTALAÇÃO LOCAL (EM DATACENTER PRÓPRIO) PARA APOIO À QUALIDADE, CONTEMPLANDO DE FORMA INTEGRADA FUNCIONALIDADES RELATIVAS À GESTÃO DE DESEMPENHO, GESTÃO DE DOCUMENTOS, GESTÃO DE COMPETÊNCIAS, GESTÃO DE OCORRÊNCIAS (NÃO CONFORMIDADES, RECLAMAÇÕES DE CLIENTES ETC.) E GESTÃO DE AÇÕES, INCLUINDO SERVIÇOS DE IMPLANTAÇÃO, SUPORTE TÉCNICO E ATUALIZAÇÃO                                                                          |NULL                  |2023-02-27     |2023-03-01     |2023-03-01     |2024-03-01  |228300.0     |228300.0    |12          |19025.0      |0.0            |JURIDICA       |00449824                   |SOFTEXPERT SOFTWARE S.A.             |11320205000502022|05               |Pregão         |113202.0      |00050/2022      |NULL                   |/comprasContratos/id/contrato/183538|Contrato 113202.50.00002.2023|/licitacoes/id/licitacao/11320205000502022|Licitação 11320205000502022|/licitacoes/id/modalidade_licitacao/05|Modalidade de Licitação 05: Pregão         |/licitacoes/id/uasg/113202|UASG 113202: COMISSAO NACIONAL DE ENERGIA NUCLEAR-IPEN  |\n",
            "|183538|11320250000022023|00002/2023|Despesa        |20301       |COMISSAO NACIONAL DE ENERGIA NUCLEAR       |113202        |CNEN - IPEN          |COMISSAO NACIONAL DE ENERGIA NUCLEAR-IPEN  |113202               |COMISSAO NACIONAL DE ENERGIA NUCLEAR-IPEN  |50         |Contrato|Informática (TIC)|01342.000335/2022-33|AQUISIÇÃO DE SOFTWARE DE INSTALAÇÃO LOCAL (EM DATACENTER PRÓPRIO) PARA APOIO À QUALIDADE, CONTEMPLANDO DE FORMA INTEGRADA FUNCIONALIDADES RELATIVAS À GESTÃO DE DESEMPENHO, GESTÃO DE DOCUMENTOS, GESTÃO DE COMPETÊNCIAS, GESTÃO DE OCORRÊNCIAS (NÃO CONFORMIDADES, RECLAMAÇÕES DE CLIENTES ETC.) E GESTÃO DE AÇÕES, INCLUINDO SERVIÇOS DE IMPLANTAÇÃO, SUPORTE TÉCNICO E ATUALIZAÇÃO                                                                          |NULL                  |2023-02-27     |2023-03-01     |2023-03-01     |2024-03-01  |228300.0     |228300.0    |12          |19025.0      |0.0            |JURIDICA       |00449824                   |SOFTEXPERT SOFTWARE S.A.             |11320205000502022|05               |Pregão         |113202.0      |00050/2022      |NULL                   |/comprasContratos/id/contrato/183538|Contrato 113202.50.00002.2023|/licitacoes/id/licitacao/11320205000502022|Licitação 11320205000502022|/licitacoes/id/modalidade_licitacao/05|Modalidade de Licitação 05: Pregão         |/licitacoes/id/uasg/113202|UASG 113202: COMISSAO NACIONAL DE ENERGIA NUCLEAR-IPEN  |\n",
            "|183538|11320250000022023|00002/2023|Despesa        |20301       |COMISSAO NACIONAL DE ENERGIA NUCLEAR       |113202        |CNEN - IPEN          |COMISSAO NACIONAL DE ENERGIA NUCLEAR-IPEN  |113202               |COMISSAO NACIONAL DE ENERGIA NUCLEAR-IPEN  |50         |Contrato|Informática (TIC)|01342.000335/2022-33|AQUISIÇÃO DE SOFTWARE DE INSTALAÇÃO LOCAL (EM DATACENTER PRÓPRIO) PARA APOIO À QUALIDADE, CONTEMPLANDO DE FORMA INTEGRADA FUNCIONALIDADES RELATIVAS À GESTÃO DE DESEMPENHO, GESTÃO DE DOCUMENTOS, GESTÃO DE COMPETÊNCIAS, GESTÃO DE OCORRÊNCIAS (NÃO CONFORMIDADES, RECLAMAÇÕES DE CLIENTES ETC.) E GESTÃO DE AÇÕES, INCLUINDO SERVIÇOS DE IMPLANTAÇÃO, SUPORTE TÉCNICO E ATUALIZAÇÃO                                                                          |NULL                  |2023-02-27     |2023-03-01     |2023-03-01     |2024-03-01  |228300.0     |228300.0    |12          |19025.0      |0.0            |JURIDICA       |00449824                   |SOFTEXPERT SOFTWARE S.A.             |11320205000502022|05               |Pregão         |113202.0      |00050/2022      |NULL                   |/comprasContratos/id/contrato/183538|Contrato 113202.50.00002.2023|/licitacoes/id/licitacao/11320205000502022|Licitação 11320205000502022|/licitacoes/id/modalidade_licitacao/05|Modalidade de Licitação 05: Pregão         |/licitacoes/id/uasg/113202|UASG 113202: COMISSAO NACIONAL DE ENERGIA NUCLEAR-IPEN  |\n",
            "|220135|07002350000452023|00045/2023|Despesa        |14000       |JUSTICA ELEITORAL                          |70023         |TRE/GO               |TRIBUNAL REGIONAL ELEITORAL DE GOIAS       |070023               |TRIBUNAL REGIONAL ELEITORAL DE GOIAS       |50         |Contrato|Serviços         |23 .0.000005159-4   |AQUISIÇÃO DE SOLUÇÃO INFORMATIZADA INTEGRADA, COMPOSTA POR RECURSOS DE ACOMPANHAMENTO DA GESTÃO DA GOVERNANÇA, GESTÃO DA ESTRATÉGIA (BALANCED SCORECARD), GESTÃO DE RISCOS (COSO, COBIT E ISO 31000), GESTÃO DE PROCESSOS (BPM) E GESTÃO DA QUALIDADE (ISO 9001:2015), COM ACESSO NO MODELO DE COMPUTAÇÃO EM NUVEM, PARA ATENDIMENTO CORPORATIVO AO TRIBUNAL REGIONAL ELEITORAL DE GOIÁS – TRE-GO, DENOMINADA SE GRC (SE SUITE), PARA DEZ USUÁRIOS SIMULTÂNEOS.|NULL                  |2023-10-05     |2023-10-06     |2023-10-05     |2024-10-05  |70512.24     |70512.24    |1           |70512.24     |70512.24       |JURIDICA       |00449824                   |SOFTEXPERT SOFTWARE S.A.             |07002307000302023|07               |Inexigibilidade|70023.0       |00030/2023      |NULL                   |/comprasContratos/id/contrato/220135|Contrato 070023.50.00045.2023|/licitacoes/id/licitacao/07002307000302023|Licitação 07002307000302023|/licitacoes/id/modalidade_licitacao/07|Modalidade de Licitação 07: Inexigibilidade|/licitacoes/id/uasg/70023 |UASG 70023: TRIBUNAL REGIONAL ELEITORAL DE GOIAS        |\n",
            "|220135|07002350000452023|00045/2023|Despesa        |14000       |JUSTICA ELEITORAL                          |70023         |TRE/GO               |TRIBUNAL REGIONAL ELEITORAL DE GOIAS       |070023               |TRIBUNAL REGIONAL ELEITORAL DE GOIAS       |50         |Contrato|Serviços         |23 .0.000005159-4   |AQUISIÇÃO DE SOLUÇÃO INFORMATIZADA INTEGRADA, COMPOSTA POR RECURSOS DE ACOMPANHAMENTO DA GESTÃO DA GOVERNANÇA, GESTÃO DA ESTRATÉGIA (BALANCED SCORECARD), GESTÃO DE RISCOS (COSO, COBIT E ISO 31000), GESTÃO DE PROCESSOS (BPM) E GESTÃO DA QUALIDADE (ISO 9001:2015), COM ACESSO NO MODELO DE COMPUTAÇÃO EM NUVEM, PARA ATENDIMENTO CORPORATIVO AO TRIBUNAL REGIONAL ELEITORAL DE GOIÁS – TRE-GO, DENOMINADA SE GRC (SE SUITE), PARA DEZ USUÁRIOS SIMULTÂNEOS.|NULL                  |2023-10-05     |2023-10-06     |2023-10-05     |2024-10-05  |70512.24     |70512.24    |1           |70512.24     |70512.24       |JURIDICA       |00449824                   |SOFTEXPERT SOFTWARE S.A.             |07002307000302023|07               |Inexigibilidade|70023.0       |00030/2023      |NULL                   |/comprasContratos/id/contrato/220135|Contrato 070023.50.00045.2023|/licitacoes/id/licitacao/07002307000302023|Licitação 07002307000302023|/licitacoes/id/modalidade_licitacao/07|Modalidade de Licitação 07: Inexigibilidade|/licitacoes/id/uasg/70023 |UASG 70023: TRIBUNAL REGIONAL ELEITORAL DE GOIAS        |\n",
            "|220135|07002350000452023|00045/2023|Despesa        |14000       |JUSTICA ELEITORAL                          |70023         |TRE/GO               |TRIBUNAL REGIONAL ELEITORAL DE GOIAS       |070023               |TRIBUNAL REGIONAL ELEITORAL DE GOIAS       |50         |Contrato|Serviços         |23 .0.000005159-4   |AQUISIÇÃO DE SOLUÇÃO INFORMATIZADA INTEGRADA, COMPOSTA POR RECURSOS DE ACOMPANHAMENTO DA GESTÃO DA GOVERNANÇA, GESTÃO DA ESTRATÉGIA (BALANCED SCORECARD), GESTÃO DE RISCOS (COSO, COBIT E ISO 31000), GESTÃO DE PROCESSOS (BPM) E GESTÃO DA QUALIDADE (ISO 9001:2015), COM ACESSO NO MODELO DE COMPUTAÇÃO EM NUVEM, PARA ATENDIMENTO CORPORATIVO AO TRIBUNAL REGIONAL ELEITORAL DE GOIÁS – TRE-GO, DENOMINADA SE GRC (SE SUITE), PARA DEZ USUÁRIOS SIMULTÂNEOS.|NULL                  |2023-10-05     |2023-10-06     |2023-10-05     |2024-10-05  |70512.24     |70512.24    |1           |70512.24     |70512.24       |JURIDICA       |00449824                   |SOFTEXPERT SOFTWARE S.A.             |07002307000302023|07               |Inexigibilidade|70023.0       |00030/2023      |NULL                   |/comprasContratos/id/contrato/220135|Contrato 070023.50.00045.2023|/licitacoes/id/licitacao/07002307000302023|Licitação 07002307000302023|/licitacoes/id/modalidade_licitacao/07|Modalidade de Licitação 07: Inexigibilidade|/licitacoes/id/uasg/70023 |UASG 70023: TRIBUNAL REGIONAL ELEITORAL DE GOIAS        |\n",
            "|220135|07002350000452023|00045/2023|Despesa        |14000       |JUSTICA ELEITORAL                          |70023         |TRE/GO               |TRIBUNAL REGIONAL ELEITORAL DE GOIAS       |070023               |TRIBUNAL REGIONAL ELEITORAL DE GOIAS       |50         |Contrato|Serviços         |23 .0.000005159-4   |AQUISIÇÃO DE SOLUÇÃO INFORMATIZADA INTEGRADA, COMPOSTA POR RECURSOS DE ACOMPANHAMENTO DA GESTÃO DA GOVERNANÇA, GESTÃO DA ESTRATÉGIA (BALANCED SCORECARD), GESTÃO DE RISCOS (COSO, COBIT E ISO 31000), GESTÃO DE PROCESSOS (BPM) E GESTÃO DA QUALIDADE (ISO 9001:2015), COM ACESSO NO MODELO DE COMPUTAÇÃO EM NUVEM, PARA ATENDIMENTO CORPORATIVO AO TRIBUNAL REGIONAL ELEITORAL DE GOIÁS – TRE-GO, DENOMINADA SE GRC (SE SUITE), PARA DEZ USUÁRIOS SIMULTÂNEOS.|NULL                  |2023-10-05     |2023-10-06     |2023-10-05     |2024-10-05  |70512.24     |70512.24    |1           |70512.24     |70512.24       |JURIDICA       |00449824                   |SOFTEXPERT SOFTWARE S.A.             |07002307000302023|07               |Inexigibilidade|70023.0       |00030/2023      |NULL                   |/comprasContratos/id/contrato/220135|Contrato 070023.50.00045.2023|/licitacoes/id/licitacao/07002307000302023|Licitação 07002307000302023|/licitacoes/id/modalidade_licitacao/07|Modalidade de Licitação 07: Inexigibilidade|/licitacoes/id/uasg/70023 |UASG 70023: TRIBUNAL REGIONAL ELEITORAL DE GOIAS        |\n",
            "|117447|07002350000342019|00034/2019|Despesa        |14000       |JUSTICA ELEITORAL                          |70023         |TRE/GO               |TRIBUNAL REGIONAL ELEITORAL DE GOIAS       |070023               |TRIBUNAL REGIONAL ELEITORAL DE GOIAS       |50         |Contrato|Informática (TIC)|00 .0.009360201-8   |AQUISIÇÃO DE SOLUÇÃO INFORMATIZADA INTEGRADA, COMPOSTA POR SERVIÇOS PARA AUTOMAÇÃO E APRIMORAMENTO DE PROCESSOS DE NEGÓCIOS, CONFORMIDADE REGULAMENTAR E GOVERNANÇA CORPORATIVA                                                                                                                                                                                                                                                                                |NULL                  |2019-10-04     |2022-10-06     |2019-10-04     |2023-10-04  |100900.0     |122871.04   |1           |122871.04    |2167736.64     |JURIDICA       |00449824                   |SOFTEXPERT SOFTWARE S.A.             |NULL             |07               |Inexigibilidade|70023.0       |NULL            |NULL                   |/comprasContratos/id/contrato/117447|Contrato 070023.50.00034.2019|NaN                                       |NaN                        |/licitacoes/id/modalidade_licitacao/07|Modalidade de Licitação 07: Inexigibilidade|/licitacoes/id/uasg/70023 |UASG 70023: TRIBUNAL REGIONAL ELEITORAL DE GOIAS        |\n",
            "|117447|07002350000342019|00034/2019|Despesa        |14000       |JUSTICA ELEITORAL                          |70023         |TRE/GO               |TRIBUNAL REGIONAL ELEITORAL DE GOIAS       |070023               |TRIBUNAL REGIONAL ELEITORAL DE GOIAS       |50         |Contrato|Informática (TIC)|00 .0.009360201-8   |AQUISIÇÃO DE SOLUÇÃO INFORMATIZADA INTEGRADA, COMPOSTA POR SERVIÇOS PARA AUTOMAÇÃO E APRIMORAMENTO DE PROCESSOS DE NEGÓCIOS, CONFORMIDADE REGULAMENTAR E GOVERNANÇA CORPORATIVA                                                                                                                                                                                                                                                                                |NULL                  |2019-10-04     |2022-10-06     |2019-10-04     |2023-10-04  |100900.0     |122871.04   |1           |122871.04    |2167736.64     |JURIDICA       |00449824                   |SOFTEXPERT SOFTWARE S.A.             |NULL             |07               |Inexigibilidade|70023.0       |NULL            |NULL                   |/comprasContratos/id/contrato/117447|Contrato 070023.50.00034.2019|NaN                                       |NaN                        |/licitacoes/id/modalidade_licitacao/07|Modalidade de Licitação 07: Inexigibilidade|/licitacoes/id/uasg/70023 |UASG 70023: TRIBUNAL REGIONAL ELEITORAL DE GOIAS        |\n",
            "|117447|07002350000342019|00034/2019|Despesa        |14000       |JUSTICA ELEITORAL                          |70023         |TRE/GO               |TRIBUNAL REGIONAL ELEITORAL DE GOIAS       |070023               |TRIBUNAL REGIONAL ELEITORAL DE GOIAS       |50         |Contrato|Informática (TIC)|00 .0.009360201-8   |AQUISIÇÃO DE SOLUÇÃO INFORMATIZADA INTEGRADA, COMPOSTA POR SERVIÇOS PARA AUTOMAÇÃO E APRIMORAMENTO DE PROCESSOS DE NEGÓCIOS, CONFORMIDADE REGULAMENTAR E GOVERNANÇA CORPORATIVA                                                                                                                                                                                                                                                                                |NULL                  |2019-10-04     |2022-10-06     |2019-10-04     |2023-10-04  |100900.0     |122871.04   |1           |122871.04    |2167736.64     |JURIDICA       |00449824                   |SOFTEXPERT SOFTWARE S.A.             |NULL             |07               |Inexigibilidade|70023.0       |NULL            |NULL                   |/comprasContratos/id/contrato/117447|Contrato 070023.50.00034.2019|NaN                                       |NaN                        |/licitacoes/id/modalidade_licitacao/07|Modalidade de Licitação 07: Inexigibilidade|/licitacoes/id/uasg/70023 |UASG 70023: TRIBUNAL REGIONAL ELEITORAL DE GOIAS        |\n",
            "|117447|07002350000342019|00034/2019|Despesa        |14000       |JUSTICA ELEITORAL                          |70023         |TRE/GO               |TRIBUNAL REGIONAL ELEITORAL DE GOIAS       |070023               |TRIBUNAL REGIONAL ELEITORAL DE GOIAS       |50         |Contrato|Informática (TIC)|00 .0.009360201-8   |AQUISIÇÃO DE SOLUÇÃO INFORMATIZADA INTEGRADA, COMPOSTA POR SERVIÇOS PARA AUTOMAÇÃO E APRIMORAMENTO DE PROCESSOS DE NEGÓCIOS, CONFORMIDADE REGULAMENTAR E GOVERNANÇA CORPORATIVA                                                                                                                                                                                                                                                                                |NULL                  |2019-10-04     |2022-10-06     |2019-10-04     |2023-10-04  |100900.0     |122871.04   |1           |122871.04    |2167736.64     |JURIDICA       |00449824                   |SOFTEXPERT SOFTWARE S.A.             |NULL             |07               |Inexigibilidade|70023.0       |NULL            |NULL                   |/comprasContratos/id/contrato/117447|Contrato 070023.50.00034.2019|NaN                                       |NaN                        |/licitacoes/id/modalidade_licitacao/07|Modalidade de Licitação 07: Inexigibilidade|/licitacoes/id/uasg/70023 |UASG 70023: TRIBUNAL REGIONAL ELEITORAL DE GOIAS        |\n",
            "|178655|15404350000672022|00067/2022|Despesa        |26274       |FUNDACAO UNIVERSIDADE FEDERAL DE UBERLANDIA|154043        |FUFUB                |FUNDACAO UNIVERSIDADE FEDERAL DE UBERLANDIA|154043               |FUNDACAO UNIVERSIDADE FEDERAL DE UBERLANDIA|50         |Contrato|Informática (TIC)|23117.037574/2022-45|SOLUÇÃO DE TECNOLOGIA DA INFORMAÇÃO E COMUNICAÇÃO PARA AQUISIÇÃO DE AUTODESK BIM 360 DOCS, PACK COM 10 ACESSOS - LICENÇA DE 3 ANOS - CESSÃO TEMPORÁRIA DE DIREITOS SOBRE PROGRAMAS DE COMPUTADOR LOCAÇÃO DE SOFTWARE                                                                                                                                                                                                                                           |NULL                  |2023-01-12     |2023-01-13     |2023-01-16     |2026-01-16  |42250.0      |42250.0     |1           |42250.0      |42250.0        |JURIDICA       |00510077                   |FRAZILLIO SOLUCOES DE TECNOLOGIA LTDA|15404305000852022|05               |Pregão         |154043.0      |00085/2022      |NULL                   |/comprasContratos/id/contrato/178655|Contrato 154043.50.00067.2022|/licitacoes/id/licitacao/15404305000852022|Licitação 15404305000852022|/licitacoes/id/modalidade_licitacao/05|Modalidade de Licitação 05: Pregão         |/licitacoes/id/uasg/154043|UASG 154043: FUNDACAO UNIVERSIDADE FEDERAL DE UBERLANDIA|\n",
            "|206722|92505450723072023|72307/2023|Despesa        |95451       |PMSP - SECRETARIA MUNICIPAL DE CULTURA     |925054        |PMSP - SMC           |PMSP - SECRETARIA MUNICIPAL DE CULTURA     |925054               |PMSP - SECRETARIA MUNICIPAL DE CULTURA     |50         |Contrato|Informática (TIC)|06025.202200/2575-97|AQUISIÇÃO DE LICENÇA PARA USO DO ADOBE CREATIVE CLOUD, ADOBE PHOTOSHOP, AUTOCAD E MS PROJECT PARA FUNCIONÁRIOS DA SECRETARIA MUNICIPAL DE CULTURA                                                                                                                                                                                                                                                                                                              |NULL                  |2023-08-09     |2023-08-09     |2023-08-09     |2024-08-09  |85500.0      |85500.0     |1           |85500.0      |85500.0        |JURIDICA       |00510077                   |FRAZILLIO SOLUCOES DE TECNOLOGIA LTDA|92505405000192023|05               |Pregão         |925054.0      |00019/2023      |NULL                   |/comprasContratos/id/contrato/206722|Contrato 925054.50.72307.2023|/licitacoes/id/licitacao/92505405000192023|Licitação 92505405000192023|/licitacoes/id/modalidade_licitacao/05|Modalidade de Licitação 05: Pregão         |/licitacoes/id/uasg/925054|UASG 925054: PMSP - SECRETARIA MUNICIPAL DE CULTURA     |\n",
            "|208692|08001050001002022|00100/2022|Despesa        |15000       |JUSTICA DO TRABALHO                        |80010         |TRT-2A.REGIAO/SP     |TRIBUNAL REGIONAL DO TRABALHO DA 2A.REGIAO |080010               |TRIBUNAL REGIONAL DO TRABALHO DA 2A.REGIAO |50         |Contrato|Informática (TIC)|42641/2022          |AQUISIÇÃO DE LICENÇAS DE SOFTWARE PARA MODELAGEM VIRTUAL DE CONSTRUÇÕES E REFORMAS.                                                                                                                                                                                                                                                                                                                                                                            |NULL                  |2022-12-08     |2022-12-12     |2022-12-08     |2025-12-20  |884865.54    |884865.54   |1           |884865.54    |0.0            |JURIDICA       |00510077                   |FRAZILLIO SOLUCOES DE TECNOLOGIA LTDA|08001005426412022|05               |Pregão         |80010.0       |42641/2022      |PG-098/2022.           |/comprasContratos/id/contrato/208692|Contrato 080010.50.00100.2022|/licitacoes/id/licitacao/08001005426412022|Licitação 08001005426412022|/licitacoes/id/modalidade_licitacao/05|Modalidade de Licitação 05: Pregão         |/licitacoes/id/uasg/80010 |UASG 80010: TRIBUNAL REGIONAL DO TRABALHO DA 2A.REGIAO  |\n",
            "+------+-----------------+----------+---------------+------------+-------------------------------------------+--------------+---------------------+-------------------------------------------+---------------------+-------------------------------------------+-----------+--------+-----------------+--------------------+---------------------------------------------------------------------------------------------------------------------------------------------------------------------------------------------------------------------------------------------------------------------------------------------------------------------------------------------------------------------------------------------------------------------------------------------------------------+----------------------+---------------+---------------+---------------+------------+-------------+------------+------------+-------------+---------------+---------------+---------------------------+-------------------------------------+-----------------+-----------------+---------------+--------------+----------------+-----------------------+------------------------------------+-----------------------------+------------------------------------------+---------------------------+--------------------------------------+-------------------------------------------+--------------------------+--------------------------------------------------------+\n",
            "only showing top 20 rows\n",
            "\n"
          ]
        }
      ]
    },
    {
      "cell_type": "code",
      "source": [
        "df_Top_50_Empresas_CapitalSocial.count()"
      ],
      "metadata": {
        "colab": {
          "base_uri": "https://localhost:8080/"
        },
        "id": "V2Kixi55qkr2",
        "outputId": "a156e55f-1e4d-4a93-dd1e-364eec73d4bf"
      },
      "execution_count": null,
      "outputs": [
        {
          "output_type": "execute_result",
          "data": {
            "text/plain": [
              "50"
            ]
          },
          "metadata": {},
          "execution_count": 14
        }
      ]
    },
    {
      "cell_type": "code",
      "source": [
        "df_Top_50_Empresas_CapitalSocial.createOrReplaceTempView(\"Top_50_Empresas_CapitalSocial\")"
      ],
      "metadata": {
        "id": "z-5j0Xe5pA8G"
      },
      "execution_count": null,
      "outputs": []
    },
    {
      "cell_type": "code",
      "source": [
        "# Criando os vertices e edges.\n",
        "\n",
        "# Todos os órgãos e fornecedores\n",
        "\n",
        "sql = '''\n",
        "      SELECT DISTINCT\n",
        "        orgao_codigo AS id,\n",
        "        orgao_nome AS nome\n",
        "      FROM\n",
        "        Top_50_Empresas_CapitalSocial\n",
        "\n",
        "      UNION\n",
        "\n",
        "      SELECT\n",
        "        CASE\n",
        "          WHEN fornecedor_cnpj_cpf_idgener = '' THEN id\n",
        "          ELSE fornecedor_cnpj_cpf_idgener\n",
        "          END AS id,\n",
        "        fornecedor_nome\n",
        "      FROM\n",
        "        Top_50_Empresas_CapitalSocial\n",
        "'''\n",
        "vertices = spark.sql(sql)\n",
        "\n",
        "# Categoria da relação contratual entre fornecedores e orgãos.\n",
        "\n",
        "sql = '''\n",
        "      SELECT\n",
        "        fornecedor_cnpj_cpf_idgener AS dst,\n",
        "        orgao_codigo AS src,\n",
        "        categoria AS RELATIONSHIP\n",
        "      FROM\n",
        "        Top_50_Empresas_CapitalSocial\n",
        "\n",
        "      UNION\n",
        "\n",
        "      SELECT\n",
        "        orgao_codigo AS dst,\n",
        "        fornecedor_cnpj_cpf_idgener AS src,\n",
        "        categoria AS RELATIONSHIP\n",
        "      FROM\n",
        "        Top_50_Empresas_CapitalSocial\n",
        "'''\n",
        "edges = spark.sql(sql)"
      ],
      "metadata": {
        "id": "ACLG7Bc_oxoq"
      },
      "execution_count": null,
      "outputs": []
    },
    {
      "cell_type": "code",
      "source": [
        "# Armazenando todos os forncedores de tecnologia e unidades onde o nome e o id não encontra-se nulo.\n",
        "\n",
        "sql_vertices = spark.sql(\"\"\"\n",
        "SELECT\n",
        "  ET.CNPJ AS id,\n",
        "  ET.NOME_FANTASIA AS nome\n",
        "FROM\n",
        "  Estabelecimentos_tecnologia AS ET\n",
        "WHERE 1=1\n",
        "  AND ET.nome_fantasia IS NOT NULL\n",
        "  AND ET.NOME_FANTASIA IS NOT NULL\n",
        "\n",
        "UNION\n",
        "\n",
        "SELECT\n",
        "  CCT.unidade_codigo AS id,\n",
        "  CCT.unidade_nome AS nome\n",
        "FROM\n",
        "  Compras_Contratos_tratados AS CCT\n",
        "WHERE 1=1\n",
        "  AND CCT.unidade_codigo IS NOT NULL\n",
        "  AND CCT.unidade_nome IS NOT NULL\n",
        "\"\"\")\n",
        "sql_vertices.show(truncate=False)"
      ],
      "metadata": {
        "colab": {
          "base_uri": "https://localhost:8080/"
        },
        "id": "Sw8GQV2tCNu2",
        "outputId": "d1add949-b227-44e6-de94-2722039d9701"
      },
      "execution_count": null,
      "outputs": [
        {
          "output_type": "stream",
          "name": "stdout",
          "text": [
            "+--------+----------------------------------------------+\n",
            "|id      |nome                                          |\n",
            "+--------+----------------------------------------------+\n",
            "|08094877|TRUE SYSTEM WORKS SOLUCOES PARA APLICACOES WEB|\n",
            "|07487969|P.L.L. BENINI INFORMATICA                     |\n",
            "|09199020|HUR SISTEMAS                                  |\n",
            "|00891447|ADVANCED                                      |\n",
            "|01715191|C & R INFORMATICA                             |\n",
            "|11780043|A B M SUPORTE TECNICO                         |\n",
            "|10711582|NET TRACK                                     |\n",
            "|10388377|ISICON                                        |\n",
            "|14676698|SECUNDINO LUIS HENRIQUE CORCINI NETO          |\n",
            "|13190976|FOX CONSULTORIA                               |\n",
            "|10341954|CASA PRE-FABRICADA                            |\n",
            "|20724425|SLAINTE                                       |\n",
            "|16865462|MOVELUS                                       |\n",
            "|19614047|CHANGE TI                                     |\n",
            "|10964144|SINAX INTEGRACAO E GESTAO DE PREOCESSOS LTDA  |\n",
            "|17805047|VOXX TELECOM                                  |\n",
            "|21490044|GLM SERVICOS                                  |\n",
            "|10262062|LOTELLA                                       |\n",
            "|15360452|BYDOOR PLATAFORMA DE GESTAO                   |\n",
            "|15005428|BIOSZARD DEV                                  |\n",
            "+--------+----------------------------------------------+\n",
            "only showing top 20 rows\n",
            "\n"
          ]
        }
      ]
    },
    {
      "cell_type": "code",
      "source": [
        "vertices_2 = sql_vertices"
      ],
      "metadata": {
        "id": "uBiG2_58hF-x"
      },
      "execution_count": null,
      "outputs": []
    },
    {
      "cell_type": "code",
      "source": [
        "# Buscando todas as unidades para identificar a relação entre fornecedores x unidades de tecnologia.\n",
        "\n",
        "sql_edges = spark.sql(\"\"\"\n",
        "SELECT\n",
        "  ET.CNPJ AS src,\n",
        "  CCT.unidade_nome_resumido AS dst,\n",
        "  'FOR.' AS relationship -- Fornecedor\n",
        "FROM\n",
        "  Compras_Contratos_tratados AS CCT\n",
        "INNER JOIN Estabelecimentos_tecnologia AS ET\n",
        "        ON ET.CNPJ = CCT.fornecedor_cnpj_cpf_idgener\n",
        "WHERE 1=1\n",
        "  AND CCT.unidade_codigo IS NOT NULL\n",
        "  AND CCT.unidade_nome IS NOT NULL\n",
        "  AND ET.nome_fantasia IS NOT NULL\n",
        "  AND ET.NOME_FANTASIA IS NOT NULL\n",
        "\n",
        "UNION\n",
        "\n",
        "SELECT\n",
        "  CCT.unidade_codigo AS src,\n",
        "  ET.NOME_FANTASIA AS dst,\n",
        "  'FOR.' AS relationship -- Fornecedor\n",
        "FROM\n",
        "  Compras_Contratos_tratados AS CCT\n",
        "INNER JOIN Estabelecimentos_tecnologia AS ET\n",
        "        ON ET.CNPJ = CCT.fornecedor_cnpj_cpf_idgener\n",
        "WHERE 1=1\n",
        "  AND CCT.unidade_codigo IS NOT NULL\n",
        "  AND CCT.unidade_nome IS NOT NULL\n",
        "  AND ET.nome_fantasia IS NOT NULL\n",
        "  AND ET.NOME_FANTASIA IS NOT NULL\n",
        "\"\"\")\n",
        "\n",
        "sql_edges.show(10, truncate=False)"
      ],
      "metadata": {
        "colab": {
          "base_uri": "https://localhost:8080/"
        },
        "id": "WKdxzSPVPHt3",
        "outputId": "478c066f-84e1-4c3c-ffcc-a72b25035f89"
      },
      "execution_count": null,
      "outputs": [
        {
          "output_type": "stream",
          "name": "stdout",
          "text": [
            "+--------+------------------+------------+\n",
            "|src     |dst               |relationship|\n",
            "+--------+------------------+------------+\n",
            "|58619404|INPE/S.J.CAMP/MCTI|FOR.        |\n",
            "|03535902|IPHAN             |FOR.        |\n",
            "|07153973|71º B I MTZ       |FOR.        |\n",
            "|40432544|EBSERH MEJC-UFRN  |FOR.        |\n",
            "|40432544|SR/PF/SP          |FOR.        |\n",
            "|07797967|UNIFEI - MG       |FOR.        |\n",
            "|49645027|DAL/ME            |FOR.        |\n",
            "|57142978|IMBEL/FJF         |FOR.        |\n",
            "|72381189|P.REIT.GRAD./UFMG |FOR.        |\n",
            "|00473342|IMBEL/FPV         |FOR.        |\n",
            "+--------+------------------+------------+\n",
            "only showing top 10 rows\n",
            "\n"
          ]
        }
      ]
    },
    {
      "cell_type": "code",
      "source": [
        "edges_2 = sql_edges"
      ],
      "metadata": {
        "id": "FGUG6lihhKTf"
      },
      "execution_count": null,
      "outputs": []
    },
    {
      "cell_type": "code",
      "source": [
        "g = GraphFrame(vertices, edges)"
      ],
      "metadata": {
        "id": "Dryok0GZhCRh"
      },
      "execution_count": null,
      "outputs": []
    },
    {
      "cell_type": "code",
      "source": [
        "g_2 = GraphFrame(vertices_2, edges_2)"
      ],
      "metadata": {
        "id": "TsrWO43vjZS8"
      },
      "execution_count": null,
      "outputs": []
    },
    {
      "cell_type": "code",
      "source": [
        "def plot_graph(es):\n",
        "    g = nx.DiGraph()\n",
        "    rows = es.select('src', 'dst')\n",
        "\n",
        "    # Limita a quantidade de linhas se o número de linhas for maior que 200\n",
        "    if rows.count() > 500:\n",
        "        rows = rows.limit(500)\n",
        "\n",
        "    for row in rows.collect():\n",
        "        g.add_edge(row['src'], row['dst'])\n",
        "\n",
        "    nx.draw(g, with_labels=False, node_color='yellow', node_size=100)"
      ],
      "metadata": {
        "id": "YvyMOFJkhZYe"
      },
      "execution_count": null,
      "outputs": []
    },
    {
      "cell_type": "code",
      "source": [
        "def plot_graph_2(es):\n",
        "    g_2 = nx.DiGraph()\n",
        "    rows = es.select('src', 'dst')\n",
        "\n",
        "    # Limita a quantidade de linhas se o número de linhas for maior que 200\n",
        "    if rows.count() > 500:\n",
        "        rows = rows.limit(50)\n",
        "\n",
        "    for row in rows.collect():\n",
        "        g_2.add_edge(row['src'], row['dst'])\n",
        "\n",
        "    nx.draw(g_2, with_labels=False, node_color='yellow', node_size=100)"
      ],
      "metadata": {
        "id": "VnVVa2xjj0Aw"
      },
      "execution_count": null,
      "outputs": []
    },
    {
      "cell_type": "code",
      "source": [
        "# Relação Fornecedores x Orgãos\n",
        "\n",
        "plot_graph(g.edges)"
      ],
      "metadata": {
        "colab": {
          "base_uri": "https://localhost:8080/",
          "height": 516
        },
        "id": "LAxKduj8hhnX",
        "outputId": "5d5d49d6-7904-46cc-9a86-b8ae11ce1f8d"
      },
      "execution_count": null,
      "outputs": [
        {
          "output_type": "display_data",
          "data": {
            "text/plain": [
              "<Figure size 640x480 with 1 Axes>"
            ],
            "image/png": "[encoded data removed]"
          },
          "metadata": {}
        }
      ]
    },
    {
      "cell_type": "code",
      "source": [
        "# Relação Fornecedores x Unidades\n",
        "\n",
        "plot_graph_2(g_2.edges)"
      ],
      "metadata": {
        "colab": {
          "base_uri": "https://localhost:8080/",
          "height": 516
        },
        "id": "c8zrSbaskI_i",
        "outputId": "8ec642bf-9e10-4a02-97f8-b504d6c55aef"
      },
      "execution_count": null,
      "outputs": [
        {
          "output_type": "display_data",
          "data": {
            "text/plain": [
              "<Figure size 640x480 with 1 Axes>"
            ],
            "image/png": "[encoded data removed]"
          },
          "metadata": {}
        }
      ]
    },
    {
      "cell_type": "code",
      "source": [
        "def plot_directed_graph(edge_list):\n",
        "    gplot = nx.DiGraph()\n",
        "    edge_labels = {}\n",
        "    for row in edge_list.select(\"src\", \"dst\", \"relationship\").take(50):\n",
        "        gplot.add_edge(row[\"src\"], row[\"dst\"])\n",
        "        edge_labels[(row[\"src\"], row[\"dst\"])] = row[\"relationship\"]\n",
        "    pos = nx.spring_layout(gplot)\n",
        "\n",
        "    nx.draw(gplot, pos, with_labels=True, font_weight=\"bold\", node_size=100, font_size=5)\n",
        "\n",
        "    nx.draw_networkx_edge_labels(gplot, pos, edge_labels=edge_labels, font_color=\"green\", font_size=5)"
      ],
      "metadata": {
        "id": "OVn12wa0q6NI"
      },
      "execution_count": null,
      "outputs": []
    },
    {
      "cell_type": "code",
      "source": [
        "plot_directed_graph(g.edges)"
      ],
      "metadata": {
        "colab": {
          "base_uri": "https://localhost:8080/",
          "height": 516
        },
        "id": "zY84m6xinBrr",
        "outputId": "84298ac6-6019-4af2-84b4-046928e69f0b"
      },
      "execution_count": null,
      "outputs": [
        {
          "output_type": "display_data",
          "data": {
            "text/plain": [
              "<Figure size 640x480 with 1 Axes>"
            ],
            "image/png": "[encoded data removed]"
          },
          "metadata": {}
        }
      ]
    },
    {
      "cell_type": "code",
      "source": [
        "plot_directed_graph(g_2.edges)"
      ],
      "metadata": {
        "colab": {
          "base_uri": "https://localhost:8080/",
          "height": 516
        },
        "id": "39M93GY-q7-O",
        "outputId": "003d3eb6-923e-4ee4-aa52-5502fe4e7e8f"
      },
      "execution_count": null,
      "outputs": [
        {
          "output_type": "display_data",
          "data": {
            "text/plain": [
              "<Figure size 640x480 with 1 Axes>"
            ],
            "image/png": "[encoded data removed]"
          },
          "metadata": {}
        }
      ]
    },
    {
      "cell_type": "code",
      "source": [
        "g.edges.filter(\"relationship = 'Informática (TIC)'\").count()"
      ],
      "metadata": {
        "colab": {
          "base_uri": "https://localhost:8080/"
        },
        "id": "bTKWUZbHwvOz",
        "outputId": "e761c66a-5364-45d4-c734-8b6677772ec5"
      },
      "execution_count": null,
      "outputs": [
        {
          "output_type": "execute_result",
          "data": {
            "text/plain": [
              "40"
            ]
          },
          "metadata": {},
          "execution_count": 56
        }
      ]
    },
    {
      "cell_type": "code",
      "source": [
        "g_2.edges.filter(\"relationship = 'FOR.'\").count()"
      ],
      "metadata": {
        "colab": {
          "base_uri": "https://localhost:8080/"
        },
        "id": "OdTFfq64nPbC",
        "outputId": "28c5f9cc-acc0-4557-b4d6-c44e429981e9"
      },
      "execution_count": null,
      "outputs": [
        {
          "output_type": "execute_result",
          "data": {
            "text/plain": [
              "20053"
            ]
          },
          "metadata": {},
          "execution_count": 81
        }
      ]
    },
    {
      "cell_type": "code",
      "source": [
        "ranked_vertices = g.pageRank(maxIter=5).vertices\n",
        "\n",
        "# Ordenando os vértices pelo valor do PageRank em ordem decrescente\n",
        "ranked_vertices = ranked_vertices.orderBy(\"pagerank\", ascending=False)\n",
        "\n",
        "# Exibindo os 500 primeiros vértices sem truncamento\n",
        "ranked_vertices.show(500, truncate=False)"
      ],
      "metadata": {
        "colab": {
          "base_uri": "https://localhost:8080/"
        },
        "id": "aCtiAN5Wp7RO",
        "outputId": "ad72e70f-7c91-478b-8cfb-3d34b6f7c3f1"
      },
      "execution_count": null,
      "outputs": [
        {
          "output_type": "stream",
          "name": "stderr",
          "text": [
            "/content/spark-3.5.1-bin-hadoop3/python/pyspark/sql/dataframe.py:147: UserWarning: DataFrame constructor is internal. Do not directly use it.\n",
            "  warnings.warn(\"DataFrame constructor is internal. Do not directly use it.\")\n",
            "/content/spark-3.5.1-bin-hadoop3/python/pyspark/sql/dataframe.py:168: UserWarning: DataFrame.sql_ctx is an internal property, and will be removed in future releases. Use DataFrame.sparkSession instead.\n",
            "  warnings.warn(\n"
          ]
        },
        {
          "output_type": "stream",
          "name": "stdout",
          "text": [
            "+--------+--------------------------------------------------+-------------------+\n",
            "|id      |nome                                              |pagerank           |\n",
            "+--------+--------------------------------------------------+-------------------+\n",
            "|00510077|FRAZILLIO SOLUCOES DE TECNOLOGIA LTDA             |3.9261877354600707 |\n",
            "|00928375|ABRANTES SOLUCOES LTDA                            |3.459203386877894  |\n",
            "|00928375|DELTALAB CONSULTORIA E TREINAMENTOS LTDA          |3.459203386877894  |\n",
            "|00660928|LIFE TECNOLOGIA E CONSULTORIA LTDA                |2.5537619294813374 |\n",
            "|52111   |COMANDO DA AERONAUTICA                            |1.6633240625000003 |\n",
            "|01121632|MAGNETICA SISTEMAS DE INFORMACAO LTDA - ME        |1.6633240625       |\n",
            "|00449824|SOFTEXPERT SOFTWARE S.A.                          |1.63030312114077   |\n",
            "|00530341|CONECTAA TECNOLOGIA DA INFORMACAO LTDA            |1.0000000000000004 |\n",
            "|00810163|MABUYA TECH SOLUCOES EM TECNOLOGIA LTDA  - ME     |1.0000000000000004 |\n",
            "|01313826|HYPERTECH SOFTWARE LTDA                           |1.0000000000000004 |\n",
            "|26292   |FUNDACAO JOAQUIM NABUCO                           |1.0000000000000004 |\n",
            "|30802   |DEPARTAMENTO DE POLICIA RODOVIARIA FEDERAL/MJ     |1.0000000000000004 |\n",
            "|53203   |SUPERINTENDENCIA DO DESENVOLV. DO NORDESTE        |1.0000000000000004 |\n",
            "|95448   |PMSP - SECRETARIA MUNICIPAL DA FAZENDA            |0.9516860651765049 |\n",
            "|26419   |INST.FED.DE EDUC.,CIENC.E TEC.DO RS               |0.8411172916666669 |\n",
            "|25000   |MINISTERIO DA ECONOMIA                            |0.738717006228299  |\n",
            "|00103115|BRASOFTWARE INTERNET LTDA                         |0.7271085145399309 |\n",
            "|20301   |COMISSAO NACIONAL DE ENERGIA NUCLEAR              |0.7048154801486549 |\n",
            "|00726514|BALTAR TECNOLOGIA E EQUIPAMENTOS LTDA             |0.6683379687500003 |\n",
            "|01645738|INDRA BRASIL SOLUCOES E SERVICOS TECNOLOGICOS LTDA|0.6683379687500003 |\n",
            "|36201   |FUNDACAO OSWALDO CRUZ                             |0.6404747917588978 |\n",
            "|14000   |JUSTICA ELEITORAL                                 |0.6065732656792536 |\n",
            "|26439   |INST.FED.DE EDUC.,CIENC.E TEC.DE SAO PAULO        |0.49555864583333353|\n",
            "|95433   |PMSP - SECRETARIA DO VERDE E DO MEIO AMBIENTE     |0.4790035369646992 |\n",
            "|26267   |UNIVERS. FEDERAL DA INTEG. LATINO AMERICANA       |0.4790035369646992 |\n",
            "|26274   |FUNDACAO UNIVERSIDADE FEDERAL DE UBERLANDIA       |0.4790035369646992 |\n",
            "|15000   |JUSTICA DO TRABALHO                               |0.4790035369646992 |\n",
            "|95451   |PMSP - SECRETARIA MUNICIPAL DE CULTURA            |0.4790035369646992 |\n",
            "|26298   |FUNDO NACIONAL DE DESENVOLVIMENTO DA EDUCACAO     |0.476528847309028  |\n",
            "|12000   |JUSTICA FEDERAL                                   |0.476528847309028  |\n",
            "|20411   |INSTITUTO DO PATRIMONIO HIST. E ART. NACIONAL     |0.476528847309028  |\n",
            "|37000   |CONTROLADORIA-GERAL DA UNIAO                      |0.4121881589192709 |\n",
            "|24209   |CENTRO NAC DE TECN ELETRONICA AVANCADA S/A        |0.4121881589192709 |\n",
            "|20403   |FUNDACAO CASA DE RUI BARBOSA                      |0.4121881589192709 |\n",
            "+--------+--------------------------------------------------+-------------------+\n",
            "\n"
          ]
        }
      ]
    },
    {
      "cell_type": "code",
      "source": [
        "from pyspark.sql.functions import col, lit, when\n",
        "from pyspark.sql.types import IntegerType\n",
        "import functools\n",
        "\n",
        "chain = g.find(\"(a)-[ab]->(b); (b)-[bc]->(c); (c)-[cd]->(d)\")\n",
        "\n",
        "sumFriends =\\\n",
        "  lambda cnt,relationship: when(relationship == \"Informática (TIC)\", cnt+1).otherwise(cnt)\n",
        "\n",
        "condition =\\\n",
        "  functools.reduce(lambda cnt,e: sumFriends(cnt, col(e).relationship), [\"ab\", \"bc\", \"cd\"], lit(0))\n",
        "chainWith2Friends2 = chain.select(\"*\").where((condition >= 2) & (col(\"a\").id != col(\"b\").id) & (col(\"b\").id != col(\"c\").id) & (col(\"c\").id != col(\"d\").id))\n",
        "chainWith2Friends2 = chainWith2Friends2.dropDuplicates()\n",
        "\n",
        "#chainWith2Friends2 = chain.where(condition >= 2)\n",
        "chainWith2Friends2.show(truncate=False)"
      ],
      "metadata": {
        "colab": {
          "base_uri": "https://localhost:8080/"
        },
        "id": "uAKlnOiusQZg",
        "outputId": "cedbccd6-1351-4f86-b126-fecb35331e82"
      },
      "execution_count": null,
      "outputs": [
        {
          "output_type": "stream",
          "name": "stderr",
          "text": [
            "/content/spark-3.5.1-bin-hadoop3/python/pyspark/sql/dataframe.py:147: UserWarning: DataFrame constructor is internal. Do not directly use it.\n",
            "  warnings.warn(\"DataFrame constructor is internal. Do not directly use it.\")\n"
          ]
        },
        {
          "output_type": "stream",
          "name": "stdout",
          "text": [
            "+------------------------------------------------------+------------------------------------+----------------------------------------------------+------------------------------------+------------------------------------------------------+------------------------------------+------------------------------------------------------+\n",
            "|a                                                     |ab                                  |b                                                   |bc                                  |c                                                     |cd                                  |d                                                     |\n",
            "+------------------------------------------------------+------------------------------------+----------------------------------------------------+------------------------------------+------------------------------------------------------+------------------------------------+------------------------------------------------------+\n",
            "|{26274, FUNDACAO UNIVERSIDADE FEDERAL DE UBERLANDIA}  |{00510077, 26274, Informática (TIC)}|{00510077, FRAZILLIO SOLUCOES DE TECNOLOGIA LTDA}   |{15000, 00510077, Informática (TIC)}|{15000, JUSTICA DO TRABALHO}                          |{00510077, 15000, Informática (TIC)}|{00510077, FRAZILLIO SOLUCOES DE TECNOLOGIA LTDA}     |\n",
            "|{14000, JUSTICA ELEITORAL}                            |{00449824, 14000, Informática (TIC)}|{00449824, SOFTEXPERT SOFTWARE S.A.}                |{14000, 00449824, Serviços}         |{14000, JUSTICA ELEITORAL}                            |{00449824, 14000, Informática (TIC)}|{00449824, SOFTEXPERT SOFTWARE S.A.}                  |\n",
            "|{20301, COMISSAO NACIONAL DE ENERGIA NUCLEAR}         |{00449824, 20301, Informática (TIC)}|{00449824, SOFTEXPERT SOFTWARE S.A.}                |{20301, 00449824, Informática (TIC)}|{20301, COMISSAO NACIONAL DE ENERGIA NUCLEAR}         |{00928375, 20301, Informática (TIC)}|{00928375, ABRANTES SOLUCOES LTDA}                    |\n",
            "|{00928375, ABRANTES SOLUCOES LTDA}                    |{25000, 00928375, Informática (TIC)}|{25000, MINISTERIO DA ECONOMIA}                     |{00660928, 25000, Informática (TIC)}|{00660928, LIFE TECNOLOGIA E CONSULTORIA LTDA}        |{24209, 00660928, Informática (TIC)}|{24209, CENTRO NAC DE TECN ELETRONICA AVANCADA S/A}   |\n",
            "|{01121632, MAGNETICA SISTEMAS DE INFORMACAO LTDA - ME}|{26419, 01121632, Informática (TIC)}|{26419, INST.FED.DE EDUC.,CIENC.E TEC.DO RS}        |{01121632, 26419, A definir}        |{01121632, MAGNETICA SISTEMAS DE INFORMACAO LTDA - ME}|{26419, 01121632, Informática (TIC)}|{26419, INST.FED.DE EDUC.,CIENC.E TEC.DO RS}          |\n",
            "|{01121632, MAGNETICA SISTEMAS DE INFORMACAO LTDA - ME}|{26419, 01121632, Informática (TIC)}|{26419, INST.FED.DE EDUC.,CIENC.E TEC.DO RS}        |{01121632, 26419, Informática (TIC)}|{01121632, MAGNETICA SISTEMAS DE INFORMACAO LTDA - ME}|{26439, 01121632, Informática (TIC)}|{26439, INST.FED.DE EDUC.,CIENC.E TEC.DE SAO PAULO}   |\n",
            "|{00928375, ABRANTES SOLUCOES LTDA}                    |{25000, 00928375, Informática (TIC)}|{25000, MINISTERIO DA ECONOMIA}                     |{00928375, 25000, Informática (TIC)}|{00928375, DELTALAB CONSULTORIA E TREINAMENTOS LTDA}  |{26298, 00928375, A definir}        |{26298, FUNDO NACIONAL DE DESENVOLVIMENTO DA EDUCACAO}|\n",
            "|{00928375, ABRANTES SOLUCOES LTDA}                    |{25000, 00928375, Informática (TIC)}|{25000, MINISTERIO DA ECONOMIA}                     |{00928375, 25000, Informática (TIC)}|{00928375, DELTALAB CONSULTORIA E TREINAMENTOS LTDA}  |{25000, 00928375, Informática (TIC)}|{25000, MINISTERIO DA ECONOMIA}                       |\n",
            "|{00928375, ABRANTES SOLUCOES LTDA}                    |{20301, 00928375, Informática (TIC)}|{20301, COMISSAO NACIONAL DE ENERGIA NUCLEAR}       |{00449824, 20301, Informática (TIC)}|{00449824, SOFTEXPERT SOFTWARE S.A.}                  |{20301, 00449824, Informática (TIC)}|{20301, COMISSAO NACIONAL DE ENERGIA NUCLEAR}         |\n",
            "|{00449824, SOFTEXPERT SOFTWARE S.A.}                  |{14000, 00449824, Informática (TIC)}|{14000, JUSTICA ELEITORAL}                          |{00449824, 14000, Informática (TIC)}|{00449824, SOFTEXPERT SOFTWARE S.A.}                  |{14000, 00449824, Serviços}         |{14000, JUSTICA ELEITORAL}                            |\n",
            "|{14000, JUSTICA ELEITORAL}                            |{00449824, 14000, Serviços}         |{00449824, SOFTEXPERT SOFTWARE S.A.}                |{14000, 00449824, Informática (TIC)}|{14000, JUSTICA ELEITORAL}                            |{00449824, 14000, Informática (TIC)}|{00449824, SOFTEXPERT SOFTWARE S.A.}                  |\n",
            "|{20411, INSTITUTO DO PATRIMONIO HIST. E ART. NACIONAL}|{00928375, 20411, Informática (TIC)}|{00928375, DELTALAB CONSULTORIA E TREINAMENTOS LTDA}|{20411, 00928375, Informática (TIC)}|{20411, INSTITUTO DO PATRIMONIO HIST. E ART. NACIONAL}|{00928375, 20411, Informática (TIC)}|{00928375, DELTALAB CONSULTORIA E TREINAMENTOS LTDA}  |\n",
            "|{26267, UNIVERS. FEDERAL DA INTEG. LATINO AMERICANA}  |{00510077, 26267, Informática (TIC)}|{00510077, FRAZILLIO SOLUCOES DE TECNOLOGIA LTDA}   |{26267, 00510077, Informática (TIC)}|{26267, UNIVERS. FEDERAL DA INTEG. LATINO AMERICANA}  |{00510077, 26267, Informática (TIC)}|{00510077, FRAZILLIO SOLUCOES DE TECNOLOGIA LTDA}     |\n",
            "|{00103115, BRASOFTWARE INTERNET LTDA}                 |{95448, 00103115, Informática (TIC)}|{95448, PMSP - SECRETARIA MUNICIPAL DA FAZENDA}     |{00510077, 95448, Serviços}         |{00510077, FRAZILLIO SOLUCOES DE TECNOLOGIA LTDA}     |{26274, 00510077, Informática (TIC)}|{26274, FUNDACAO UNIVERSIDADE FEDERAL DE UBERLANDIA}  |\n",
            "|{00510077, FRAZILLIO SOLUCOES DE TECNOLOGIA LTDA}     |{95451, 00510077, Informática (TIC)}|{95451, PMSP - SECRETARIA MUNICIPAL DE CULTURA}     |{00510077, 95451, Informática (TIC)}|{00510077, FRAZILLIO SOLUCOES DE TECNOLOGIA LTDA}     |{95451, 00510077, Informática (TIC)}|{95451, PMSP - SECRETARIA MUNICIPAL DE CULTURA}       |\n",
            "|{26267, UNIVERS. FEDERAL DA INTEG. LATINO AMERICANA}  |{00510077, 26267, Informática (TIC)}|{00510077, FRAZILLIO SOLUCOES DE TECNOLOGIA LTDA}   |{26274, 00510077, Informática (TIC)}|{26274, FUNDACAO UNIVERSIDADE FEDERAL DE UBERLANDIA}  |{00510077, 26274, Informática (TIC)}|{00510077, FRAZILLIO SOLUCOES DE TECNOLOGIA LTDA}     |\n",
            "|{37000, CONTROLADORIA-GERAL DA UNIAO}                 |{00660928, 37000, Informática (TIC)}|{00660928, LIFE TECNOLOGIA E CONSULTORIA LTDA}      |{24209, 00660928, Informática (TIC)}|{24209, CENTRO NAC DE TECN ELETRONICA AVANCADA S/A}   |{00660928, 24209, Informática (TIC)}|{00660928, LIFE TECNOLOGIA E CONSULTORIA LTDA}        |\n",
            "|{26274, FUNDACAO UNIVERSIDADE FEDERAL DE UBERLANDIA}  |{00510077, 26274, Informática (TIC)}|{00510077, FRAZILLIO SOLUCOES DE TECNOLOGIA LTDA}   |{95448, 00510077, Serviços}         |{95448, PMSP - SECRETARIA MUNICIPAL DA FAZENDA}       |{00103115, 95448, Informática (TIC)}|{00103115, BRASOFTWARE INTERNET LTDA}                 |\n",
            "|{14000, JUSTICA ELEITORAL}                            |{00449824, 14000, Informática (TIC)}|{00449824, SOFTEXPERT SOFTWARE S.A.}                |{20301, 00449824, Informática (TIC)}|{20301, COMISSAO NACIONAL DE ENERGIA NUCLEAR}         |{00449824, 20301, Informática (TIC)}|{00449824, SOFTEXPERT SOFTWARE S.A.}                  |\n",
            "|{37000, CONTROLADORIA-GERAL DA UNIAO}                 |{00660928, 37000, Informática (TIC)}|{00660928, LIFE TECNOLOGIA E CONSULTORIA LTDA}      |{37000, 00660928, Informática (TIC)}|{37000, CONTROLADORIA-GERAL DA UNIAO}                 |{00660928, 37000, Informática (TIC)}|{00660928, LIFE TECNOLOGIA E CONSULTORIA LTDA}        |\n",
            "+------------------------------------------------------+------------------------------------+----------------------------------------------------+------------------------------------+------------------------------------------------------+------------------------------------+------------------------------------------------------+\n",
            "only showing top 20 rows\n",
            "\n"
          ]
        }
      ]
    }
  ],
  "metadata": {
    "colab": {
      "provenance": [],
      "collapsed_sections": [
        "lS_y2XGBdHOF",
        "1aowaj8ORhDc",
        "LCvtsFAM9iJ_"
      ]
    },
    "kernelspec": {
      "display_name": "Python 3",
      "name": "python3"
    }
  },
  "nbformat": 4,
  "nbformat_minor": 0
}